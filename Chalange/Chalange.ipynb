{
 "cells": [
  {
   "cell_type": "markdown",
   "metadata": {},
   "source": [
    "# wat is de connectie tussen vertragingen en het weer.\n",
    "\n",
    "dit noteboek is bedoeld voor AI4 semester Fontys ICT, eigen chalange. \n",
    "\n",
    "in dit notebook ga ik proberen te achterhallen of het weer een roll speelt met een vertraging in het openbaren trein verkeer.\n",
    "\n",
    "met deze datasets hoop ik te kunnen vinden of en waar er een goede verbinding is.\n"
   ]
  },
  {
   "cell_type": "markdown",
   "metadata": {},
   "source": [
    "in mijn chalage ga ik gebruik maken van phyton pandas, een library om datasets in te laden. ik ga daarnaast ook gebruik maken van plotly om het mooi aan te geven en sklearn voor de machine learning algoritmes.\n",
    "\n",
    "dependencies voor de chalange:"
   ]
  },
  {
   "cell_type": "code",
   "execution_count": 40,
   "metadata": {},
   "outputs": [],
   "source": [
    "# dependacies\n",
    "import os\n",
    "import numpy as np\n",
    "# import matplotlib as mpl\n",
    "from matplotlib import pyplot as plt\n",
    "import seaborn as sns\n",
    "import pandas as pd\n",
    "from datetime import datetime\n",
    "# from geopy.exc import GeocoderTimedOut\n",
    "# from geopy.geocoders import Nominatim\n",
    "# from geopy.distance import geodesic\n",
    "import plotly.express as px\n",
    "import plotly.graph_objects as go\n",
    "\n",
    "import warnings\n",
    "warnings.filterwarnings('ignore')\n",
    "\n",
    "from sklearn.impute import KNNImputer\n",
    "\n",
    "datafolder = 'data/'\n",
    "\n",
    "max_data = datetime(2023, 3, 31, 23, 59, 59)"
   ]
  },
  {
   "cell_type": "markdown",
   "metadata": {},
   "source": [
    "# 📦 Data opzet\n",
    "\n",
    "nu ben ik op zoek gegaan naar datasets die van belang kunnen zijn in mijn opdracht. \n",
    "\n",
    "dit zijn data sets die ik heb gekozen:\n",
    "- [rijden de trijnen. Treinarchief](https://www.rijdendetreinen.nl/open-data/treinarchief)\n",
    "- [rijden de trijnen. treinstoringen](https://www.rijdendetreinen.nl/open-data/treinstoringen)\n",
    "- [KNMI weerstations Uurwaarnemingen](https://www.daggegevens.knmi.nl/klimatologie/uurgegevens)\n",
    "- [Train Stations in Europe](https://www.kaggle.com/datasets/headsortails/train-stations-in-europe)\n",
    "\n",
    "\n",
    "in deze datasets staat het all het trein verkeer, het trein verkeer dat van gezecht word dat het een storing was, het weer in uren en de locatie van het trein station."
   ]
  },
  {
   "cell_type": "markdown",
   "metadata": {},
   "source": [
    "### 🚄 treinarchief laden.\n",
    "\n",
    "de code hieronder laad het trainarchief in. in dit treinarchief hebben we de volgende colomen volgens [rijden de trijnen](https://www.rijdendetreinen.nl/):\n",
    "- `Service:RDT-ID` Dit ID wordt gebruikt voor deze rit. Het heeft geen nuttige betekenis buiten het uniek identificeren van een enkele rit op een enkele datum.\n",
    ">Dit ID zal meerdere keren voorkomen in de CSV-bestanden omdat dit ID uniek is voor iedere rit. Er is ook een kolom Stop:RDT-ID met een uniek ID voor iedere stop.\n",
    "- `Service:Date` De geplande datum voor deze rit.\n",
    ">De ritdatum is niet altijd de logische datum. Bijvoorbeeld: een rit die vertrekt om 23:59 op 31 juli en aankomt om 02:00 op 1 augustus heeft een ritdatum van 31 juli. Vertragingen hebben geen invloed op de ritdatum.\n",
    "- `Service:Type` Het soort trein, zoals Intercity, Sprinter of ICE International.\n",
    "- `Service:Company` Vervoerder die deze rit uitvoert, zoals NS of Arriva.\n",
    "- `Service:Train number` Het treinnummer (ritnummer) voor deze rit identificeert deze rit uniek op deze datum. Dit nummer wordt soms ook gecommuniceerd naar reizigers (vooral voor internationale treinen). \n",
    "> Een enkele rit kan soms meerdere treinnummers hebben. Bijvoorbeeld wanneer een trein gesplitst wordt in twee delen, of wanneer een trein op een groot station halverwege van treinnummer verandert.\n",
    "- `Service:Completely cancelled` Deze kolom is true wanneer alle stops van deze rit opgeheven zijn. Of met andere woorden: wanneer de trein helemaal niet rijdt.\n",
    "- `Service:Partly cancelled` Deze kolom is true wanneer een of meer stops van deze rit opgeheven zijn. Of met andere woorden: wanneer de trein niet rijdt op een deel van het traject.\n",
    "- `Service:Maximum delay` De hoogste vertraging (in minuten) van alle stops van deze rit.\n",
    "- `Stop:RDT-ID` Unieke ID voor deze stop. Dit ID is uniek voor iedere stop in de dataset. Het heeft verder geen nuttige betekenis.\n",
    "- `Stop:Station code` Code (verkorting) van de stationsnaam.\n",
    "- `Stop:Station name` De naam van het station.\n",
    "- `Stop:Arrival time` Geplande aankomsttijd in RFC 3339-formaat. Deze kolom is leeg wanneer er geen aankomst gepland was.\n",
    "- `Stop:Arrival delay` Vertraging bij aankomst in minuten. Deze kolom is leeg wanneer er geen aankomst gepland was.\n",
    "- `Stop:Arrival cancelled` Deze kolom is true wanneer de aankomst op deze stop opgeheven is. Deze kolom is leeg wanneer er geen aankomst gepland was.\n",
    "- `Stop:Departure time` Geplande vertrektijd in RFC 3339-formaat. Deze kolom is leeg wanneer er geen vertrek gepland was.\n",
    "- `Stop:Departure delay` Vertraging bij vertrek in minuten. Deze kolom is leeg wanneer er geen vertrek gepland was.\n",
    "- `Stop:Departure cancelled` Deze kolom is true wanneer het vertrek op deze stop opgeheven is. Deze kolom is leeg wanneer er geen vertrek gepland was.\n"
   ]
  },
  {
   "cell_type": "markdown",
   "metadata": {},
   "source": [
    "In de code laad ik de dataset in en verander ik de datum naar een datetime zodat ik hem dan kan verminderen naar het zoekgebied die ik op het moment heb in de weer dataset. daarna zet ik type en bedrijf naar kleine letters omdat de dataset handmatig soms is aangepast en dan worden hoofdletter vergeten."
   ]
  },
  {
   "cell_type": "code",
   "execution_count": 41,
   "metadata": {},
   "outputs": [
    {
     "name": "stdout",
     "output_type": "stream",
     "text": [
      "er zijn 5142250 entries ingeladen\n"
     ]
    }
   ],
   "source": [
    "Train_trafic_2023 = pd.read_csv(datafolder + 'services-2023/services-2023.csv', sep=',', low_memory=False)\n",
    "\n",
    "Train_trafic_2023['Service:Date'] = pd.to_datetime(Train_trafic_2023['Service:Date'], format=\"%Y-%m-%d\")\n",
    "\n",
    "Train_trafic_2023['Service:Type'] = Train_trafic_2023['Service:Type'].str.lower()\n",
    "Train_trafic_2023['Service:Company'] = Train_trafic_2023['Service:Company'].str.lower()\n",
    "Train_trafic_2023['Stop:Station name'] = Train_trafic_2023['Stop:Station name'].str.lower()\n",
    "\n",
    "# Train_trafic_2023 = Train_trafic_2023[Train_trafic_2023['Service:Company'] == 'ns']\n",
    "\n",
    "Train_trafic_2023 = Train_trafic_2023[Train_trafic_2023['Service:Date'] < max_data]\n",
    "\n",
    "print(f'er zijn {len(Train_trafic_2023)} entries ingeladen') "
   ]
  },
  {
   "cell_type": "markdown",
   "metadata": {},
   "source": [
    "### 🌥️ KNMI Uurwaarnemingen laden\n",
    "\n",
    "in de code hieronder laad ik de uurwaarneming van het weer in. dit is waarom meerendeels van het project alleen over de eerse 2 maanden van het project gaan. <p>\n",
    "in de dataset van het weer hebben we:\n",
    "- `STN` dit is het weer station nummer\n",
    "- `YYYYMMDD` datum (YYYY=jaar;MM=maand;DD=dag)\n",
    "- `start_time` tijd (HH=uur; UT.12 UT=13 MET; 14 MEZT. Uurvak 05 loopt van 04.00 UT tot 5.00 UT)\n",
    "- `DD` Windrichting (in graden) gemiddeld over de laatste 10 minuten van het afgelopen uur (360=noord; 90=oost; 180=zuid; 270=west; 0=windstil 990=veranderlijk.\n",
    "- `FH` Uurgemiddelde windsnelheid (in 0.1 m/s).\n",
    "- `FF` Windsnelheid (in 0.1 m/s) gemiddeld over de laatste 10 minuten van het afgelopen uur.\n",
    "- `FX` Hoogste windstoot (in 0.1 m/s) over het afgelopen uurvak.\n",
    "- `temp` Temperatuur (in 0.1 graden Celsius) op 1.50 m hoogte tijdens de waarneming.\n",
    "- `T10N` Minimumtemperatuur (in 0.1 graden Celsius) op 10 cm hoogte in de afgelopen 6 uur.\n",
    "- `TD` Dauwpuntstemperatuur (in 0.1 graden Celsius) op 1.50 m hoogte tijdens de waarneming.\n",
    "- `SQ` Duur van de zonneschijn (in 0.1 uren) per uurvak; berekend uit globale straling  (-1 for <0.05 uur).\n",
    "- `Q` Globale straling (in J/cm2) per uurvak.\n",
    "- `DR` Duur van de neerslag (in 0.1 uur) per uurvak.\n",
    "- `RH` Uursom van de neerslag (in 0.1 mm) (-1 voor <0.05 mm).\n",
    "- `P` Luchtdruk (in 0.1 hPa) herleid naar zeeniveau; tijdens de waarneming.\n",
    "- `VV` Horizontaal zicht tijdens de waarneming (0=minder dan 100m; 1=100-200m; 2=200-300m;...; 49=4900-5000m; 50=5-6km; 56=6-7km; 57=7-8km; ...; 79=29-30km; 80=30-35km; 81=35-40km;...; 89=meer dan 70km).\n",
    "- `N` Bewolking (bedekkingsgraad van de bovenlucht in achtsten); tijdens de waarneming (9=bovenlucht onzichtbaar).\n",
    "- `U` Relatieve vochtigheid (in procenten) op 1.50 m hoogte tijdens de waarneming.\n",
    "- `WW` Weercode (00-99); visueel(WW) of automatisch(WaWa) waargenomen; voor het actuele weer of het weer in het afgelopen uur.\n",
    "- `IX` Weercode indicator voor de wijze van waarnemen op een bemand of automatisch station (1=bemand gebruikmakend van code uit visuele waarnemingen; 2;3=bemand en weggelaten (geen belangrijk weersverschijnsel; geen gegevens); 4=automatisch en opgenomen (gebruikmakend van code uit visuele waarnemingen); 5;6=automatisch en weggelaten (geen belangrijk weersverschijnsel; geen gegevens); 7=automatisch gebruikmakend van code uit automatische waarnemingen).\n",
    "- `M` Mist 0=niet voorgekomen; 1=wel voorgekomen in het voorgaande uur en/of tijdens de waarneming.\n",
    "- `R` Regen 0=niet voorgekomen; 1=wel voorgekomen in het voorgaande uur en/of tijdens de waarneming.\n",
    "- `S` Sneeuw 0=niet voorgekomen; 1=wel voorgekomen in het voorgaande uur en/of tijdens de waarneming.\n",
    "- `O` Onweer 0=niet voorgekomen; 1=wel voorgekomen in het voorgaande uur en/of tijdens de waarneming.\n",
    "- `Y` IJsvorming 0=niet voorgekomen; 1=wel voorgekomen in het voorgaande uur en/of tijdens de waarneming.\n"
   ]
  },
  {
   "cell_type": "markdown",
   "metadata": {},
   "source": [
    "hier laad ik het weer in dat en zet de start_time of de start tijd naar een datetime. daarby combineer ik twee colommen om een datum en tijd in 1 colom te krijgen."
   ]
  },
  {
   "cell_type": "code",
   "execution_count": 42,
   "metadata": {},
   "outputs": [
    {
     "name": "stdout",
     "output_type": "stream",
     "text": [
      "er zijn 99360 entries ingeladen\n"
     ]
    }
   ],
   "source": [
    "weather_2023 = pd.read_csv(datafolder + '2023-jan-mar.csv', sep=',', low_memory=False, encoding='utf-8', skiprows=80)\n",
    "\n",
    "weather_2023['start_time'] = weather_2023['start_time'].astype(str) + ' ' + (weather_2023['HH'] - 1).astype(str) + ':00:00'\n",
    "\n",
    "weather_2023['start_time'] = pd.to_datetime(weather_2023['start_time'], format=\"%Y%m%d %H:%M:%S\")\n",
    "#  drop columns that are not needed\n",
    "# weather_2023 = weather_2023.drop(columns=['HH', 'WW', 'IX', 'FH', 'FX', 'TD', 'SQ', 'RH'])\n",
    "weather_2023 = weather_2023.drop(columns=['HH'])\n",
    "\n",
    "print(f'er zijn {len(weather_2023)} entries ingeladen') "
   ]
  },
  {
   "cell_type": "markdown",
   "metadata": {},
   "source": [
    "de weer dataset bestaat uit 2 datasets. de gene hierboven die voor de gegevens uit de weer stations.\n",
    "en de gene hieronder die gaat over de weer station Locaties.\n",
    "\n",
    "\n",
    "de weer station locatie dataset heeft de collomen:\n",
    "- `STN` dit is het weer station nummer.\n",
    "- `LON(east)` dit is de longitude van het weer station.\n",
    "- `LAT(north)` dit is de latitude van het weer station.\n",
    "- `ALT(m)` dit is de hoogte waarop het station staat.\n",
    "- `NAME` de naam van waar het weer station staat.\n",
    "\n",
    "met deze gegevens hoop ik te achterhalen wat het weer was het station van aankoms."
   ]
  },
  {
   "cell_type": "code",
   "execution_count": 43,
   "metadata": {},
   "outputs": [
    {
     "name": "stdout",
     "output_type": "stream",
     "text": [
      "er zijn 50 entries ingeladen\n"
     ]
    }
   ],
   "source": [
    "weather_station_location = pd.read_csv(datafolder + 'Weather-stations-loc.csv', sep=',', low_memory=False, encoding='utf-8')\n",
    "print(f'er zijn {len(weather_station_location)} entries ingeladen') "
   ]
  },
  {
   "cell_type": "markdown",
   "metadata": {},
   "source": [
    "### 🏟️ trein station \n",
    "\n",
    "in de dataset hieronder zitten alle trein stations van europa. ik zal minder nodig hebben dus zal met de country alleen nederland, duitserland en belgie gaan houden. dit is ook omdat mijn andere datasets niet verder kijken dan die locaties.\n",
    "\n",
    "in deze dataset zit:\n",
    "- `id` de primary sleutel van de data.\n",
    "- `name` Naam van het station zoals het lokaal bekend is. Deze namen bevatten accenten en andere speciale tekens.\n",
    "- `name_norm` De gelatiniseerde versie van de naam.\n",
    "- `uic` International Union of Railways (UIC) code.\n",
    "- `latitude` Coordinates\n",
    "- `longitude` Coordinates\n",
    "- `parent_station_id` A station can belong to a meta station whose `id` is this value.\n",
    "- `country` Landcodes in ISO 3166-1 alpha-2 formaat (2 cijfers).\n",
    "- `time_zone` Continent/Land ISO-codes. Deze lijken equivalent te zijn aan Olson-namen (bijvoorbeeld “Europe/Berlin”).\n",
    "- `is_city` Gemarkeerd als “onbetrouwbaar” in de bron dataset.\n",
    "- `is_main_station` \n",
    "- `is_airport` \n",
    "- `entur_id` \n",
    "- `entur_is_enabled` \n",
    "\n",
    "ik zal deze dataset gebruiken om de locaties van de trein stations te vinden. <p>\n",
    "en aangezien ik alleen de locaties hoef te hebben zal ik die ook allen onthouden. naast de belangerijke data zoals Namen die het kunnen zijn en in welk land ze zitten.\n",
    "\n",
    "met de hulp van deze gegevens hoop ik de gaten in mijn gegevens te vullen. \n"
   ]
  },
  {
   "cell_type": "code",
   "execution_count": 44,
   "metadata": {},
   "outputs": [
    {
     "name": "stdout",
     "output_type": "stream",
     "text": [
      "er zijn 64037 entries ingeladen\n"
     ]
    }
   ],
   "source": [
    "europa_train_station_locations = pd.read_csv(datafolder + 'train_stations_europe.csv', low_memory=False, encoding='utf-8')\n",
    "\n",
    "europa_train_station_locations = europa_train_station_locations.drop(columns=['id', 'uic', 'parent_station_id', 'time_zone', 'is_city', 'is_main_station', 'is_airport', 'entur_id', 'entur_is_enabled'])\n",
    "\n",
    "# europa_train_station_locations['country'] = pd.Categorical(europa_train_station_locations['country'], categories=['NL', 'DE', 'BE'], ordered=True)\n",
    "# europa_train_station_locations = europa_train_station_locations[europa_train_station_locations['country'].notna()]\n",
    "\n",
    "europa_train_station_locations['name'] = europa_train_station_locations['name'].str.lower()\n",
    "\n",
    "print(f'er zijn {len(europa_train_station_locations)} entries ingeladen') "
   ]
  },
  {
   "cell_type": "markdown",
   "metadata": {},
   "source": [
    "# 📃 Sample de data\n",
    "\n",
    "om even naar de data te kijken ga ik 20 van iedere dataset hieronder laden. dit is om te kijken of het wel goed is ingeladen en dat de data er een beetje werkzaam uitziet.\n",
    "\n",
    "### 🚄 treinarchief laden.\n",
    "\n",
    "hier laad ik de samples van het trein verkeer.\n",
    "en ik laat daaronder ook even zien of er NULL variables zitten in de dataset. bij dit treinarchief maaken NULL variabelen niet out want dat heeft namelijk ook een belangerijke reden. deze reden is dat een NULL gewoon betekend dat het niet voorkwam en aangezien een vertraging die NULL is is gewoon dat er geen vertraging is vermeld."
   ]
  },
  {
   "cell_type": "code",
   "execution_count": 45,
   "metadata": {},
   "outputs": [
    {
     "data": {
      "text/html": [
       "<div>\n",
       "<style scoped>\n",
       "    .dataframe tbody tr th:only-of-type {\n",
       "        vertical-align: middle;\n",
       "    }\n",
       "\n",
       "    .dataframe tbody tr th {\n",
       "        vertical-align: top;\n",
       "    }\n",
       "\n",
       "    .dataframe thead th {\n",
       "        text-align: right;\n",
       "    }\n",
       "</style>\n",
       "<table border=\"1\" class=\"dataframe\">\n",
       "  <thead>\n",
       "    <tr style=\"text-align: right;\">\n",
       "      <th></th>\n",
       "      <th>Service:RDT-ID</th>\n",
       "      <th>Service:Date</th>\n",
       "      <th>Service:Type</th>\n",
       "      <th>Service:Company</th>\n",
       "      <th>Service:Train number</th>\n",
       "      <th>Service:Completely cancelled</th>\n",
       "      <th>Service:Partly cancelled</th>\n",
       "      <th>Service:Maximum delay</th>\n",
       "      <th>Stop:RDT-ID</th>\n",
       "      <th>Stop:Station code</th>\n",
       "      <th>Stop:Station name</th>\n",
       "      <th>Stop:Arrival time</th>\n",
       "      <th>Stop:Arrival delay</th>\n",
       "      <th>Stop:Arrival cancelled</th>\n",
       "      <th>Stop:Departure time</th>\n",
       "      <th>Stop:Departure delay</th>\n",
       "      <th>Stop:Departure cancelled</th>\n",
       "    </tr>\n",
       "  </thead>\n",
       "  <tbody>\n",
       "    <tr>\n",
       "      <th>2659809</th>\n",
       "      <td>10648458</td>\n",
       "      <td>2023-02-17</td>\n",
       "      <td>intercity</td>\n",
       "      <td>ns</td>\n",
       "      <td>3019</td>\n",
       "      <td>False</td>\n",
       "      <td>False</td>\n",
       "      <td>0</td>\n",
       "      <td>95732620</td>\n",
       "      <td>ED</td>\n",
       "      <td>ede-wageningen</td>\n",
       "      <td>2023-02-17T07:18:00+01:00</td>\n",
       "      <td>0.0</td>\n",
       "      <td>False</td>\n",
       "      <td>2023-02-17T07:18:00+01:00</td>\n",
       "      <td>0.0</td>\n",
       "      <td>False</td>\n",
       "    </tr>\n",
       "    <tr>\n",
       "      <th>427909</th>\n",
       "      <td>10411639</td>\n",
       "      <td>2023-01-09</td>\n",
       "      <td>intercity</td>\n",
       "      <td>ns</td>\n",
       "      <td>3034</td>\n",
       "      <td>False</td>\n",
       "      <td>False</td>\n",
       "      <td>0</td>\n",
       "      <td>93500692</td>\n",
       "      <td>ASS</td>\n",
       "      <td>amsterdam sloterdijk</td>\n",
       "      <td>2023-01-09T12:15:00+01:00</td>\n",
       "      <td>0.0</td>\n",
       "      <td>False</td>\n",
       "      <td>2023-01-09T12:15:00+01:00</td>\n",
       "      <td>0.0</td>\n",
       "      <td>False</td>\n",
       "    </tr>\n",
       "    <tr>\n",
       "      <th>168405</th>\n",
       "      <td>10385277</td>\n",
       "      <td>2023-01-04</td>\n",
       "      <td>sprinter</td>\n",
       "      <td>ns</td>\n",
       "      <td>7638</td>\n",
       "      <td>False</td>\n",
       "      <td>False</td>\n",
       "      <td>0</td>\n",
       "      <td>93241213</td>\n",
       "      <td>DR</td>\n",
       "      <td>dieren</td>\n",
       "      <td>2023-01-04T11:17:00+01:00</td>\n",
       "      <td>0.0</td>\n",
       "      <td>False</td>\n",
       "      <td>2023-01-04T11:18:00+01:00</td>\n",
       "      <td>0.0</td>\n",
       "      <td>False</td>\n",
       "    </tr>\n",
       "    <tr>\n",
       "      <th>2206173</th>\n",
       "      <td>10600189</td>\n",
       "      <td>2023-02-09</td>\n",
       "      <td>sprinter</td>\n",
       "      <td>ns</td>\n",
       "      <td>6623</td>\n",
       "      <td>False</td>\n",
       "      <td>False</td>\n",
       "      <td>0</td>\n",
       "      <td>95278955</td>\n",
       "      <td>TBR</td>\n",
       "      <td>tilburg reeshof</td>\n",
       "      <td>2023-02-09T08:26:00+01:00</td>\n",
       "      <td>0.0</td>\n",
       "      <td>False</td>\n",
       "      <td>2023-02-09T08:26:00+01:00</td>\n",
       "      <td>0.0</td>\n",
       "      <td>False</td>\n",
       "    </tr>\n",
       "    <tr>\n",
       "      <th>4989834</th>\n",
       "      <td>10900223</td>\n",
       "      <td>2023-03-29</td>\n",
       "      <td>intercity</td>\n",
       "      <td>ns</td>\n",
       "      <td>2452</td>\n",
       "      <td>False</td>\n",
       "      <td>False</td>\n",
       "      <td>0</td>\n",
       "      <td>98062472</td>\n",
       "      <td>GV</td>\n",
       "      <td>den haag hs</td>\n",
       "      <td>2023-03-29T16:41:00+02:00</td>\n",
       "      <td>0.0</td>\n",
       "      <td>False</td>\n",
       "      <td>2023-03-29T16:43:00+02:00</td>\n",
       "      <td>0.0</td>\n",
       "      <td>False</td>\n",
       "    </tr>\n",
       "    <tr>\n",
       "      <th>417310</th>\n",
       "      <td>10410542</td>\n",
       "      <td>2023-01-09</td>\n",
       "      <td>stoptrein</td>\n",
       "      <td>arriva</td>\n",
       "      <td>30916</td>\n",
       "      <td>False</td>\n",
       "      <td>False</td>\n",
       "      <td>0</td>\n",
       "      <td>93490093</td>\n",
       "      <td>DVN</td>\n",
       "      <td>duiven</td>\n",
       "      <td>2023-01-09T08:44:00+01:00</td>\n",
       "      <td>2.0</td>\n",
       "      <td>False</td>\n",
       "      <td>2023-01-09T08:44:00+01:00</td>\n",
       "      <td>3.0</td>\n",
       "      <td>False</td>\n",
       "    </tr>\n",
       "    <tr>\n",
       "      <th>188887</th>\n",
       "      <td>10387359</td>\n",
       "      <td>2023-01-04</td>\n",
       "      <td>sprinter</td>\n",
       "      <td>ns</td>\n",
       "      <td>6461</td>\n",
       "      <td>False</td>\n",
       "      <td>False</td>\n",
       "      <td>0</td>\n",
       "      <td>93261697</td>\n",
       "      <td>WT</td>\n",
       "      <td>weert</td>\n",
       "      <td>2023-01-04T18:39:00+01:00</td>\n",
       "      <td>0.0</td>\n",
       "      <td>False</td>\n",
       "      <td>NaN</td>\n",
       "      <td>NaN</td>\n",
       "      <td>NaN</td>\n",
       "    </tr>\n",
       "    <tr>\n",
       "      <th>2956341</th>\n",
       "      <td>10680667</td>\n",
       "      <td>2023-02-22</td>\n",
       "      <td>stoptrein</td>\n",
       "      <td>arriva</td>\n",
       "      <td>32021</td>\n",
       "      <td>True</td>\n",
       "      <td>True</td>\n",
       "      <td>0</td>\n",
       "      <td>96029126</td>\n",
       "      <td>MT</td>\n",
       "      <td>maastricht</td>\n",
       "      <td>2023-02-22T09:49:00+01:00</td>\n",
       "      <td>0.0</td>\n",
       "      <td>True</td>\n",
       "      <td>2023-02-22T09:52:00+01:00</td>\n",
       "      <td>0.0</td>\n",
       "      <td>True</td>\n",
       "    </tr>\n",
       "    <tr>\n",
       "      <th>507810</th>\n",
       "      <td>10419671</td>\n",
       "      <td>2023-01-10</td>\n",
       "      <td>sneltrein</td>\n",
       "      <td>eurobahn</td>\n",
       "      <td>20086</td>\n",
       "      <td>False</td>\n",
       "      <td>False</td>\n",
       "      <td>0</td>\n",
       "      <td>93580587</td>\n",
       "      <td>WUPPV</td>\n",
       "      <td>wuppertal-vohwinkel</td>\n",
       "      <td>2023-01-10T17:29:00+01:00</td>\n",
       "      <td>0.0</td>\n",
       "      <td>False</td>\n",
       "      <td>2023-01-10T17:30:00+01:00</td>\n",
       "      <td>0.0</td>\n",
       "      <td>False</td>\n",
       "    </tr>\n",
       "    <tr>\n",
       "      <th>3273351</th>\n",
       "      <td>10717663</td>\n",
       "      <td>2023-02-24</td>\n",
       "      <td>intercity</td>\n",
       "      <td>ns</td>\n",
       "      <td>303083</td>\n",
       "      <td>False</td>\n",
       "      <td>True</td>\n",
       "      <td>0</td>\n",
       "      <td>96346140</td>\n",
       "      <td>AMRN</td>\n",
       "      <td>alkmaar noord</td>\n",
       "      <td>2023-02-24T21:37:00+01:00</td>\n",
       "      <td>0.0</td>\n",
       "      <td>True</td>\n",
       "      <td>2023-02-24T21:37:00+01:00</td>\n",
       "      <td>0.0</td>\n",
       "      <td>True</td>\n",
       "    </tr>\n",
       "    <tr>\n",
       "      <th>4563933</th>\n",
       "      <td>10854180</td>\n",
       "      <td>2023-03-22</td>\n",
       "      <td>intercity</td>\n",
       "      <td>ns</td>\n",
       "      <td>848</td>\n",
       "      <td>False</td>\n",
       "      <td>True</td>\n",
       "      <td>0</td>\n",
       "      <td>97636736</td>\n",
       "      <td>EHV</td>\n",
       "      <td>eindhoven centraal</td>\n",
       "      <td>2023-03-22T14:02:00+01:00</td>\n",
       "      <td>0.0</td>\n",
       "      <td>False</td>\n",
       "      <td>2023-03-22T14:06:00+01:00</td>\n",
       "      <td>0.0</td>\n",
       "      <td>True</td>\n",
       "    </tr>\n",
       "    <tr>\n",
       "      <th>1150967</th>\n",
       "      <td>10486761</td>\n",
       "      <td>2023-01-21</td>\n",
       "      <td>nightjet</td>\n",
       "      <td>ns int</td>\n",
       "      <td>403</td>\n",
       "      <td>False</td>\n",
       "      <td>False</td>\n",
       "      <td>0</td>\n",
       "      <td>94223769</td>\n",
       "      <td>UT</td>\n",
       "      <td>utrecht centraal</td>\n",
       "      <td>2023-01-21T20:58:00+01:00</td>\n",
       "      <td>0.0</td>\n",
       "      <td>False</td>\n",
       "      <td>2023-01-21T21:01:00+01:00</td>\n",
       "      <td>1.0</td>\n",
       "      <td>False</td>\n",
       "    </tr>\n",
       "    <tr>\n",
       "      <th>637349</th>\n",
       "      <td>10432842</td>\n",
       "      <td>2023-01-12</td>\n",
       "      <td>stoptrein</td>\n",
       "      <td>blauwnet</td>\n",
       "      <td>8074</td>\n",
       "      <td>False</td>\n",
       "      <td>False</td>\n",
       "      <td>0</td>\n",
       "      <td>93710148</td>\n",
       "      <td>NaN</td>\n",
       "      <td>nieuw amsterdam</td>\n",
       "      <td>2023-01-12T18:49:00+01:00</td>\n",
       "      <td>0.0</td>\n",
       "      <td>False</td>\n",
       "      <td>2023-01-12T18:50:00+01:00</td>\n",
       "      <td>0.0</td>\n",
       "      <td>False</td>\n",
       "    </tr>\n",
       "    <tr>\n",
       "      <th>100073</th>\n",
       "      <td>10378191</td>\n",
       "      <td>2023-01-03</td>\n",
       "      <td>sprinter</td>\n",
       "      <td>ns</td>\n",
       "      <td>6927</td>\n",
       "      <td>False</td>\n",
       "      <td>False</td>\n",
       "      <td>0</td>\n",
       "      <td>93171071</td>\n",
       "      <td>UTVR</td>\n",
       "      <td>utrecht vaartsche rijn</td>\n",
       "      <td>2023-01-03T08:24:00+01:00</td>\n",
       "      <td>0.0</td>\n",
       "      <td>False</td>\n",
       "      <td>2023-01-03T08:24:00+01:00</td>\n",
       "      <td>0.0</td>\n",
       "      <td>False</td>\n",
       "    </tr>\n",
       "    <tr>\n",
       "      <th>3306171</th>\n",
       "      <td>10721371</td>\n",
       "      <td>2023-02-28</td>\n",
       "      <td>stoptrein</td>\n",
       "      <td>db</td>\n",
       "      <td>20264</td>\n",
       "      <td>False</td>\n",
       "      <td>False</td>\n",
       "      <td>0</td>\n",
       "      <td>96378959</td>\n",
       "      <td>EDD</td>\n",
       "      <td>dortmund derne</td>\n",
       "      <td>2023-02-28T11:01:00+01:00</td>\n",
       "      <td>0.0</td>\n",
       "      <td>False</td>\n",
       "      <td>2023-02-28T11:01:00+01:00</td>\n",
       "      <td>0.0</td>\n",
       "      <td>False</td>\n",
       "    </tr>\n",
       "    <tr>\n",
       "      <th>2183801</th>\n",
       "      <td>10597857</td>\n",
       "      <td>2023-02-08</td>\n",
       "      <td>sprinter</td>\n",
       "      <td>ns</td>\n",
       "      <td>4463</td>\n",
       "      <td>False</td>\n",
       "      <td>False</td>\n",
       "      <td>0</td>\n",
       "      <td>95256603</td>\n",
       "      <td>BTL</td>\n",
       "      <td>boxtel</td>\n",
       "      <td>2023-02-08T18:08:00+01:00</td>\n",
       "      <td>2.0</td>\n",
       "      <td>False</td>\n",
       "      <td>2023-02-08T18:08:00+01:00</td>\n",
       "      <td>2.0</td>\n",
       "      <td>False</td>\n",
       "    </tr>\n",
       "    <tr>\n",
       "      <th>2755311</th>\n",
       "      <td>10658595</td>\n",
       "      <td>2023-02-18</td>\n",
       "      <td>stoptrein</td>\n",
       "      <td>arriva</td>\n",
       "      <td>32267</td>\n",
       "      <td>False</td>\n",
       "      <td>False</td>\n",
       "      <td>0</td>\n",
       "      <td>95828128</td>\n",
       "      <td>NMH</td>\n",
       "      <td>nijmegen heyendaal</td>\n",
       "      <td>2023-02-18T18:41:00+01:00</td>\n",
       "      <td>0.0</td>\n",
       "      <td>False</td>\n",
       "      <td>2023-02-18T18:41:00+01:00</td>\n",
       "      <td>1.0</td>\n",
       "      <td>False</td>\n",
       "    </tr>\n",
       "    <tr>\n",
       "      <th>2193776</th>\n",
       "      <td>10598871</td>\n",
       "      <td>2023-02-08</td>\n",
       "      <td>intercity</td>\n",
       "      <td>ns</td>\n",
       "      <td>8881</td>\n",
       "      <td>False</td>\n",
       "      <td>False</td>\n",
       "      <td>3</td>\n",
       "      <td>95266575</td>\n",
       "      <td>LEDN</td>\n",
       "      <td>leiden centraal</td>\n",
       "      <td>NaN</td>\n",
       "      <td>NaN</td>\n",
       "      <td>NaN</td>\n",
       "      <td>2023-02-08T21:23:00+01:00</td>\n",
       "      <td>0.0</td>\n",
       "      <td>False</td>\n",
       "    </tr>\n",
       "    <tr>\n",
       "      <th>2780785</th>\n",
       "      <td>10661478</td>\n",
       "      <td>2023-02-19</td>\n",
       "      <td>stoptrein</td>\n",
       "      <td>valleilijn</td>\n",
       "      <td>31320</td>\n",
       "      <td>False</td>\n",
       "      <td>False</td>\n",
       "      <td>0</td>\n",
       "      <td>95853589</td>\n",
       "      <td>BNC</td>\n",
       "      <td>barneveld centrum</td>\n",
       "      <td>2023-02-19T10:42:00+01:00</td>\n",
       "      <td>0.0</td>\n",
       "      <td>False</td>\n",
       "      <td>2023-02-19T10:43:00+01:00</td>\n",
       "      <td>0.0</td>\n",
       "      <td>False</td>\n",
       "    </tr>\n",
       "    <tr>\n",
       "      <th>1711361</th>\n",
       "      <td>10547480</td>\n",
       "      <td>2023-01-31</td>\n",
       "      <td>intercity</td>\n",
       "      <td>ns</td>\n",
       "      <td>3957</td>\n",
       "      <td>False</td>\n",
       "      <td>False</td>\n",
       "      <td>0</td>\n",
       "      <td>94784173</td>\n",
       "      <td>RM</td>\n",
       "      <td>roermond</td>\n",
       "      <td>2023-01-31T17:39:00+01:00</td>\n",
       "      <td>0.0</td>\n",
       "      <td>False</td>\n",
       "      <td>2023-01-31T17:40:00+01:00</td>\n",
       "      <td>0.0</td>\n",
       "      <td>False</td>\n",
       "    </tr>\n",
       "  </tbody>\n",
       "</table>\n",
       "</div>"
      ],
      "text/plain": [
       "         Service:RDT-ID Service:Date Service:Type Service:Company  \\\n",
       "2659809        10648458   2023-02-17    intercity              ns   \n",
       "427909         10411639   2023-01-09    intercity              ns   \n",
       "168405         10385277   2023-01-04     sprinter              ns   \n",
       "2206173        10600189   2023-02-09     sprinter              ns   \n",
       "4989834        10900223   2023-03-29    intercity              ns   \n",
       "417310         10410542   2023-01-09    stoptrein          arriva   \n",
       "188887         10387359   2023-01-04     sprinter              ns   \n",
       "2956341        10680667   2023-02-22    stoptrein          arriva   \n",
       "507810         10419671   2023-01-10    sneltrein        eurobahn   \n",
       "3273351        10717663   2023-02-24    intercity              ns   \n",
       "4563933        10854180   2023-03-22    intercity              ns   \n",
       "1150967        10486761   2023-01-21     nightjet          ns int   \n",
       "637349         10432842   2023-01-12    stoptrein        blauwnet   \n",
       "100073         10378191   2023-01-03     sprinter              ns   \n",
       "3306171        10721371   2023-02-28    stoptrein              db   \n",
       "2183801        10597857   2023-02-08     sprinter              ns   \n",
       "2755311        10658595   2023-02-18    stoptrein          arriva   \n",
       "2193776        10598871   2023-02-08    intercity              ns   \n",
       "2780785        10661478   2023-02-19    stoptrein      valleilijn   \n",
       "1711361        10547480   2023-01-31    intercity              ns   \n",
       "\n",
       "         Service:Train number  Service:Completely cancelled  \\\n",
       "2659809                  3019                         False   \n",
       "427909                   3034                         False   \n",
       "168405                   7638                         False   \n",
       "2206173                  6623                         False   \n",
       "4989834                  2452                         False   \n",
       "417310                  30916                         False   \n",
       "188887                   6461                         False   \n",
       "2956341                 32021                          True   \n",
       "507810                  20086                         False   \n",
       "3273351                303083                         False   \n",
       "4563933                   848                         False   \n",
       "1150967                   403                         False   \n",
       "637349                   8074                         False   \n",
       "100073                   6927                         False   \n",
       "3306171                 20264                         False   \n",
       "2183801                  4463                         False   \n",
       "2755311                 32267                         False   \n",
       "2193776                  8881                         False   \n",
       "2780785                 31320                         False   \n",
       "1711361                  3957                         False   \n",
       "\n",
       "         Service:Partly cancelled  Service:Maximum delay  Stop:RDT-ID  \\\n",
       "2659809                     False                      0     95732620   \n",
       "427909                      False                      0     93500692   \n",
       "168405                      False                      0     93241213   \n",
       "2206173                     False                      0     95278955   \n",
       "4989834                     False                      0     98062472   \n",
       "417310                      False                      0     93490093   \n",
       "188887                      False                      0     93261697   \n",
       "2956341                      True                      0     96029126   \n",
       "507810                      False                      0     93580587   \n",
       "3273351                      True                      0     96346140   \n",
       "4563933                      True                      0     97636736   \n",
       "1150967                     False                      0     94223769   \n",
       "637349                      False                      0     93710148   \n",
       "100073                      False                      0     93171071   \n",
       "3306171                     False                      0     96378959   \n",
       "2183801                     False                      0     95256603   \n",
       "2755311                     False                      0     95828128   \n",
       "2193776                     False                      3     95266575   \n",
       "2780785                     False                      0     95853589   \n",
       "1711361                     False                      0     94784173   \n",
       "\n",
       "        Stop:Station code       Stop:Station name          Stop:Arrival time  \\\n",
       "2659809                ED          ede-wageningen  2023-02-17T07:18:00+01:00   \n",
       "427909                ASS    amsterdam sloterdijk  2023-01-09T12:15:00+01:00   \n",
       "168405                 DR                  dieren  2023-01-04T11:17:00+01:00   \n",
       "2206173               TBR         tilburg reeshof  2023-02-09T08:26:00+01:00   \n",
       "4989834                GV             den haag hs  2023-03-29T16:41:00+02:00   \n",
       "417310                DVN                  duiven  2023-01-09T08:44:00+01:00   \n",
       "188887                 WT                   weert  2023-01-04T18:39:00+01:00   \n",
       "2956341                MT              maastricht  2023-02-22T09:49:00+01:00   \n",
       "507810              WUPPV     wuppertal-vohwinkel  2023-01-10T17:29:00+01:00   \n",
       "3273351              AMRN           alkmaar noord  2023-02-24T21:37:00+01:00   \n",
       "4563933               EHV      eindhoven centraal  2023-03-22T14:02:00+01:00   \n",
       "1150967                UT        utrecht centraal  2023-01-21T20:58:00+01:00   \n",
       "637349                NaN         nieuw amsterdam  2023-01-12T18:49:00+01:00   \n",
       "100073               UTVR  utrecht vaartsche rijn  2023-01-03T08:24:00+01:00   \n",
       "3306171               EDD          dortmund derne  2023-02-28T11:01:00+01:00   \n",
       "2183801               BTL                  boxtel  2023-02-08T18:08:00+01:00   \n",
       "2755311               NMH      nijmegen heyendaal  2023-02-18T18:41:00+01:00   \n",
       "2193776              LEDN         leiden centraal                        NaN   \n",
       "2780785               BNC       barneveld centrum  2023-02-19T10:42:00+01:00   \n",
       "1711361                RM                roermond  2023-01-31T17:39:00+01:00   \n",
       "\n",
       "         Stop:Arrival delay Stop:Arrival cancelled        Stop:Departure time  \\\n",
       "2659809                 0.0                  False  2023-02-17T07:18:00+01:00   \n",
       "427909                  0.0                  False  2023-01-09T12:15:00+01:00   \n",
       "168405                  0.0                  False  2023-01-04T11:18:00+01:00   \n",
       "2206173                 0.0                  False  2023-02-09T08:26:00+01:00   \n",
       "4989834                 0.0                  False  2023-03-29T16:43:00+02:00   \n",
       "417310                  2.0                  False  2023-01-09T08:44:00+01:00   \n",
       "188887                  0.0                  False                        NaN   \n",
       "2956341                 0.0                   True  2023-02-22T09:52:00+01:00   \n",
       "507810                  0.0                  False  2023-01-10T17:30:00+01:00   \n",
       "3273351                 0.0                   True  2023-02-24T21:37:00+01:00   \n",
       "4563933                 0.0                  False  2023-03-22T14:06:00+01:00   \n",
       "1150967                 0.0                  False  2023-01-21T21:01:00+01:00   \n",
       "637349                  0.0                  False  2023-01-12T18:50:00+01:00   \n",
       "100073                  0.0                  False  2023-01-03T08:24:00+01:00   \n",
       "3306171                 0.0                  False  2023-02-28T11:01:00+01:00   \n",
       "2183801                 2.0                  False  2023-02-08T18:08:00+01:00   \n",
       "2755311                 0.0                  False  2023-02-18T18:41:00+01:00   \n",
       "2193776                 NaN                    NaN  2023-02-08T21:23:00+01:00   \n",
       "2780785                 0.0                  False  2023-02-19T10:43:00+01:00   \n",
       "1711361                 0.0                  False  2023-01-31T17:40:00+01:00   \n",
       "\n",
       "         Stop:Departure delay Stop:Departure cancelled  \n",
       "2659809                   0.0                    False  \n",
       "427909                    0.0                    False  \n",
       "168405                    0.0                    False  \n",
       "2206173                   0.0                    False  \n",
       "4989834                   0.0                    False  \n",
       "417310                    3.0                    False  \n",
       "188887                    NaN                      NaN  \n",
       "2956341                   0.0                     True  \n",
       "507810                    0.0                    False  \n",
       "3273351                   0.0                     True  \n",
       "4563933                   0.0                     True  \n",
       "1150967                   1.0                    False  \n",
       "637349                    0.0                    False  \n",
       "100073                    0.0                    False  \n",
       "3306171                   0.0                    False  \n",
       "2183801                   2.0                    False  \n",
       "2755311                   1.0                    False  \n",
       "2193776                   0.0                    False  \n",
       "2780785                   0.0                    False  \n",
       "1711361                   0.0                    False  "
      ]
     },
     "metadata": {},
     "output_type": "display_data"
    },
    {
     "data": {
      "text/plain": [
       "Service:RDT-ID                       0\n",
       "Service:Date                         0\n",
       "Service:Type                         0\n",
       "Service:Company                      0\n",
       "Service:Train number                 0\n",
       "Service:Completely cancelled         0\n",
       "Service:Partly cancelled             0\n",
       "Service:Maximum delay                0\n",
       "Stop:RDT-ID                          0\n",
       "Stop:Station code                 6632\n",
       "Stop:Station name                    0\n",
       "Stop:Arrival time               551049\n",
       "Stop:Arrival delay              551049\n",
       "Stop:Arrival cancelled          551049\n",
       "Stop:Departure time             550943\n",
       "Stop:Departure delay            550943\n",
       "Stop:Departure cancelled        550943\n",
       "dtype: int64"
      ]
     },
     "metadata": {},
     "output_type": "display_data"
    }
   ],
   "source": [
    "sample_size = 20\n",
    "\n",
    "display(Train_trafic_2023.sample(sample_size))\n",
    "display(Train_trafic_2023.isna().sum())"
   ]
  },
  {
   "cell_type": "markdown",
   "metadata": {},
   "source": [
    "### 🌥️ KNMI Uurwaarnemingen laden\n",
    "hieronder laad ik de samples can de weerstations, em de weer station locaties. dit heb ik nodig om later te kijken welk weer station het dichts bij het trein station is. \n",
    "en daaronder kijk ik hoeveel NULL variables er zijn. dit betekend bij bijna alle collomen dat een weer station geen sensor ervoor heeft. \n",
    "T10N is anders want deze wordt elk 6 uur opgenomen daardoor is alle andere rows die ertussen zitten NULL. dit is natuurlijk als het weer station een temperatuut sensor heeft."
   ]
  },
  {
   "cell_type": "code",
   "execution_count": 46,
   "metadata": {},
   "outputs": [
    {
     "data": {
      "text/html": [
       "<div>\n",
       "<style scoped>\n",
       "    .dataframe tbody tr th:only-of-type {\n",
       "        vertical-align: middle;\n",
       "    }\n",
       "\n",
       "    .dataframe tbody tr th {\n",
       "        vertical-align: top;\n",
       "    }\n",
       "\n",
       "    .dataframe thead th {\n",
       "        text-align: right;\n",
       "    }\n",
       "</style>\n",
       "<table border=\"1\" class=\"dataframe\">\n",
       "  <thead>\n",
       "    <tr style=\"text-align: right;\">\n",
       "      <th></th>\n",
       "      <th>STN</th>\n",
       "      <th>start_time</th>\n",
       "      <th>DD</th>\n",
       "      <th>FH</th>\n",
       "      <th>FF</th>\n",
       "      <th>FX</th>\n",
       "      <th>temp</th>\n",
       "      <th>T10N</th>\n",
       "      <th>TD</th>\n",
       "      <th>SQ</th>\n",
       "      <th>...</th>\n",
       "      <th>VV</th>\n",
       "      <th>N</th>\n",
       "      <th>U</th>\n",
       "      <th>WW</th>\n",
       "      <th>IX</th>\n",
       "      <th>M</th>\n",
       "      <th>R</th>\n",
       "      <th>S</th>\n",
       "      <th>O</th>\n",
       "      <th>Y</th>\n",
       "    </tr>\n",
       "  </thead>\n",
       "  <tbody>\n",
       "    <tr>\n",
       "      <th>12517</th>\n",
       "      <td>242</td>\n",
       "      <td>2023-03-13 13:00:00</td>\n",
       "      <td>220.0</td>\n",
       "      <td>210.0</td>\n",
       "      <td>200.0</td>\n",
       "      <td>270.0</td>\n",
       "      <td>115.0</td>\n",
       "      <td>NaN</td>\n",
       "      <td>68.0</td>\n",
       "      <td>NaN</td>\n",
       "      <td>...</td>\n",
       "      <td>58.0</td>\n",
       "      <td>0.0</td>\n",
       "      <td>72.0</td>\n",
       "      <td>4.0</td>\n",
       "      <td>7</td>\n",
       "      <td>0.0</td>\n",
       "      <td>0.0</td>\n",
       "      <td>0.0</td>\n",
       "      <td>0.0</td>\n",
       "      <td>0.0</td>\n",
       "    </tr>\n",
       "    <tr>\n",
       "      <th>72144</th>\n",
       "      <td>324</td>\n",
       "      <td>2023-02-06 00:00:00</td>\n",
       "      <td>20.0</td>\n",
       "      <td>20.0</td>\n",
       "      <td>20.0</td>\n",
       "      <td>40.0</td>\n",
       "      <td>NaN</td>\n",
       "      <td>NaN</td>\n",
       "      <td>NaN</td>\n",
       "      <td>NaN</td>\n",
       "      <td>...</td>\n",
       "      <td>NaN</td>\n",
       "      <td>NaN</td>\n",
       "      <td>NaN</td>\n",
       "      <td>NaN</td>\n",
       "      <td>6</td>\n",
       "      <td>NaN</td>\n",
       "      <td>NaN</td>\n",
       "      <td>NaN</td>\n",
       "      <td>NaN</td>\n",
       "      <td>NaN</td>\n",
       "    </tr>\n",
       "    <tr>\n",
       "      <th>84405</th>\n",
       "      <td>350</td>\n",
       "      <td>2023-01-07 21:00:00</td>\n",
       "      <td>190.0</td>\n",
       "      <td>80.0</td>\n",
       "      <td>80.0</td>\n",
       "      <td>140.0</td>\n",
       "      <td>102.0</td>\n",
       "      <td>NaN</td>\n",
       "      <td>78.0</td>\n",
       "      <td>0.0</td>\n",
       "      <td>...</td>\n",
       "      <td>70.0</td>\n",
       "      <td>8.0</td>\n",
       "      <td>85.0</td>\n",
       "      <td>NaN</td>\n",
       "      <td>5</td>\n",
       "      <td>0.0</td>\n",
       "      <td>0.0</td>\n",
       "      <td>0.0</td>\n",
       "      <td>0.0</td>\n",
       "      <td>0.0</td>\n",
       "    </tr>\n",
       "    <tr>\n",
       "      <th>60059</th>\n",
       "      <td>312</td>\n",
       "      <td>2023-03-14 11:00:00</td>\n",
       "      <td>350.0</td>\n",
       "      <td>100.0</td>\n",
       "      <td>100.0</td>\n",
       "      <td>130.0</td>\n",
       "      <td>NaN</td>\n",
       "      <td>NaN</td>\n",
       "      <td>NaN</td>\n",
       "      <td>NaN</td>\n",
       "      <td>...</td>\n",
       "      <td>NaN</td>\n",
       "      <td>NaN</td>\n",
       "      <td>NaN</td>\n",
       "      <td>NaN</td>\n",
       "      <td>6</td>\n",
       "      <td>NaN</td>\n",
       "      <td>NaN</td>\n",
       "      <td>NaN</td>\n",
       "      <td>NaN</td>\n",
       "      <td>NaN</td>\n",
       "    </tr>\n",
       "    <tr>\n",
       "      <th>47526</th>\n",
       "      <td>285</td>\n",
       "      <td>2023-01-01 06:00:00</td>\n",
       "      <td>220.0</td>\n",
       "      <td>140.0</td>\n",
       "      <td>140.0</td>\n",
       "      <td>180.0</td>\n",
       "      <td>NaN</td>\n",
       "      <td>NaN</td>\n",
       "      <td>NaN</td>\n",
       "      <td>NaN</td>\n",
       "      <td>...</td>\n",
       "      <td>NaN</td>\n",
       "      <td>NaN</td>\n",
       "      <td>NaN</td>\n",
       "      <td>NaN</td>\n",
       "      <td>6</td>\n",
       "      <td>NaN</td>\n",
       "      <td>NaN</td>\n",
       "      <td>NaN</td>\n",
       "      <td>NaN</td>\n",
       "      <td>NaN</td>\n",
       "    </tr>\n",
       "    <tr>\n",
       "      <th>40844</th>\n",
       "      <td>278</td>\n",
       "      <td>2023-03-23 20:00:00</td>\n",
       "      <td>180.0</td>\n",
       "      <td>30.0</td>\n",
       "      <td>30.0</td>\n",
       "      <td>60.0</td>\n",
       "      <td>119.0</td>\n",
       "      <td>NaN</td>\n",
       "      <td>99.0</td>\n",
       "      <td>0.0</td>\n",
       "      <td>...</td>\n",
       "      <td>NaN</td>\n",
       "      <td>NaN</td>\n",
       "      <td>88.0</td>\n",
       "      <td>NaN</td>\n",
       "      <td>6</td>\n",
       "      <td>NaN</td>\n",
       "      <td>NaN</td>\n",
       "      <td>NaN</td>\n",
       "      <td>NaN</td>\n",
       "      <td>NaN</td>\n",
       "    </tr>\n",
       "    <tr>\n",
       "      <th>77568</th>\n",
       "      <td>340</td>\n",
       "      <td>2023-03-24 00:00:00</td>\n",
       "      <td>210.0</td>\n",
       "      <td>70.0</td>\n",
       "      <td>70.0</td>\n",
       "      <td>150.0</td>\n",
       "      <td>132.0</td>\n",
       "      <td>NaN</td>\n",
       "      <td>105.0</td>\n",
       "      <td>NaN</td>\n",
       "      <td>...</td>\n",
       "      <td>70.0</td>\n",
       "      <td>8.0</td>\n",
       "      <td>84.0</td>\n",
       "      <td>51.0</td>\n",
       "      <td>7</td>\n",
       "      <td>0.0</td>\n",
       "      <td>1.0</td>\n",
       "      <td>0.0</td>\n",
       "      <td>0.0</td>\n",
       "      <td>0.0</td>\n",
       "    </tr>\n",
       "    <tr>\n",
       "      <th>85990</th>\n",
       "      <td>350</td>\n",
       "      <td>2023-03-14 22:00:00</td>\n",
       "      <td>270.0</td>\n",
       "      <td>60.0</td>\n",
       "      <td>40.0</td>\n",
       "      <td>120.0</td>\n",
       "      <td>19.0</td>\n",
       "      <td>NaN</td>\n",
       "      <td>12.0</td>\n",
       "      <td>0.0</td>\n",
       "      <td>...</td>\n",
       "      <td>65.0</td>\n",
       "      <td>8.0</td>\n",
       "      <td>94.0</td>\n",
       "      <td>81.0</td>\n",
       "      <td>7</td>\n",
       "      <td>0.0</td>\n",
       "      <td>1.0</td>\n",
       "      <td>0.0</td>\n",
       "      <td>0.0</td>\n",
       "      <td>0.0</td>\n",
       "    </tr>\n",
       "    <tr>\n",
       "      <th>27765</th>\n",
       "      <td>267</td>\n",
       "      <td>2023-03-18 21:00:00</td>\n",
       "      <td>180.0</td>\n",
       "      <td>60.0</td>\n",
       "      <td>50.0</td>\n",
       "      <td>90.0</td>\n",
       "      <td>93.0</td>\n",
       "      <td>NaN</td>\n",
       "      <td>86.0</td>\n",
       "      <td>0.0</td>\n",
       "      <td>...</td>\n",
       "      <td>65.0</td>\n",
       "      <td>8.0</td>\n",
       "      <td>95.0</td>\n",
       "      <td>51.0</td>\n",
       "      <td>7</td>\n",
       "      <td>0.0</td>\n",
       "      <td>1.0</td>\n",
       "      <td>0.0</td>\n",
       "      <td>0.0</td>\n",
       "      <td>0.0</td>\n",
       "    </tr>\n",
       "    <tr>\n",
       "      <th>71826</th>\n",
       "      <td>324</td>\n",
       "      <td>2023-01-23 18:00:00</td>\n",
       "      <td>60.0</td>\n",
       "      <td>50.0</td>\n",
       "      <td>60.0</td>\n",
       "      <td>80.0</td>\n",
       "      <td>NaN</td>\n",
       "      <td>NaN</td>\n",
       "      <td>NaN</td>\n",
       "      <td>NaN</td>\n",
       "      <td>...</td>\n",
       "      <td>NaN</td>\n",
       "      <td>NaN</td>\n",
       "      <td>NaN</td>\n",
       "      <td>NaN</td>\n",
       "      <td>6</td>\n",
       "      <td>NaN</td>\n",
       "      <td>NaN</td>\n",
       "      <td>NaN</td>\n",
       "      <td>NaN</td>\n",
       "      <td>NaN</td>\n",
       "    </tr>\n",
       "    <tr>\n",
       "      <th>7742</th>\n",
       "      <td>235</td>\n",
       "      <td>2023-02-22 14:00:00</td>\n",
       "      <td>220.0</td>\n",
       "      <td>40.0</td>\n",
       "      <td>40.0</td>\n",
       "      <td>50.0</td>\n",
       "      <td>82.0</td>\n",
       "      <td>NaN</td>\n",
       "      <td>49.0</td>\n",
       "      <td>3.0</td>\n",
       "      <td>...</td>\n",
       "      <td>61.0</td>\n",
       "      <td>8.0</td>\n",
       "      <td>79.0</td>\n",
       "      <td>NaN</td>\n",
       "      <td>5</td>\n",
       "      <td>0.0</td>\n",
       "      <td>0.0</td>\n",
       "      <td>0.0</td>\n",
       "      <td>0.0</td>\n",
       "      <td>0.0</td>\n",
       "    </tr>\n",
       "    <tr>\n",
       "      <th>1290</th>\n",
       "      <td>209</td>\n",
       "      <td>2023-02-23 18:00:00</td>\n",
       "      <td>30.0</td>\n",
       "      <td>60.0</td>\n",
       "      <td>50.0</td>\n",
       "      <td>90.0</td>\n",
       "      <td>NaN</td>\n",
       "      <td>NaN</td>\n",
       "      <td>NaN</td>\n",
       "      <td>NaN</td>\n",
       "      <td>...</td>\n",
       "      <td>NaN</td>\n",
       "      <td>NaN</td>\n",
       "      <td>NaN</td>\n",
       "      <td>NaN</td>\n",
       "      <td>6</td>\n",
       "      <td>NaN</td>\n",
       "      <td>NaN</td>\n",
       "      <td>NaN</td>\n",
       "      <td>NaN</td>\n",
       "      <td>NaN</td>\n",
       "    </tr>\n",
       "    <tr>\n",
       "      <th>8765</th>\n",
       "      <td>240</td>\n",
       "      <td>2023-01-06 05:00:00</td>\n",
       "      <td>220.0</td>\n",
       "      <td>110.0</td>\n",
       "      <td>100.0</td>\n",
       "      <td>150.0</td>\n",
       "      <td>100.0</td>\n",
       "      <td>97.0</td>\n",
       "      <td>95.0</td>\n",
       "      <td>0.0</td>\n",
       "      <td>...</td>\n",
       "      <td>36.0</td>\n",
       "      <td>8.0</td>\n",
       "      <td>96.0</td>\n",
       "      <td>52.0</td>\n",
       "      <td>7</td>\n",
       "      <td>0.0</td>\n",
       "      <td>1.0</td>\n",
       "      <td>0.0</td>\n",
       "      <td>0.0</td>\n",
       "      <td>0.0</td>\n",
       "    </tr>\n",
       "    <tr>\n",
       "      <th>69794</th>\n",
       "      <td>323</td>\n",
       "      <td>2023-01-29 02:00:00</td>\n",
       "      <td>200.0</td>\n",
       "      <td>30.0</td>\n",
       "      <td>30.0</td>\n",
       "      <td>50.0</td>\n",
       "      <td>29.0</td>\n",
       "      <td>NaN</td>\n",
       "      <td>1.0</td>\n",
       "      <td>0.0</td>\n",
       "      <td>...</td>\n",
       "      <td>NaN</td>\n",
       "      <td>NaN</td>\n",
       "      <td>81.0</td>\n",
       "      <td>NaN</td>\n",
       "      <td>6</td>\n",
       "      <td>NaN</td>\n",
       "      <td>NaN</td>\n",
       "      <td>NaN</td>\n",
       "      <td>NaN</td>\n",
       "      <td>NaN</td>\n",
       "    </tr>\n",
       "    <tr>\n",
       "      <th>85510</th>\n",
       "      <td>350</td>\n",
       "      <td>2023-02-22 22:00:00</td>\n",
       "      <td>270.0</td>\n",
       "      <td>10.0</td>\n",
       "      <td>10.0</td>\n",
       "      <td>20.0</td>\n",
       "      <td>77.0</td>\n",
       "      <td>NaN</td>\n",
       "      <td>70.0</td>\n",
       "      <td>0.0</td>\n",
       "      <td>...</td>\n",
       "      <td>24.0</td>\n",
       "      <td>8.0</td>\n",
       "      <td>95.0</td>\n",
       "      <td>10.0</td>\n",
       "      <td>7</td>\n",
       "      <td>0.0</td>\n",
       "      <td>0.0</td>\n",
       "      <td>0.0</td>\n",
       "      <td>0.0</td>\n",
       "      <td>0.0</td>\n",
       "    </tr>\n",
       "    <tr>\n",
       "      <th>39421</th>\n",
       "      <td>278</td>\n",
       "      <td>2023-01-23 13:00:00</td>\n",
       "      <td>20.0</td>\n",
       "      <td>20.0</td>\n",
       "      <td>20.0</td>\n",
       "      <td>40.0</td>\n",
       "      <td>39.0</td>\n",
       "      <td>NaN</td>\n",
       "      <td>14.0</td>\n",
       "      <td>0.0</td>\n",
       "      <td>...</td>\n",
       "      <td>NaN</td>\n",
       "      <td>NaN</td>\n",
       "      <td>83.0</td>\n",
       "      <td>NaN</td>\n",
       "      <td>6</td>\n",
       "      <td>NaN</td>\n",
       "      <td>NaN</td>\n",
       "      <td>NaN</td>\n",
       "      <td>NaN</td>\n",
       "      <td>NaN</td>\n",
       "    </tr>\n",
       "    <tr>\n",
       "      <th>1346</th>\n",
       "      <td>209</td>\n",
       "      <td>2023-02-26 02:00:00</td>\n",
       "      <td>60.0</td>\n",
       "      <td>60.0</td>\n",
       "      <td>60.0</td>\n",
       "      <td>80.0</td>\n",
       "      <td>NaN</td>\n",
       "      <td>NaN</td>\n",
       "      <td>NaN</td>\n",
       "      <td>NaN</td>\n",
       "      <td>...</td>\n",
       "      <td>NaN</td>\n",
       "      <td>NaN</td>\n",
       "      <td>NaN</td>\n",
       "      <td>NaN</td>\n",
       "      <td>6</td>\n",
       "      <td>NaN</td>\n",
       "      <td>NaN</td>\n",
       "      <td>NaN</td>\n",
       "      <td>NaN</td>\n",
       "      <td>NaN</td>\n",
       "    </tr>\n",
       "    <tr>\n",
       "      <th>14700</th>\n",
       "      <td>248</td>\n",
       "      <td>2023-03-14 12:00:00</td>\n",
       "      <td>320.0</td>\n",
       "      <td>100.0</td>\n",
       "      <td>90.0</td>\n",
       "      <td>150.0</td>\n",
       "      <td>NaN</td>\n",
       "      <td>NaN</td>\n",
       "      <td>NaN</td>\n",
       "      <td>NaN</td>\n",
       "      <td>...</td>\n",
       "      <td>NaN</td>\n",
       "      <td>NaN</td>\n",
       "      <td>NaN</td>\n",
       "      <td>NaN</td>\n",
       "      <td>6</td>\n",
       "      <td>NaN</td>\n",
       "      <td>NaN</td>\n",
       "      <td>NaN</td>\n",
       "      <td>NaN</td>\n",
       "      <td>NaN</td>\n",
       "    </tr>\n",
       "    <tr>\n",
       "      <th>5359</th>\n",
       "      <td>225</td>\n",
       "      <td>2023-02-13 07:00:00</td>\n",
       "      <td>100.0</td>\n",
       "      <td>20.0</td>\n",
       "      <td>30.0</td>\n",
       "      <td>30.0</td>\n",
       "      <td>NaN</td>\n",
       "      <td>NaN</td>\n",
       "      <td>NaN</td>\n",
       "      <td>NaN</td>\n",
       "      <td>...</td>\n",
       "      <td>NaN</td>\n",
       "      <td>NaN</td>\n",
       "      <td>NaN</td>\n",
       "      <td>NaN</td>\n",
       "      <td>6</td>\n",
       "      <td>NaN</td>\n",
       "      <td>NaN</td>\n",
       "      <td>NaN</td>\n",
       "      <td>NaN</td>\n",
       "      <td>NaN</td>\n",
       "    </tr>\n",
       "    <tr>\n",
       "      <th>89456</th>\n",
       "      <td>370</td>\n",
       "      <td>2023-02-07 08:00:00</td>\n",
       "      <td>100.0</td>\n",
       "      <td>20.0</td>\n",
       "      <td>20.0</td>\n",
       "      <td>30.0</td>\n",
       "      <td>-8.0</td>\n",
       "      <td>NaN</td>\n",
       "      <td>-11.0</td>\n",
       "      <td>10.0</td>\n",
       "      <td>...</td>\n",
       "      <td>58.0</td>\n",
       "      <td>0.0</td>\n",
       "      <td>98.0</td>\n",
       "      <td>20.0</td>\n",
       "      <td>7</td>\n",
       "      <td>1.0</td>\n",
       "      <td>0.0</td>\n",
       "      <td>0.0</td>\n",
       "      <td>0.0</td>\n",
       "      <td>1.0</td>\n",
       "    </tr>\n",
       "  </tbody>\n",
       "</table>\n",
       "<p>20 rows × 24 columns</p>\n",
       "</div>"
      ],
      "text/plain": [
       "       STN          start_time     DD     FH     FF     FX   temp  T10N  \\\n",
       "12517  242 2023-03-13 13:00:00  220.0  210.0  200.0  270.0  115.0   NaN   \n",
       "72144  324 2023-02-06 00:00:00   20.0   20.0   20.0   40.0    NaN   NaN   \n",
       "84405  350 2023-01-07 21:00:00  190.0   80.0   80.0  140.0  102.0   NaN   \n",
       "60059  312 2023-03-14 11:00:00  350.0  100.0  100.0  130.0    NaN   NaN   \n",
       "47526  285 2023-01-01 06:00:00  220.0  140.0  140.0  180.0    NaN   NaN   \n",
       "40844  278 2023-03-23 20:00:00  180.0   30.0   30.0   60.0  119.0   NaN   \n",
       "77568  340 2023-03-24 00:00:00  210.0   70.0   70.0  150.0  132.0   NaN   \n",
       "85990  350 2023-03-14 22:00:00  270.0   60.0   40.0  120.0   19.0   NaN   \n",
       "27765  267 2023-03-18 21:00:00  180.0   60.0   50.0   90.0   93.0   NaN   \n",
       "71826  324 2023-01-23 18:00:00   60.0   50.0   60.0   80.0    NaN   NaN   \n",
       "7742   235 2023-02-22 14:00:00  220.0   40.0   40.0   50.0   82.0   NaN   \n",
       "1290   209 2023-02-23 18:00:00   30.0   60.0   50.0   90.0    NaN   NaN   \n",
       "8765   240 2023-01-06 05:00:00  220.0  110.0  100.0  150.0  100.0  97.0   \n",
       "69794  323 2023-01-29 02:00:00  200.0   30.0   30.0   50.0   29.0   NaN   \n",
       "85510  350 2023-02-22 22:00:00  270.0   10.0   10.0   20.0   77.0   NaN   \n",
       "39421  278 2023-01-23 13:00:00   20.0   20.0   20.0   40.0   39.0   NaN   \n",
       "1346   209 2023-02-26 02:00:00   60.0   60.0   60.0   80.0    NaN   NaN   \n",
       "14700  248 2023-03-14 12:00:00  320.0  100.0   90.0  150.0    NaN   NaN   \n",
       "5359   225 2023-02-13 07:00:00  100.0   20.0   30.0   30.0    NaN   NaN   \n",
       "89456  370 2023-02-07 08:00:00  100.0   20.0   20.0   30.0   -8.0   NaN   \n",
       "\n",
       "          TD    SQ  ...    VV    N     U    WW  IX    M    R    S    O    Y  \n",
       "12517   68.0   NaN  ...  58.0  0.0  72.0   4.0   7  0.0  0.0  0.0  0.0  0.0  \n",
       "72144    NaN   NaN  ...   NaN  NaN   NaN   NaN   6  NaN  NaN  NaN  NaN  NaN  \n",
       "84405   78.0   0.0  ...  70.0  8.0  85.0   NaN   5  0.0  0.0  0.0  0.0  0.0  \n",
       "60059    NaN   NaN  ...   NaN  NaN   NaN   NaN   6  NaN  NaN  NaN  NaN  NaN  \n",
       "47526    NaN   NaN  ...   NaN  NaN   NaN   NaN   6  NaN  NaN  NaN  NaN  NaN  \n",
       "40844   99.0   0.0  ...   NaN  NaN  88.0   NaN   6  NaN  NaN  NaN  NaN  NaN  \n",
       "77568  105.0   NaN  ...  70.0  8.0  84.0  51.0   7  0.0  1.0  0.0  0.0  0.0  \n",
       "85990   12.0   0.0  ...  65.0  8.0  94.0  81.0   7  0.0  1.0  0.0  0.0  0.0  \n",
       "27765   86.0   0.0  ...  65.0  8.0  95.0  51.0   7  0.0  1.0  0.0  0.0  0.0  \n",
       "71826    NaN   NaN  ...   NaN  NaN   NaN   NaN   6  NaN  NaN  NaN  NaN  NaN  \n",
       "7742    49.0   3.0  ...  61.0  8.0  79.0   NaN   5  0.0  0.0  0.0  0.0  0.0  \n",
       "1290     NaN   NaN  ...   NaN  NaN   NaN   NaN   6  NaN  NaN  NaN  NaN  NaN  \n",
       "8765    95.0   0.0  ...  36.0  8.0  96.0  52.0   7  0.0  1.0  0.0  0.0  0.0  \n",
       "69794    1.0   0.0  ...   NaN  NaN  81.0   NaN   6  NaN  NaN  NaN  NaN  NaN  \n",
       "85510   70.0   0.0  ...  24.0  8.0  95.0  10.0   7  0.0  0.0  0.0  0.0  0.0  \n",
       "39421   14.0   0.0  ...   NaN  NaN  83.0   NaN   6  NaN  NaN  NaN  NaN  NaN  \n",
       "1346     NaN   NaN  ...   NaN  NaN   NaN   NaN   6  NaN  NaN  NaN  NaN  NaN  \n",
       "14700    NaN   NaN  ...   NaN  NaN   NaN   NaN   6  NaN  NaN  NaN  NaN  NaN  \n",
       "5359     NaN   NaN  ...   NaN  NaN   NaN   NaN   6  NaN  NaN  NaN  NaN  NaN  \n",
       "89456  -11.0  10.0  ...  58.0  0.0  98.0  20.0   7  1.0  0.0  0.0  0.0  1.0  \n",
       "\n",
       "[20 rows x 24 columns]"
      ]
     },
     "metadata": {},
     "output_type": "display_data"
    },
    {
     "data": {
      "text/html": [
       "<div>\n",
       "<style scoped>\n",
       "    .dataframe tbody tr th:only-of-type {\n",
       "        vertical-align: middle;\n",
       "    }\n",
       "\n",
       "    .dataframe tbody tr th {\n",
       "        vertical-align: top;\n",
       "    }\n",
       "\n",
       "    .dataframe thead th {\n",
       "        text-align: right;\n",
       "    }\n",
       "</style>\n",
       "<table border=\"1\" class=\"dataframe\">\n",
       "  <thead>\n",
       "    <tr style=\"text-align: right;\">\n",
       "      <th></th>\n",
       "      <th>STN</th>\n",
       "      <th>LON(east)</th>\n",
       "      <th>LAT(north)</th>\n",
       "      <th>ALT(m)</th>\n",
       "      <th>NAME</th>\n",
       "    </tr>\n",
       "  </thead>\n",
       "  <tbody>\n",
       "    <tr>\n",
       "      <th>24</th>\n",
       "      <td>285</td>\n",
       "      <td>6.399</td>\n",
       "      <td>53.575</td>\n",
       "      <td>0.0</td>\n",
       "      <td>Huibertgat</td>\n",
       "    </tr>\n",
       "    <tr>\n",
       "      <th>2</th>\n",
       "      <td>215</td>\n",
       "      <td>4.437</td>\n",
       "      <td>52.141</td>\n",
       "      <td>-1.1</td>\n",
       "      <td>Voorschoten</td>\n",
       "    </tr>\n",
       "    <tr>\n",
       "      <th>8</th>\n",
       "      <td>249</td>\n",
       "      <td>4.979</td>\n",
       "      <td>52.644</td>\n",
       "      <td>-2.4</td>\n",
       "      <td>Berkhout</td>\n",
       "    </tr>\n",
       "    <tr>\n",
       "      <th>17</th>\n",
       "      <td>273</td>\n",
       "      <td>5.888</td>\n",
       "      <td>52.703</td>\n",
       "      <td>-3.3</td>\n",
       "      <td>Marknesse</td>\n",
       "    </tr>\n",
       "    <tr>\n",
       "      <th>0</th>\n",
       "      <td>209</td>\n",
       "      <td>4.518</td>\n",
       "      <td>52.465</td>\n",
       "      <td>0.0</td>\n",
       "      <td>IJmond</td>\n",
       "    </tr>\n",
       "    <tr>\n",
       "      <th>30</th>\n",
       "      <td>312</td>\n",
       "      <td>3.622</td>\n",
       "      <td>51.768</td>\n",
       "      <td>0.0</td>\n",
       "      <td>Oosterschelde</td>\n",
       "    </tr>\n",
       "    <tr>\n",
       "      <th>9</th>\n",
       "      <td>251</td>\n",
       "      <td>5.346</td>\n",
       "      <td>53.392</td>\n",
       "      <td>0.7</td>\n",
       "      <td>HoornTerschelling</td>\n",
       "    </tr>\n",
       "    <tr>\n",
       "      <th>1</th>\n",
       "      <td>210</td>\n",
       "      <td>4.430</td>\n",
       "      <td>52.171</td>\n",
       "      <td>-0.2</td>\n",
       "      <td>ValkenburgZh</td>\n",
       "    </tr>\n",
       "    <tr>\n",
       "      <th>20</th>\n",
       "      <td>278</td>\n",
       "      <td>6.259</td>\n",
       "      <td>52.435</td>\n",
       "      <td>3.6</td>\n",
       "      <td>Heino</td>\n",
       "    </tr>\n",
       "    <tr>\n",
       "      <th>44</th>\n",
       "      <td>356</td>\n",
       "      <td>5.146</td>\n",
       "      <td>51.859</td>\n",
       "      <td>0.7</td>\n",
       "      <td>Herwijnen</td>\n",
       "    </tr>\n",
       "    <tr>\n",
       "      <th>25</th>\n",
       "      <td>286</td>\n",
       "      <td>7.150</td>\n",
       "      <td>53.196</td>\n",
       "      <td>-0.2</td>\n",
       "      <td>NieuwBeerta</td>\n",
       "    </tr>\n",
       "    <tr>\n",
       "      <th>16</th>\n",
       "      <td>270</td>\n",
       "      <td>5.752</td>\n",
       "      <td>53.224</td>\n",
       "      <td>1.2</td>\n",
       "      <td>Leeuwarden</td>\n",
       "    </tr>\n",
       "    <tr>\n",
       "      <th>23</th>\n",
       "      <td>283</td>\n",
       "      <td>6.657</td>\n",
       "      <td>52.069</td>\n",
       "      <td>29.1</td>\n",
       "      <td>Hupsel</td>\n",
       "    </tr>\n",
       "    <tr>\n",
       "      <th>26</th>\n",
       "      <td>290</td>\n",
       "      <td>6.891</td>\n",
       "      <td>52.274</td>\n",
       "      <td>34.8</td>\n",
       "      <td>Twenthe</td>\n",
       "    </tr>\n",
       "    <tr>\n",
       "      <th>4</th>\n",
       "      <td>235</td>\n",
       "      <td>4.781</td>\n",
       "      <td>52.928</td>\n",
       "      <td>1.2</td>\n",
       "      <td>DeKooy</td>\n",
       "    </tr>\n",
       "    <tr>\n",
       "      <th>29</th>\n",
       "      <td>311</td>\n",
       "      <td>3.672</td>\n",
       "      <td>51.379</td>\n",
       "      <td>0.0</td>\n",
       "      <td>Hoofdplaat</td>\n",
       "    </tr>\n",
       "    <tr>\n",
       "      <th>21</th>\n",
       "      <td>279</td>\n",
       "      <td>6.574</td>\n",
       "      <td>52.750</td>\n",
       "      <td>15.8</td>\n",
       "      <td>Hoogeveen</td>\n",
       "    </tr>\n",
       "    <tr>\n",
       "      <th>5</th>\n",
       "      <td>240</td>\n",
       "      <td>4.790</td>\n",
       "      <td>52.318</td>\n",
       "      <td>-3.3</td>\n",
       "      <td>Schiphol</td>\n",
       "    </tr>\n",
       "    <tr>\n",
       "      <th>7</th>\n",
       "      <td>248</td>\n",
       "      <td>5.174</td>\n",
       "      <td>52.634</td>\n",
       "      <td>0.8</td>\n",
       "      <td>Wijdenes</td>\n",
       "    </tr>\n",
       "    <tr>\n",
       "      <th>37</th>\n",
       "      <td>330</td>\n",
       "      <td>4.122</td>\n",
       "      <td>51.992</td>\n",
       "      <td>11.9</td>\n",
       "      <td>HoekvanHolland</td>\n",
       "    </tr>\n",
       "  </tbody>\n",
       "</table>\n",
       "</div>"
      ],
      "text/plain": [
       "    STN  LON(east)  LAT(north)  ALT(m)               NAME\n",
       "24  285      6.399      53.575     0.0         Huibertgat\n",
       "2   215      4.437      52.141    -1.1        Voorschoten\n",
       "8   249      4.979      52.644    -2.4           Berkhout\n",
       "17  273      5.888      52.703    -3.3          Marknesse\n",
       "0   209      4.518      52.465     0.0             IJmond\n",
       "30  312      3.622      51.768     0.0      Oosterschelde\n",
       "9   251      5.346      53.392     0.7  HoornTerschelling\n",
       "1   210      4.430      52.171    -0.2       ValkenburgZh\n",
       "20  278      6.259      52.435     3.6              Heino\n",
       "44  356      5.146      51.859     0.7          Herwijnen\n",
       "25  286      7.150      53.196    -0.2        NieuwBeerta\n",
       "16  270      5.752      53.224     1.2         Leeuwarden\n",
       "23  283      6.657      52.069    29.1             Hupsel\n",
       "26  290      6.891      52.274    34.8            Twenthe\n",
       "4   235      4.781      52.928     1.2             DeKooy\n",
       "29  311      3.672      51.379     0.0         Hoofdplaat\n",
       "21  279      6.574      52.750    15.8          Hoogeveen\n",
       "5   240      4.790      52.318    -3.3           Schiphol\n",
       "7   248      5.174      52.634     0.8           Wijdenes\n",
       "37  330      4.122      51.992    11.9     HoekvanHolland"
      ]
     },
     "metadata": {},
     "output_type": "display_data"
    },
    {
     "data": {
      "text/plain": [
       "STN               0\n",
       "start_time        0\n",
       "DD             2499\n",
       "FH             2500\n",
       "FF             2499\n",
       "FX             2500\n",
       "temp          25920\n",
       "T10N          87120\n",
       "TD            25920\n",
       "SQ            30240\n",
       "Q             30240\n",
       "DR            28081\n",
       "RH            28080\n",
       "P             47520\n",
       "VV            45361\n",
       "N             56160\n",
       "U             25920\n",
       "WW            73164\n",
       "IX                0\n",
       "M             45415\n",
       "R             45415\n",
       "S             45415\n",
       "O             45415\n",
       "Y             45415\n",
       "dtype: int64"
      ]
     },
     "metadata": {},
     "output_type": "display_data"
    },
    {
     "data": {
      "text/plain": [
       "STN           0\n",
       "LON(east)     0\n",
       "LAT(north)    0\n",
       "ALT(m)        0\n",
       "NAME          0\n",
       "dtype: int64"
      ]
     },
     "metadata": {},
     "output_type": "display_data"
    }
   ],
   "source": [
    "display(weather_2023.sample(sample_size))\n",
    "display(weather_station_location.sample(sample_size))\n",
    "\n",
    "\n",
    "display(weather_2023.isna().sum())\n",
    "display(weather_station_location.isna().sum())\n"
   ]
  },
  {
   "cell_type": "markdown",
   "metadata": {},
   "source": [
    "### 🏟️ trein station \n",
    "hier laad ik de samples van de trein stations. "
   ]
  },
  {
   "cell_type": "code",
   "execution_count": 47,
   "metadata": {},
   "outputs": [
    {
     "data": {
      "text/html": [
       "<div>\n",
       "<style scoped>\n",
       "    .dataframe tbody tr th:only-of-type {\n",
       "        vertical-align: middle;\n",
       "    }\n",
       "\n",
       "    .dataframe tbody tr th {\n",
       "        vertical-align: top;\n",
       "    }\n",
       "\n",
       "    .dataframe thead th {\n",
       "        text-align: right;\n",
       "    }\n",
       "</style>\n",
       "<table border=\"1\" class=\"dataframe\">\n",
       "  <thead>\n",
       "    <tr style=\"text-align: right;\">\n",
       "      <th></th>\n",
       "      <th>name</th>\n",
       "      <th>name_norm</th>\n",
       "      <th>latitude</th>\n",
       "      <th>longitude</th>\n",
       "      <th>country</th>\n",
       "    </tr>\n",
       "  </thead>\n",
       "  <tbody>\n",
       "    <tr>\n",
       "      <th>56132</th>\n",
       "      <td>winterthur swica</td>\n",
       "      <td>Winterthur Swica</td>\n",
       "      <td>47.500997</td>\n",
       "      <td>8.740832</td>\n",
       "      <td>CH</td>\n",
       "    </tr>\n",
       "    <tr>\n",
       "      <th>50229</th>\n",
       "      <td>prolin</td>\n",
       "      <td>Prolin</td>\n",
       "      <td>46.166216</td>\n",
       "      <td>7.395920</td>\n",
       "      <td>CH</td>\n",
       "    </tr>\n",
       "    <tr>\n",
       "      <th>48436</th>\n",
       "      <td>möhlin zeiningerstrasse</td>\n",
       "      <td>Mohlin Zeiningerstrasse</td>\n",
       "      <td>47.552613</td>\n",
       "      <td>7.854334</td>\n",
       "      <td>CH</td>\n",
       "    </tr>\n",
       "    <tr>\n",
       "      <th>41949</th>\n",
       "      <td>engelberg tellenstein</td>\n",
       "      <td>Engelberg Tellenstein</td>\n",
       "      <td>46.814167</td>\n",
       "      <td>8.426920</td>\n",
       "      <td>CH</td>\n",
       "    </tr>\n",
       "    <tr>\n",
       "      <th>60159</th>\n",
       "      <td>vattnäs station</td>\n",
       "      <td>Vattnas station</td>\n",
       "      <td>61.049720</td>\n",
       "      <td>14.597780</td>\n",
       "      <td>SE</td>\n",
       "    </tr>\n",
       "    <tr>\n",
       "      <th>22719</th>\n",
       "      <td>battlesbridge</td>\n",
       "      <td>Battlesbridge</td>\n",
       "      <td>51.624805</td>\n",
       "      <td>0.565826</td>\n",
       "      <td>GB</td>\n",
       "    </tr>\n",
       "    <tr>\n",
       "      <th>20205</th>\n",
       "      <td>viadana bresciana</td>\n",
       "      <td>Viadana Bresciana</td>\n",
       "      <td>45.373800</td>\n",
       "      <td>10.332000</td>\n",
       "      <td>IT</td>\n",
       "    </tr>\n",
       "    <tr>\n",
       "      <th>2355</th>\n",
       "      <td>caumont</td>\n",
       "      <td>Caumont</td>\n",
       "      <td>43.033333</td>\n",
       "      <td>1.100000</td>\n",
       "      <td>FR</td>\n",
       "    </tr>\n",
       "    <tr>\n",
       "      <th>10592</th>\n",
       "      <td>bad schönborn süd</td>\n",
       "      <td>Bad Schonborn Sud</td>\n",
       "      <td>49.200002</td>\n",
       "      <td>8.641923</td>\n",
       "      <td>DE</td>\n",
       "    </tr>\n",
       "    <tr>\n",
       "      <th>33619</th>\n",
       "      <td>les neys</td>\n",
       "      <td>Les Neys</td>\n",
       "      <td>46.236018</td>\n",
       "      <td>6.924795</td>\n",
       "      <td>CH</td>\n",
       "    </tr>\n",
       "    <tr>\n",
       "      <th>41494</th>\n",
       "      <td>dättwil ag langacker</td>\n",
       "      <td>Dattwil AG Langacker</td>\n",
       "      <td>47.456257</td>\n",
       "      <td>8.288288</td>\n",
       "      <td>CH</td>\n",
       "    </tr>\n",
       "    <tr>\n",
       "      <th>48195</th>\n",
       "      <td>morlon la croix</td>\n",
       "      <td>Morlon La Croix</td>\n",
       "      <td>46.623092</td>\n",
       "      <td>7.079446</td>\n",
       "      <td>CH</td>\n",
       "    </tr>\n",
       "    <tr>\n",
       "      <th>23000</th>\n",
       "      <td>church fenton</td>\n",
       "      <td>Church Fenton</td>\n",
       "      <td>53.827671</td>\n",
       "      <td>-1.226652</td>\n",
       "      <td>GB</td>\n",
       "    </tr>\n",
       "    <tr>\n",
       "      <th>39648</th>\n",
       "      <td>bure casernes</td>\n",
       "      <td>Bure Casernes</td>\n",
       "      <td>47.452608</td>\n",
       "      <td>7.010777</td>\n",
       "      <td>CH</td>\n",
       "    </tr>\n",
       "    <tr>\n",
       "      <th>4085</th>\n",
       "      <td>st-rome</td>\n",
       "      <td>St-Rome</td>\n",
       "      <td>43.421952</td>\n",
       "      <td>1.684513</td>\n",
       "      <td>FR</td>\n",
       "    </tr>\n",
       "    <tr>\n",
       "      <th>24693</th>\n",
       "      <td>eskbank</td>\n",
       "      <td>Eskbank</td>\n",
       "      <td>55.889560</td>\n",
       "      <td>-3.078450</td>\n",
       "      <td>GB</td>\n",
       "    </tr>\n",
       "    <tr>\n",
       "      <th>11778</th>\n",
       "      <td>unterlenningen</td>\n",
       "      <td>Unterlenningen</td>\n",
       "      <td>48.565202</td>\n",
       "      <td>9.460706</td>\n",
       "      <td>DE</td>\n",
       "    </tr>\n",
       "    <tr>\n",
       "      <th>46357</th>\n",
       "      <td>lausanne port-franc</td>\n",
       "      <td>Lausanne Port-Franc</td>\n",
       "      <td>46.522161</td>\n",
       "      <td>6.627108</td>\n",
       "      <td>CH</td>\n",
       "    </tr>\n",
       "    <tr>\n",
       "      <th>13284</th>\n",
       "      <td>magdeburg-eichenweiler</td>\n",
       "      <td>Magdeburg-Eichenweiler</td>\n",
       "      <td>52.166110</td>\n",
       "      <td>11.657930</td>\n",
       "      <td>DE</td>\n",
       "    </tr>\n",
       "    <tr>\n",
       "      <th>24454</th>\n",
       "      <td>west wickham</td>\n",
       "      <td>West Wickham</td>\n",
       "      <td>51.381577</td>\n",
       "      <td>-0.015495</td>\n",
       "      <td>GB</td>\n",
       "    </tr>\n",
       "  </tbody>\n",
       "</table>\n",
       "</div>"
      ],
      "text/plain": [
       "                          name                name_norm   latitude  longitude  \\\n",
       "56132         winterthur swica         Winterthur Swica  47.500997   8.740832   \n",
       "50229                   prolin                   Prolin  46.166216   7.395920   \n",
       "48436  möhlin zeiningerstrasse  Mohlin Zeiningerstrasse  47.552613   7.854334   \n",
       "41949    engelberg tellenstein    Engelberg Tellenstein  46.814167   8.426920   \n",
       "60159          vattnäs station          Vattnas station  61.049720  14.597780   \n",
       "22719            battlesbridge            Battlesbridge  51.624805   0.565826   \n",
       "20205        viadana bresciana        Viadana Bresciana  45.373800  10.332000   \n",
       "2355                   caumont                  Caumont  43.033333   1.100000   \n",
       "10592        bad schönborn süd        Bad Schonborn Sud  49.200002   8.641923   \n",
       "33619                 les neys                 Les Neys  46.236018   6.924795   \n",
       "41494     dättwil ag langacker     Dattwil AG Langacker  47.456257   8.288288   \n",
       "48195          morlon la croix          Morlon La Croix  46.623092   7.079446   \n",
       "23000            church fenton            Church Fenton  53.827671  -1.226652   \n",
       "39648            bure casernes            Bure Casernes  47.452608   7.010777   \n",
       "4085                   st-rome                  St-Rome  43.421952   1.684513   \n",
       "24693                  eskbank                  Eskbank  55.889560  -3.078450   \n",
       "11778           unterlenningen           Unterlenningen  48.565202   9.460706   \n",
       "46357      lausanne port-franc      Lausanne Port-Franc  46.522161   6.627108   \n",
       "13284   magdeburg-eichenweiler   Magdeburg-Eichenweiler  52.166110  11.657930   \n",
       "24454             west wickham             West Wickham  51.381577  -0.015495   \n",
       "\n",
       "      country  \n",
       "56132      CH  \n",
       "50229      CH  \n",
       "48436      CH  \n",
       "41949      CH  \n",
       "60159      SE  \n",
       "22719      GB  \n",
       "20205      IT  \n",
       "2355       FR  \n",
       "10592      DE  \n",
       "33619      CH  \n",
       "41494      CH  \n",
       "48195      CH  \n",
       "23000      GB  \n",
       "39648      CH  \n",
       "4085       FR  \n",
       "24693      GB  \n",
       "11778      DE  \n",
       "46357      CH  \n",
       "13284      DE  \n",
       "24454      GB  "
      ]
     },
     "metadata": {},
     "output_type": "display_data"
    },
    {
     "data": {
      "text/plain": [
       "name            1\n",
       "name_norm       1\n",
       "latitude     1895\n",
       "longitude    1895\n",
       "country         0\n",
       "dtype: int64"
      ]
     },
     "metadata": {},
     "output_type": "display_data"
    }
   ],
   "source": [
    "display(europa_train_station_locations.sample(sample_size))\n",
    "\n",
    "display(europa_train_station_locations.isna().sum())"
   ]
  },
  {
   "cell_type": "markdown",
   "metadata": {},
   "source": [
    "# 🛠️ Preprocessing\n",
    "\n",
    "aangezien ik meerdere datasets heb moet ik als eers even kijken waar de vertragingen zitten.\n",
    "\n",
    "hiervoor maak ik een pie chard en kijk ik wat er de vertragingen zijn.\n",
    "\n",
    "### 🚄 trein verkeer \n",
    "in het trein verkeer is het belangerijk om te weten dat als er null staat dan heeft het nog steeds een betekenis. "
   ]
  },
  {
   "cell_type": "code",
   "execution_count": 48,
   "metadata": {},
   "outputs": [
    {
     "data": {
      "application/vnd.plotly.v1+json": {
       "config": {
        "plotlyServerURL": "https://plot.ly"
       },
       "data": [
        {
         "domain": {
          "x": [
           0,
           1
          ],
          "y": [
           0,
           1
          ]
         },
         "hovertemplate": "label=%{label}<br>value=%{value}<extra></extra>",
         "labels": [
          "0",
          "1-2",
          "2-3",
          "nan",
          "9-10",
          "4-5",
          "3-4",
          "5-6",
          "7-8",
          "20-30",
          "10-20",
          "6-7",
          "8-9",
          "40-50",
          "30-40",
          "50-60",
          "60-70",
          "70-170",
          "170-270"
         ],
         "legendgroup": "",
         "name": "",
         "showlegend": true,
         "type": "pie",
         "values": [
          4018008,
          235189,
          113626,
          550943,
          8277,
          38985,
          63378,
          25516,
          13389,
          7738,
          34148,
          18011,
          10592,
          945,
          2293,
          431,
          295,
          452,
          34
         ]
        }
       ],
       "layout": {
        "legend": {
         "tracegroupgap": 0
        },
        "template": {
         "data": {
          "bar": [
           {
            "error_x": {
             "color": "#2a3f5f"
            },
            "error_y": {
             "color": "#2a3f5f"
            },
            "marker": {
             "line": {
              "color": "#E5ECF6",
              "width": 0.5
             },
             "pattern": {
              "fillmode": "overlay",
              "size": 10,
              "solidity": 0.2
             }
            },
            "type": "bar"
           }
          ],
          "barpolar": [
           {
            "marker": {
             "line": {
              "color": "#E5ECF6",
              "width": 0.5
             },
             "pattern": {
              "fillmode": "overlay",
              "size": 10,
              "solidity": 0.2
             }
            },
            "type": "barpolar"
           }
          ],
          "carpet": [
           {
            "aaxis": {
             "endlinecolor": "#2a3f5f",
             "gridcolor": "white",
             "linecolor": "white",
             "minorgridcolor": "white",
             "startlinecolor": "#2a3f5f"
            },
            "baxis": {
             "endlinecolor": "#2a3f5f",
             "gridcolor": "white",
             "linecolor": "white",
             "minorgridcolor": "white",
             "startlinecolor": "#2a3f5f"
            },
            "type": "carpet"
           }
          ],
          "choropleth": [
           {
            "colorbar": {
             "outlinewidth": 0,
             "ticks": ""
            },
            "type": "choropleth"
           }
          ],
          "contour": [
           {
            "colorbar": {
             "outlinewidth": 0,
             "ticks": ""
            },
            "colorscale": [
             [
              0,
              "#0d0887"
             ],
             [
              0.1111111111111111,
              "#46039f"
             ],
             [
              0.2222222222222222,
              "#7201a8"
             ],
             [
              0.3333333333333333,
              "#9c179e"
             ],
             [
              0.4444444444444444,
              "#bd3786"
             ],
             [
              0.5555555555555556,
              "#d8576b"
             ],
             [
              0.6666666666666666,
              "#ed7953"
             ],
             [
              0.7777777777777778,
              "#fb9f3a"
             ],
             [
              0.8888888888888888,
              "#fdca26"
             ],
             [
              1,
              "#f0f921"
             ]
            ],
            "type": "contour"
           }
          ],
          "contourcarpet": [
           {
            "colorbar": {
             "outlinewidth": 0,
             "ticks": ""
            },
            "type": "contourcarpet"
           }
          ],
          "heatmap": [
           {
            "colorbar": {
             "outlinewidth": 0,
             "ticks": ""
            },
            "colorscale": [
             [
              0,
              "#0d0887"
             ],
             [
              0.1111111111111111,
              "#46039f"
             ],
             [
              0.2222222222222222,
              "#7201a8"
             ],
             [
              0.3333333333333333,
              "#9c179e"
             ],
             [
              0.4444444444444444,
              "#bd3786"
             ],
             [
              0.5555555555555556,
              "#d8576b"
             ],
             [
              0.6666666666666666,
              "#ed7953"
             ],
             [
              0.7777777777777778,
              "#fb9f3a"
             ],
             [
              0.8888888888888888,
              "#fdca26"
             ],
             [
              1,
              "#f0f921"
             ]
            ],
            "type": "heatmap"
           }
          ],
          "heatmapgl": [
           {
            "colorbar": {
             "outlinewidth": 0,
             "ticks": ""
            },
            "colorscale": [
             [
              0,
              "#0d0887"
             ],
             [
              0.1111111111111111,
              "#46039f"
             ],
             [
              0.2222222222222222,
              "#7201a8"
             ],
             [
              0.3333333333333333,
              "#9c179e"
             ],
             [
              0.4444444444444444,
              "#bd3786"
             ],
             [
              0.5555555555555556,
              "#d8576b"
             ],
             [
              0.6666666666666666,
              "#ed7953"
             ],
             [
              0.7777777777777778,
              "#fb9f3a"
             ],
             [
              0.8888888888888888,
              "#fdca26"
             ],
             [
              1,
              "#f0f921"
             ]
            ],
            "type": "heatmapgl"
           }
          ],
          "histogram": [
           {
            "marker": {
             "pattern": {
              "fillmode": "overlay",
              "size": 10,
              "solidity": 0.2
             }
            },
            "type": "histogram"
           }
          ],
          "histogram2d": [
           {
            "colorbar": {
             "outlinewidth": 0,
             "ticks": ""
            },
            "colorscale": [
             [
              0,
              "#0d0887"
             ],
             [
              0.1111111111111111,
              "#46039f"
             ],
             [
              0.2222222222222222,
              "#7201a8"
             ],
             [
              0.3333333333333333,
              "#9c179e"
             ],
             [
              0.4444444444444444,
              "#bd3786"
             ],
             [
              0.5555555555555556,
              "#d8576b"
             ],
             [
              0.6666666666666666,
              "#ed7953"
             ],
             [
              0.7777777777777778,
              "#fb9f3a"
             ],
             [
              0.8888888888888888,
              "#fdca26"
             ],
             [
              1,
              "#f0f921"
             ]
            ],
            "type": "histogram2d"
           }
          ],
          "histogram2dcontour": [
           {
            "colorbar": {
             "outlinewidth": 0,
             "ticks": ""
            },
            "colorscale": [
             [
              0,
              "#0d0887"
             ],
             [
              0.1111111111111111,
              "#46039f"
             ],
             [
              0.2222222222222222,
              "#7201a8"
             ],
             [
              0.3333333333333333,
              "#9c179e"
             ],
             [
              0.4444444444444444,
              "#bd3786"
             ],
             [
              0.5555555555555556,
              "#d8576b"
             ],
             [
              0.6666666666666666,
              "#ed7953"
             ],
             [
              0.7777777777777778,
              "#fb9f3a"
             ],
             [
              0.8888888888888888,
              "#fdca26"
             ],
             [
              1,
              "#f0f921"
             ]
            ],
            "type": "histogram2dcontour"
           }
          ],
          "mesh3d": [
           {
            "colorbar": {
             "outlinewidth": 0,
             "ticks": ""
            },
            "type": "mesh3d"
           }
          ],
          "parcoords": [
           {
            "line": {
             "colorbar": {
              "outlinewidth": 0,
              "ticks": ""
             }
            },
            "type": "parcoords"
           }
          ],
          "pie": [
           {
            "automargin": true,
            "type": "pie"
           }
          ],
          "scatter": [
           {
            "fillpattern": {
             "fillmode": "overlay",
             "size": 10,
             "solidity": 0.2
            },
            "type": "scatter"
           }
          ],
          "scatter3d": [
           {
            "line": {
             "colorbar": {
              "outlinewidth": 0,
              "ticks": ""
             }
            },
            "marker": {
             "colorbar": {
              "outlinewidth": 0,
              "ticks": ""
             }
            },
            "type": "scatter3d"
           }
          ],
          "scattercarpet": [
           {
            "marker": {
             "colorbar": {
              "outlinewidth": 0,
              "ticks": ""
             }
            },
            "type": "scattercarpet"
           }
          ],
          "scattergeo": [
           {
            "marker": {
             "colorbar": {
              "outlinewidth": 0,
              "ticks": ""
             }
            },
            "type": "scattergeo"
           }
          ],
          "scattergl": [
           {
            "marker": {
             "colorbar": {
              "outlinewidth": 0,
              "ticks": ""
             }
            },
            "type": "scattergl"
           }
          ],
          "scattermapbox": [
           {
            "marker": {
             "colorbar": {
              "outlinewidth": 0,
              "ticks": ""
             }
            },
            "type": "scattermapbox"
           }
          ],
          "scatterpolar": [
           {
            "marker": {
             "colorbar": {
              "outlinewidth": 0,
              "ticks": ""
             }
            },
            "type": "scatterpolar"
           }
          ],
          "scatterpolargl": [
           {
            "marker": {
             "colorbar": {
              "outlinewidth": 0,
              "ticks": ""
             }
            },
            "type": "scatterpolargl"
           }
          ],
          "scatterternary": [
           {
            "marker": {
             "colorbar": {
              "outlinewidth": 0,
              "ticks": ""
             }
            },
            "type": "scatterternary"
           }
          ],
          "surface": [
           {
            "colorbar": {
             "outlinewidth": 0,
             "ticks": ""
            },
            "colorscale": [
             [
              0,
              "#0d0887"
             ],
             [
              0.1111111111111111,
              "#46039f"
             ],
             [
              0.2222222222222222,
              "#7201a8"
             ],
             [
              0.3333333333333333,
              "#9c179e"
             ],
             [
              0.4444444444444444,
              "#bd3786"
             ],
             [
              0.5555555555555556,
              "#d8576b"
             ],
             [
              0.6666666666666666,
              "#ed7953"
             ],
             [
              0.7777777777777778,
              "#fb9f3a"
             ],
             [
              0.8888888888888888,
              "#fdca26"
             ],
             [
              1,
              "#f0f921"
             ]
            ],
            "type": "surface"
           }
          ],
          "table": [
           {
            "cells": {
             "fill": {
              "color": "#EBF0F8"
             },
             "line": {
              "color": "white"
             }
            },
            "header": {
             "fill": {
              "color": "#C8D4E3"
             },
             "line": {
              "color": "white"
             }
            },
            "type": "table"
           }
          ]
         },
         "layout": {
          "annotationdefaults": {
           "arrowcolor": "#2a3f5f",
           "arrowhead": 0,
           "arrowwidth": 1
          },
          "autotypenumbers": "strict",
          "coloraxis": {
           "colorbar": {
            "outlinewidth": 0,
            "ticks": ""
           }
          },
          "colorscale": {
           "diverging": [
            [
             0,
             "#8e0152"
            ],
            [
             0.1,
             "#c51b7d"
            ],
            [
             0.2,
             "#de77ae"
            ],
            [
             0.3,
             "#f1b6da"
            ],
            [
             0.4,
             "#fde0ef"
            ],
            [
             0.5,
             "#f7f7f7"
            ],
            [
             0.6,
             "#e6f5d0"
            ],
            [
             0.7,
             "#b8e186"
            ],
            [
             0.8,
             "#7fbc41"
            ],
            [
             0.9,
             "#4d9221"
            ],
            [
             1,
             "#276419"
            ]
           ],
           "sequential": [
            [
             0,
             "#0d0887"
            ],
            [
             0.1111111111111111,
             "#46039f"
            ],
            [
             0.2222222222222222,
             "#7201a8"
            ],
            [
             0.3333333333333333,
             "#9c179e"
            ],
            [
             0.4444444444444444,
             "#bd3786"
            ],
            [
             0.5555555555555556,
             "#d8576b"
            ],
            [
             0.6666666666666666,
             "#ed7953"
            ],
            [
             0.7777777777777778,
             "#fb9f3a"
            ],
            [
             0.8888888888888888,
             "#fdca26"
            ],
            [
             1,
             "#f0f921"
            ]
           ],
           "sequentialminus": [
            [
             0,
             "#0d0887"
            ],
            [
             0.1111111111111111,
             "#46039f"
            ],
            [
             0.2222222222222222,
             "#7201a8"
            ],
            [
             0.3333333333333333,
             "#9c179e"
            ],
            [
             0.4444444444444444,
             "#bd3786"
            ],
            [
             0.5555555555555556,
             "#d8576b"
            ],
            [
             0.6666666666666666,
             "#ed7953"
            ],
            [
             0.7777777777777778,
             "#fb9f3a"
            ],
            [
             0.8888888888888888,
             "#fdca26"
            ],
            [
             1,
             "#f0f921"
            ]
           ]
          },
          "colorway": [
           "#636efa",
           "#EF553B",
           "#00cc96",
           "#ab63fa",
           "#FFA15A",
           "#19d3f3",
           "#FF6692",
           "#B6E880",
           "#FF97FF",
           "#FECB52"
          ],
          "font": {
           "color": "#2a3f5f"
          },
          "geo": {
           "bgcolor": "white",
           "lakecolor": "white",
           "landcolor": "#E5ECF6",
           "showlakes": true,
           "showland": true,
           "subunitcolor": "white"
          },
          "hoverlabel": {
           "align": "left"
          },
          "hovermode": "closest",
          "mapbox": {
           "style": "light"
          },
          "paper_bgcolor": "white",
          "plot_bgcolor": "#E5ECF6",
          "polar": {
           "angularaxis": {
            "gridcolor": "white",
            "linecolor": "white",
            "ticks": ""
           },
           "bgcolor": "#E5ECF6",
           "radialaxis": {
            "gridcolor": "white",
            "linecolor": "white",
            "ticks": ""
           }
          },
          "scene": {
           "xaxis": {
            "backgroundcolor": "#E5ECF6",
            "gridcolor": "white",
            "gridwidth": 2,
            "linecolor": "white",
            "showbackground": true,
            "ticks": "",
            "zerolinecolor": "white"
           },
           "yaxis": {
            "backgroundcolor": "#E5ECF6",
            "gridcolor": "white",
            "gridwidth": 2,
            "linecolor": "white",
            "showbackground": true,
            "ticks": "",
            "zerolinecolor": "white"
           },
           "zaxis": {
            "backgroundcolor": "#E5ECF6",
            "gridcolor": "white",
            "gridwidth": 2,
            "linecolor": "white",
            "showbackground": true,
            "ticks": "",
            "zerolinecolor": "white"
           }
          },
          "shapedefaults": {
           "line": {
            "color": "#2a3f5f"
           }
          },
          "ternary": {
           "aaxis": {
            "gridcolor": "white",
            "linecolor": "white",
            "ticks": ""
           },
           "baxis": {
            "gridcolor": "white",
            "linecolor": "white",
            "ticks": ""
           },
           "bgcolor": "#E5ECF6",
           "caxis": {
            "gridcolor": "white",
            "linecolor": "white",
            "ticks": ""
           }
          },
          "title": {
           "x": 0.05
          },
          "xaxis": {
           "automargin": true,
           "gridcolor": "white",
           "linecolor": "white",
           "ticks": "",
           "title": {
            "standoff": 15
           },
           "zerolinecolor": "white",
           "zerolinewidth": 2
          },
          "yaxis": {
           "automargin": true,
           "gridcolor": "white",
           "linecolor": "white",
           "ticks": "",
           "title": {
            "standoff": 15
           },
           "zerolinecolor": "white",
           "zerolinewidth": 2
          }
         }
        },
        "title": {
         "text": "vertrek vertraging in minuten."
        }
       }
      }
     },
     "metadata": {},
     "output_type": "display_data"
    }
   ],
   "source": [
    "# Train_trafic_2023['binned'] = pd.cut(Train_trafic_2023['Stop:Departure delay'], bins=range(0, Train_trafic_2023['Stop:Departure delay'].max() + 10, 10), include_lowest=True)\n",
    "bins = list(range(1, 10, 1)) + list(range(10, 70, 10)) + list(range(70, int(Train_trafic_2023['Stop:Departure delay'].max()) +100, 100))\n",
    "\n",
    "# Define your custom labels\n",
    "labels = ['0'] +  [f'{bins[i]}-{bins[i+1]}' for i in range(len(bins)-1)]\n",
    "\n",
    "bins = [0] + bins \n",
    "\n",
    "Train_trafic_2023['binned vertrek vertraging'] = pd.cut(Train_trafic_2023['Stop:Departure delay'], bins=bins, labels=labels, include_lowest=True)\n",
    "Train_trafic_2023['binned vertrek vertraging'] = Train_trafic_2023['binned vertrek vertraging'].astype(str)\n",
    "\n",
    "counts = Train_trafic_2023['binned vertrek vertraging'].value_counts(sort=False)\n",
    "fig = px.pie(values=counts, names=counts.index, title='vertrek vertraging in minuten.')\n",
    "fig.show()"
   ]
  },
  {
   "cell_type": "markdown",
   "metadata": {},
   "source": [
    "in de chard hierboven is in te lezen dat de meeste treinen op tijd weggaan van hun locatie. houd nogmaals rekening dat 0 en nan allebij zeggen dat er geen vertraging vermeld is.\n",
    "\n",
    "en als ik de nan en 0 weg haal is de vertraging voornamelijk binnen de 10 minuten. ( je kunt zelf ook de 0 en nan weghalen in de pie chard. klick op de namen die u weg will hebben )\n",
    "\n",
    "maar dit hierboven is alleen de vertrek vertraging. hieronder heb ik de aankomst op de zelfde manier gedaan."
   ]
  },
  {
   "cell_type": "code",
   "execution_count": 49,
   "metadata": {},
   "outputs": [
    {
     "data": {
      "application/vnd.plotly.v1+json": {
       "config": {
        "plotlyServerURL": "https://plot.ly"
       },
       "data": [
        {
         "domain": {
          "x": [
           0,
           1
          ],
          "y": [
           0,
           1
          ]
         },
         "hovertemplate": "label=%{label}<br>value=%{value}<extra></extra>",
         "labels": [
          "nan",
          "0",
          "1-2",
          "2-3",
          "9-10",
          "6-7",
          "3-4",
          "8-9",
          "20-30",
          "10-20",
          "5-6",
          "7-8",
          "4-5",
          "30-40",
          "40-50",
          "50-60",
          "60-70",
          "70-170",
          "170-270"
         ],
         "legendgroup": "",
         "name": "",
         "showlegend": true,
         "type": "pie",
         "values": [
          551049,
          3984135,
          245072,
          120190,
          8871,
          19100,
          67481,
          11359,
          8833,
          37547,
          27238,
          14334,
          41775,
          2697,
          1116,
          508,
          344,
          552,
          49
         ]
        }
       ],
       "layout": {
        "legend": {
         "tracegroupgap": 0
        },
        "template": {
         "data": {
          "bar": [
           {
            "error_x": {
             "color": "#2a3f5f"
            },
            "error_y": {
             "color": "#2a3f5f"
            },
            "marker": {
             "line": {
              "color": "#E5ECF6",
              "width": 0.5
             },
             "pattern": {
              "fillmode": "overlay",
              "size": 10,
              "solidity": 0.2
             }
            },
            "type": "bar"
           }
          ],
          "barpolar": [
           {
            "marker": {
             "line": {
              "color": "#E5ECF6",
              "width": 0.5
             },
             "pattern": {
              "fillmode": "overlay",
              "size": 10,
              "solidity": 0.2
             }
            },
            "type": "barpolar"
           }
          ],
          "carpet": [
           {
            "aaxis": {
             "endlinecolor": "#2a3f5f",
             "gridcolor": "white",
             "linecolor": "white",
             "minorgridcolor": "white",
             "startlinecolor": "#2a3f5f"
            },
            "baxis": {
             "endlinecolor": "#2a3f5f",
             "gridcolor": "white",
             "linecolor": "white",
             "minorgridcolor": "white",
             "startlinecolor": "#2a3f5f"
            },
            "type": "carpet"
           }
          ],
          "choropleth": [
           {
            "colorbar": {
             "outlinewidth": 0,
             "ticks": ""
            },
            "type": "choropleth"
           }
          ],
          "contour": [
           {
            "colorbar": {
             "outlinewidth": 0,
             "ticks": ""
            },
            "colorscale": [
             [
              0,
              "#0d0887"
             ],
             [
              0.1111111111111111,
              "#46039f"
             ],
             [
              0.2222222222222222,
              "#7201a8"
             ],
             [
              0.3333333333333333,
              "#9c179e"
             ],
             [
              0.4444444444444444,
              "#bd3786"
             ],
             [
              0.5555555555555556,
              "#d8576b"
             ],
             [
              0.6666666666666666,
              "#ed7953"
             ],
             [
              0.7777777777777778,
              "#fb9f3a"
             ],
             [
              0.8888888888888888,
              "#fdca26"
             ],
             [
              1,
              "#f0f921"
             ]
            ],
            "type": "contour"
           }
          ],
          "contourcarpet": [
           {
            "colorbar": {
             "outlinewidth": 0,
             "ticks": ""
            },
            "type": "contourcarpet"
           }
          ],
          "heatmap": [
           {
            "colorbar": {
             "outlinewidth": 0,
             "ticks": ""
            },
            "colorscale": [
             [
              0,
              "#0d0887"
             ],
             [
              0.1111111111111111,
              "#46039f"
             ],
             [
              0.2222222222222222,
              "#7201a8"
             ],
             [
              0.3333333333333333,
              "#9c179e"
             ],
             [
              0.4444444444444444,
              "#bd3786"
             ],
             [
              0.5555555555555556,
              "#d8576b"
             ],
             [
              0.6666666666666666,
              "#ed7953"
             ],
             [
              0.7777777777777778,
              "#fb9f3a"
             ],
             [
              0.8888888888888888,
              "#fdca26"
             ],
             [
              1,
              "#f0f921"
             ]
            ],
            "type": "heatmap"
           }
          ],
          "heatmapgl": [
           {
            "colorbar": {
             "outlinewidth": 0,
             "ticks": ""
            },
            "colorscale": [
             [
              0,
              "#0d0887"
             ],
             [
              0.1111111111111111,
              "#46039f"
             ],
             [
              0.2222222222222222,
              "#7201a8"
             ],
             [
              0.3333333333333333,
              "#9c179e"
             ],
             [
              0.4444444444444444,
              "#bd3786"
             ],
             [
              0.5555555555555556,
              "#d8576b"
             ],
             [
              0.6666666666666666,
              "#ed7953"
             ],
             [
              0.7777777777777778,
              "#fb9f3a"
             ],
             [
              0.8888888888888888,
              "#fdca26"
             ],
             [
              1,
              "#f0f921"
             ]
            ],
            "type": "heatmapgl"
           }
          ],
          "histogram": [
           {
            "marker": {
             "pattern": {
              "fillmode": "overlay",
              "size": 10,
              "solidity": 0.2
             }
            },
            "type": "histogram"
           }
          ],
          "histogram2d": [
           {
            "colorbar": {
             "outlinewidth": 0,
             "ticks": ""
            },
            "colorscale": [
             [
              0,
              "#0d0887"
             ],
             [
              0.1111111111111111,
              "#46039f"
             ],
             [
              0.2222222222222222,
              "#7201a8"
             ],
             [
              0.3333333333333333,
              "#9c179e"
             ],
             [
              0.4444444444444444,
              "#bd3786"
             ],
             [
              0.5555555555555556,
              "#d8576b"
             ],
             [
              0.6666666666666666,
              "#ed7953"
             ],
             [
              0.7777777777777778,
              "#fb9f3a"
             ],
             [
              0.8888888888888888,
              "#fdca26"
             ],
             [
              1,
              "#f0f921"
             ]
            ],
            "type": "histogram2d"
           }
          ],
          "histogram2dcontour": [
           {
            "colorbar": {
             "outlinewidth": 0,
             "ticks": ""
            },
            "colorscale": [
             [
              0,
              "#0d0887"
             ],
             [
              0.1111111111111111,
              "#46039f"
             ],
             [
              0.2222222222222222,
              "#7201a8"
             ],
             [
              0.3333333333333333,
              "#9c179e"
             ],
             [
              0.4444444444444444,
              "#bd3786"
             ],
             [
              0.5555555555555556,
              "#d8576b"
             ],
             [
              0.6666666666666666,
              "#ed7953"
             ],
             [
              0.7777777777777778,
              "#fb9f3a"
             ],
             [
              0.8888888888888888,
              "#fdca26"
             ],
             [
              1,
              "#f0f921"
             ]
            ],
            "type": "histogram2dcontour"
           }
          ],
          "mesh3d": [
           {
            "colorbar": {
             "outlinewidth": 0,
             "ticks": ""
            },
            "type": "mesh3d"
           }
          ],
          "parcoords": [
           {
            "line": {
             "colorbar": {
              "outlinewidth": 0,
              "ticks": ""
             }
            },
            "type": "parcoords"
           }
          ],
          "pie": [
           {
            "automargin": true,
            "type": "pie"
           }
          ],
          "scatter": [
           {
            "fillpattern": {
             "fillmode": "overlay",
             "size": 10,
             "solidity": 0.2
            },
            "type": "scatter"
           }
          ],
          "scatter3d": [
           {
            "line": {
             "colorbar": {
              "outlinewidth": 0,
              "ticks": ""
             }
            },
            "marker": {
             "colorbar": {
              "outlinewidth": 0,
              "ticks": ""
             }
            },
            "type": "scatter3d"
           }
          ],
          "scattercarpet": [
           {
            "marker": {
             "colorbar": {
              "outlinewidth": 0,
              "ticks": ""
             }
            },
            "type": "scattercarpet"
           }
          ],
          "scattergeo": [
           {
            "marker": {
             "colorbar": {
              "outlinewidth": 0,
              "ticks": ""
             }
            },
            "type": "scattergeo"
           }
          ],
          "scattergl": [
           {
            "marker": {
             "colorbar": {
              "outlinewidth": 0,
              "ticks": ""
             }
            },
            "type": "scattergl"
           }
          ],
          "scattermapbox": [
           {
            "marker": {
             "colorbar": {
              "outlinewidth": 0,
              "ticks": ""
             }
            },
            "type": "scattermapbox"
           }
          ],
          "scatterpolar": [
           {
            "marker": {
             "colorbar": {
              "outlinewidth": 0,
              "ticks": ""
             }
            },
            "type": "scatterpolar"
           }
          ],
          "scatterpolargl": [
           {
            "marker": {
             "colorbar": {
              "outlinewidth": 0,
              "ticks": ""
             }
            },
            "type": "scatterpolargl"
           }
          ],
          "scatterternary": [
           {
            "marker": {
             "colorbar": {
              "outlinewidth": 0,
              "ticks": ""
             }
            },
            "type": "scatterternary"
           }
          ],
          "surface": [
           {
            "colorbar": {
             "outlinewidth": 0,
             "ticks": ""
            },
            "colorscale": [
             [
              0,
              "#0d0887"
             ],
             [
              0.1111111111111111,
              "#46039f"
             ],
             [
              0.2222222222222222,
              "#7201a8"
             ],
             [
              0.3333333333333333,
              "#9c179e"
             ],
             [
              0.4444444444444444,
              "#bd3786"
             ],
             [
              0.5555555555555556,
              "#d8576b"
             ],
             [
              0.6666666666666666,
              "#ed7953"
             ],
             [
              0.7777777777777778,
              "#fb9f3a"
             ],
             [
              0.8888888888888888,
              "#fdca26"
             ],
             [
              1,
              "#f0f921"
             ]
            ],
            "type": "surface"
           }
          ],
          "table": [
           {
            "cells": {
             "fill": {
              "color": "#EBF0F8"
             },
             "line": {
              "color": "white"
             }
            },
            "header": {
             "fill": {
              "color": "#C8D4E3"
             },
             "line": {
              "color": "white"
             }
            },
            "type": "table"
           }
          ]
         },
         "layout": {
          "annotationdefaults": {
           "arrowcolor": "#2a3f5f",
           "arrowhead": 0,
           "arrowwidth": 1
          },
          "autotypenumbers": "strict",
          "coloraxis": {
           "colorbar": {
            "outlinewidth": 0,
            "ticks": ""
           }
          },
          "colorscale": {
           "diverging": [
            [
             0,
             "#8e0152"
            ],
            [
             0.1,
             "#c51b7d"
            ],
            [
             0.2,
             "#de77ae"
            ],
            [
             0.3,
             "#f1b6da"
            ],
            [
             0.4,
             "#fde0ef"
            ],
            [
             0.5,
             "#f7f7f7"
            ],
            [
             0.6,
             "#e6f5d0"
            ],
            [
             0.7,
             "#b8e186"
            ],
            [
             0.8,
             "#7fbc41"
            ],
            [
             0.9,
             "#4d9221"
            ],
            [
             1,
             "#276419"
            ]
           ],
           "sequential": [
            [
             0,
             "#0d0887"
            ],
            [
             0.1111111111111111,
             "#46039f"
            ],
            [
             0.2222222222222222,
             "#7201a8"
            ],
            [
             0.3333333333333333,
             "#9c179e"
            ],
            [
             0.4444444444444444,
             "#bd3786"
            ],
            [
             0.5555555555555556,
             "#d8576b"
            ],
            [
             0.6666666666666666,
             "#ed7953"
            ],
            [
             0.7777777777777778,
             "#fb9f3a"
            ],
            [
             0.8888888888888888,
             "#fdca26"
            ],
            [
             1,
             "#f0f921"
            ]
           ],
           "sequentialminus": [
            [
             0,
             "#0d0887"
            ],
            [
             0.1111111111111111,
             "#46039f"
            ],
            [
             0.2222222222222222,
             "#7201a8"
            ],
            [
             0.3333333333333333,
             "#9c179e"
            ],
            [
             0.4444444444444444,
             "#bd3786"
            ],
            [
             0.5555555555555556,
             "#d8576b"
            ],
            [
             0.6666666666666666,
             "#ed7953"
            ],
            [
             0.7777777777777778,
             "#fb9f3a"
            ],
            [
             0.8888888888888888,
             "#fdca26"
            ],
            [
             1,
             "#f0f921"
            ]
           ]
          },
          "colorway": [
           "#636efa",
           "#EF553B",
           "#00cc96",
           "#ab63fa",
           "#FFA15A",
           "#19d3f3",
           "#FF6692",
           "#B6E880",
           "#FF97FF",
           "#FECB52"
          ],
          "font": {
           "color": "#2a3f5f"
          },
          "geo": {
           "bgcolor": "white",
           "lakecolor": "white",
           "landcolor": "#E5ECF6",
           "showlakes": true,
           "showland": true,
           "subunitcolor": "white"
          },
          "hoverlabel": {
           "align": "left"
          },
          "hovermode": "closest",
          "mapbox": {
           "style": "light"
          },
          "paper_bgcolor": "white",
          "plot_bgcolor": "#E5ECF6",
          "polar": {
           "angularaxis": {
            "gridcolor": "white",
            "linecolor": "white",
            "ticks": ""
           },
           "bgcolor": "#E5ECF6",
           "radialaxis": {
            "gridcolor": "white",
            "linecolor": "white",
            "ticks": ""
           }
          },
          "scene": {
           "xaxis": {
            "backgroundcolor": "#E5ECF6",
            "gridcolor": "white",
            "gridwidth": 2,
            "linecolor": "white",
            "showbackground": true,
            "ticks": "",
            "zerolinecolor": "white"
           },
           "yaxis": {
            "backgroundcolor": "#E5ECF6",
            "gridcolor": "white",
            "gridwidth": 2,
            "linecolor": "white",
            "showbackground": true,
            "ticks": "",
            "zerolinecolor": "white"
           },
           "zaxis": {
            "backgroundcolor": "#E5ECF6",
            "gridcolor": "white",
            "gridwidth": 2,
            "linecolor": "white",
            "showbackground": true,
            "ticks": "",
            "zerolinecolor": "white"
           }
          },
          "shapedefaults": {
           "line": {
            "color": "#2a3f5f"
           }
          },
          "ternary": {
           "aaxis": {
            "gridcolor": "white",
            "linecolor": "white",
            "ticks": ""
           },
           "baxis": {
            "gridcolor": "white",
            "linecolor": "white",
            "ticks": ""
           },
           "bgcolor": "#E5ECF6",
           "caxis": {
            "gridcolor": "white",
            "linecolor": "white",
            "ticks": ""
           }
          },
          "title": {
           "x": 0.05
          },
          "xaxis": {
           "automargin": true,
           "gridcolor": "white",
           "linecolor": "white",
           "ticks": "",
           "title": {
            "standoff": 15
           },
           "zerolinecolor": "white",
           "zerolinewidth": 2
          },
          "yaxis": {
           "automargin": true,
           "gridcolor": "white",
           "linecolor": "white",
           "ticks": "",
           "title": {
            "standoff": 15
           },
           "zerolinecolor": "white",
           "zerolinewidth": 2
          }
         }
        },
        "title": {
         "text": "aankomst vertraging in minuten."
        }
       }
      }
     },
     "metadata": {},
     "output_type": "display_data"
    }
   ],
   "source": [
    "bins = list(range(1, 10, 1)) + list(range(10, 70, 10)) + list(range(70, int(Train_trafic_2023['Stop:Arrival delay'].max()) +100, 100))\n",
    "\n",
    "# Define your custom labels\n",
    "labels = ['0'] +  [f'{bins[i]}-{bins[i+1]}' for i in range(len(bins)-1)]\n",
    "\n",
    "bins = [0] + bins \n",
    "\n",
    "Train_trafic_2023['binned aankomst vertraging'] = pd.cut(Train_trafic_2023['Stop:Arrival delay'], bins=bins, labels=labels, include_lowest=True)\n",
    "Train_trafic_2023['binned aankomst vertraging'] = Train_trafic_2023['binned aankomst vertraging'].astype(str)\n",
    "\n",
    "counts = Train_trafic_2023['binned aankomst vertraging'].value_counts(sort=False)\n",
    "fig = px.pie(values=counts, names=counts.index, title='aankomst vertraging in minuten.')\n",
    "fig.show()"
   ]
  },
  {
   "cell_type": "markdown",
   "metadata": {},
   "source": [
    "als ik naar wat de twee chards zeggen lijken ze goed evereen te komen. dit betekend dat meestal als een trein te laat binnen komt zal hij waarschijnlijk ook die zelfde verschil te laat vertrekken. en daarmee ga ik nu kijken wat de vertragin in minuten is in een tabel.\n",
    "\n",
    "met deze table zal ik kijken of er op een bepaalde lijn meer vertragin is dan op een ander. hiervoor moet ik wel oppassen en kijken of ik niet te vaak de zelfde lijn meenemen. en ik pak de mean omdat ik de average vertaging van de ritten op een dag zien."
   ]
  },
  {
   "cell_type": "code",
   "execution_count": 50,
   "metadata": {},
   "outputs": [
    {
     "data": {
      "text/html": [
       "<div>\n",
       "<style scoped>\n",
       "    .dataframe tbody tr th:only-of-type {\n",
       "        vertical-align: middle;\n",
       "    }\n",
       "\n",
       "    .dataframe tbody tr th {\n",
       "        vertical-align: top;\n",
       "    }\n",
       "\n",
       "    .dataframe thead th {\n",
       "        text-align: right;\n",
       "    }\n",
       "</style>\n",
       "<table border=\"1\" class=\"dataframe\">\n",
       "  <thead>\n",
       "    <tr style=\"text-align: right;\">\n",
       "      <th></th>\n",
       "      <th>Service:Date</th>\n",
       "      <th>Stop:Arrival delay</th>\n",
       "    </tr>\n",
       "  </thead>\n",
       "  <tbody>\n",
       "    <tr>\n",
       "      <th>0</th>\n",
       "      <td>2023-01-01</td>\n",
       "      <td>0.680368</td>\n",
       "    </tr>\n",
       "    <tr>\n",
       "      <th>1</th>\n",
       "      <td>2023-01-02</td>\n",
       "      <td>0.596654</td>\n",
       "    </tr>\n",
       "    <tr>\n",
       "      <th>2</th>\n",
       "      <td>2023-01-03</td>\n",
       "      <td>0.565669</td>\n",
       "    </tr>\n",
       "    <tr>\n",
       "      <th>3</th>\n",
       "      <td>2023-01-04</td>\n",
       "      <td>0.781114</td>\n",
       "    </tr>\n",
       "    <tr>\n",
       "      <th>4</th>\n",
       "      <td>2023-01-05</td>\n",
       "      <td>0.673781</td>\n",
       "    </tr>\n",
       "    <tr>\n",
       "      <th>...</th>\n",
       "      <td>...</td>\n",
       "      <td>...</td>\n",
       "    </tr>\n",
       "    <tr>\n",
       "      <th>85</th>\n",
       "      <td>2023-03-27</td>\n",
       "      <td>0.799672</td>\n",
       "    </tr>\n",
       "    <tr>\n",
       "      <th>86</th>\n",
       "      <td>2023-03-28</td>\n",
       "      <td>0.964126</td>\n",
       "    </tr>\n",
       "    <tr>\n",
       "      <th>87</th>\n",
       "      <td>2023-03-29</td>\n",
       "      <td>0.642580</td>\n",
       "    </tr>\n",
       "    <tr>\n",
       "      <th>88</th>\n",
       "      <td>2023-03-30</td>\n",
       "      <td>0.710096</td>\n",
       "    </tr>\n",
       "    <tr>\n",
       "      <th>89</th>\n",
       "      <td>2023-03-31</td>\n",
       "      <td>0.702228</td>\n",
       "    </tr>\n",
       "  </tbody>\n",
       "</table>\n",
       "<p>90 rows × 2 columns</p>\n",
       "</div>"
      ],
      "text/plain": [
       "   Service:Date  Stop:Arrival delay\n",
       "0    2023-01-01            0.680368\n",
       "1    2023-01-02            0.596654\n",
       "2    2023-01-03            0.565669\n",
       "3    2023-01-04            0.781114\n",
       "4    2023-01-05            0.673781\n",
       "..          ...                 ...\n",
       "85   2023-03-27            0.799672\n",
       "86   2023-03-28            0.964126\n",
       "87   2023-03-29            0.642580\n",
       "88   2023-03-30            0.710096\n",
       "89   2023-03-31            0.702228\n",
       "\n",
       "[90 rows x 2 columns]"
      ]
     },
     "metadata": {},
     "output_type": "display_data"
    },
    {
     "data": {
      "application/vnd.plotly.v1+json": {
       "config": {
        "plotlyServerURL": "https://plot.ly"
       },
       "data": [
        {
         "alignmentgroup": "True",
         "hovertemplate": "Service:Date=%{x}<br>Stop:Arrival delay=%{y}<extra></extra>",
         "legendgroup": "",
         "marker": {
          "color": "#636efa",
          "pattern": {
           "shape": ""
          }
         },
         "name": "",
         "offsetgroup": "",
         "orientation": "v",
         "showlegend": false,
         "textposition": "auto",
         "type": "bar",
         "x": [
          "2023-01-01T00:00:00",
          "2023-01-02T00:00:00",
          "2023-01-03T00:00:00",
          "2023-01-04T00:00:00",
          "2023-01-05T00:00:00",
          "2023-01-06T00:00:00",
          "2023-01-07T00:00:00",
          "2023-01-08T00:00:00",
          "2023-01-09T00:00:00",
          "2023-01-10T00:00:00",
          "2023-01-11T00:00:00",
          "2023-01-12T00:00:00",
          "2023-01-13T00:00:00",
          "2023-01-14T00:00:00",
          "2023-01-15T00:00:00",
          "2023-01-16T00:00:00",
          "2023-01-17T00:00:00",
          "2023-01-18T00:00:00",
          "2023-01-19T00:00:00",
          "2023-01-20T00:00:00",
          "2023-01-21T00:00:00",
          "2023-01-22T00:00:00",
          "2023-01-23T00:00:00",
          "2023-01-24T00:00:00",
          "2023-01-25T00:00:00",
          "2023-01-26T00:00:00",
          "2023-01-27T00:00:00",
          "2023-01-28T00:00:00",
          "2023-01-29T00:00:00",
          "2023-01-30T00:00:00",
          "2023-01-31T00:00:00",
          "2023-02-01T00:00:00",
          "2023-02-02T00:00:00",
          "2023-02-03T00:00:00",
          "2023-02-04T00:00:00",
          "2023-02-05T00:00:00",
          "2023-02-06T00:00:00",
          "2023-02-07T00:00:00",
          "2023-02-08T00:00:00",
          "2023-02-09T00:00:00",
          "2023-02-10T00:00:00",
          "2023-02-11T00:00:00",
          "2023-02-12T00:00:00",
          "2023-02-13T00:00:00",
          "2023-02-14T00:00:00",
          "2023-02-15T00:00:00",
          "2023-02-16T00:00:00",
          "2023-02-17T00:00:00",
          "2023-02-18T00:00:00",
          "2023-02-19T00:00:00",
          "2023-02-20T00:00:00",
          "2023-02-21T00:00:00",
          "2023-02-22T00:00:00",
          "2023-02-23T00:00:00",
          "2023-02-24T00:00:00",
          "2023-02-25T00:00:00",
          "2023-02-26T00:00:00",
          "2023-02-27T00:00:00",
          "2023-02-28T00:00:00",
          "2023-03-01T00:00:00",
          "2023-03-02T00:00:00",
          "2023-03-03T00:00:00",
          "2023-03-04T00:00:00",
          "2023-03-05T00:00:00",
          "2023-03-06T00:00:00",
          "2023-03-07T00:00:00",
          "2023-03-08T00:00:00",
          "2023-03-09T00:00:00",
          "2023-03-10T00:00:00",
          "2023-03-11T00:00:00",
          "2023-03-12T00:00:00",
          "2023-03-13T00:00:00",
          "2023-03-14T00:00:00",
          "2023-03-15T00:00:00",
          "2023-03-16T00:00:00",
          "2023-03-17T00:00:00",
          "2023-03-18T00:00:00",
          "2023-03-19T00:00:00",
          "2023-03-20T00:00:00",
          "2023-03-21T00:00:00",
          "2023-03-22T00:00:00",
          "2023-03-23T00:00:00",
          "2023-03-24T00:00:00",
          "2023-03-25T00:00:00",
          "2023-03-26T00:00:00",
          "2023-03-27T00:00:00",
          "2023-03-28T00:00:00",
          "2023-03-29T00:00:00",
          "2023-03-30T00:00:00",
          "2023-03-31T00:00:00"
         ],
         "xaxis": "x",
         "y": [
          0.680367764904871,
          0.5966539008872732,
          0.5656685108766613,
          0.7811141323620724,
          0.6737806923034191,
          0.6174631925586128,
          0.4663534247975104,
          0.45197431299100566,
          0.7483572251616505,
          1.0314186180274707,
          0.7427295434758119,
          1.0629957230918963,
          0.8385574258450288,
          0.5130482537391939,
          0.4432388138522442,
          1.0262975457975951,
          1.01111381865363,
          0.9148790323979462,
          0.6754505975880459,
          0.6757469100316108,
          0.5750894732668116,
          0.5780595503873767,
          0.7661866962849417,
          0.8087770117655753,
          0.6915436840419728,
          0.8247589339233795,
          0.5882869902679844,
          0.47901714358879743,
          0.39256628712396957,
          0.8227124826763971,
          0.8783537815798049,
          0.7466175946350179,
          0.8642689255814949,
          1.0234082921553296,
          0.49282241722491427,
          0.39969513094675585,
          0.7843655081796805,
          0.8489904100711966,
          0.5851551666509316,
          0.6819300462835677,
          0.7430524203451366,
          0.45735785603735274,
          0.5361290314013741,
          0.877764389606117,
          0.9251828245515821,
          0.8228050041114853,
          0.9265993099889854,
          0.9822993910921118,
          0.7835081760213805,
          0.5926672184114946,
          0.7093602782204027,
          0.8726160148648069,
          0.9543764494214387,
          0.7843202596093701,
          0.7235479710970609,
          0.49191578695326854,
          0.4313737975264992,
          0.7833841076183417,
          0.6181104124828783,
          0.6816881402386373,
          0.5395368059716774,
          0.6267384120635483,
          0.5268161211258259,
          0.5054253547930336,
          0.7422376815083725,
          0.767654731073532,
          0.8684178951910588,
          0.8426103739548312,
          0.9831524392829442,
          0.5222292300413436,
          0.5365181131191288,
          1.2102279051613423,
          0.8911218809886726,
          0.9493861478032715,
          0.8361498977419819,
          0.9058703944970192,
          0.5798893076263106,
          0.5495848539352757,
          0.8791765821876335,
          0.7412596847893471,
          0.750364100509434,
          0.741634016263861,
          0.7886147769703571,
          0.5077892266605186,
          0.5300419707312288,
          0.799672282557934,
          0.9641258170567947,
          0.6425801218639419,
          0.710095568509511,
          0.7022275618662405
         ],
         "yaxis": "y"
        }
       ],
       "layout": {
        "barmode": "relative",
        "legend": {
         "tracegroupgap": 0
        },
        "margin": {
         "t": 60
        },
        "template": {
         "data": {
          "bar": [
           {
            "error_x": {
             "color": "#2a3f5f"
            },
            "error_y": {
             "color": "#2a3f5f"
            },
            "marker": {
             "line": {
              "color": "#E5ECF6",
              "width": 0.5
             },
             "pattern": {
              "fillmode": "overlay",
              "size": 10,
              "solidity": 0.2
             }
            },
            "type": "bar"
           }
          ],
          "barpolar": [
           {
            "marker": {
             "line": {
              "color": "#E5ECF6",
              "width": 0.5
             },
             "pattern": {
              "fillmode": "overlay",
              "size": 10,
              "solidity": 0.2
             }
            },
            "type": "barpolar"
           }
          ],
          "carpet": [
           {
            "aaxis": {
             "endlinecolor": "#2a3f5f",
             "gridcolor": "white",
             "linecolor": "white",
             "minorgridcolor": "white",
             "startlinecolor": "#2a3f5f"
            },
            "baxis": {
             "endlinecolor": "#2a3f5f",
             "gridcolor": "white",
             "linecolor": "white",
             "minorgridcolor": "white",
             "startlinecolor": "#2a3f5f"
            },
            "type": "carpet"
           }
          ],
          "choropleth": [
           {
            "colorbar": {
             "outlinewidth": 0,
             "ticks": ""
            },
            "type": "choropleth"
           }
          ],
          "contour": [
           {
            "colorbar": {
             "outlinewidth": 0,
             "ticks": ""
            },
            "colorscale": [
             [
              0,
              "#0d0887"
             ],
             [
              0.1111111111111111,
              "#46039f"
             ],
             [
              0.2222222222222222,
              "#7201a8"
             ],
             [
              0.3333333333333333,
              "#9c179e"
             ],
             [
              0.4444444444444444,
              "#bd3786"
             ],
             [
              0.5555555555555556,
              "#d8576b"
             ],
             [
              0.6666666666666666,
              "#ed7953"
             ],
             [
              0.7777777777777778,
              "#fb9f3a"
             ],
             [
              0.8888888888888888,
              "#fdca26"
             ],
             [
              1,
              "#f0f921"
             ]
            ],
            "type": "contour"
           }
          ],
          "contourcarpet": [
           {
            "colorbar": {
             "outlinewidth": 0,
             "ticks": ""
            },
            "type": "contourcarpet"
           }
          ],
          "heatmap": [
           {
            "colorbar": {
             "outlinewidth": 0,
             "ticks": ""
            },
            "colorscale": [
             [
              0,
              "#0d0887"
             ],
             [
              0.1111111111111111,
              "#46039f"
             ],
             [
              0.2222222222222222,
              "#7201a8"
             ],
             [
              0.3333333333333333,
              "#9c179e"
             ],
             [
              0.4444444444444444,
              "#bd3786"
             ],
             [
              0.5555555555555556,
              "#d8576b"
             ],
             [
              0.6666666666666666,
              "#ed7953"
             ],
             [
              0.7777777777777778,
              "#fb9f3a"
             ],
             [
              0.8888888888888888,
              "#fdca26"
             ],
             [
              1,
              "#f0f921"
             ]
            ],
            "type": "heatmap"
           }
          ],
          "heatmapgl": [
           {
            "colorbar": {
             "outlinewidth": 0,
             "ticks": ""
            },
            "colorscale": [
             [
              0,
              "#0d0887"
             ],
             [
              0.1111111111111111,
              "#46039f"
             ],
             [
              0.2222222222222222,
              "#7201a8"
             ],
             [
              0.3333333333333333,
              "#9c179e"
             ],
             [
              0.4444444444444444,
              "#bd3786"
             ],
             [
              0.5555555555555556,
              "#d8576b"
             ],
             [
              0.6666666666666666,
              "#ed7953"
             ],
             [
              0.7777777777777778,
              "#fb9f3a"
             ],
             [
              0.8888888888888888,
              "#fdca26"
             ],
             [
              1,
              "#f0f921"
             ]
            ],
            "type": "heatmapgl"
           }
          ],
          "histogram": [
           {
            "marker": {
             "pattern": {
              "fillmode": "overlay",
              "size": 10,
              "solidity": 0.2
             }
            },
            "type": "histogram"
           }
          ],
          "histogram2d": [
           {
            "colorbar": {
             "outlinewidth": 0,
             "ticks": ""
            },
            "colorscale": [
             [
              0,
              "#0d0887"
             ],
             [
              0.1111111111111111,
              "#46039f"
             ],
             [
              0.2222222222222222,
              "#7201a8"
             ],
             [
              0.3333333333333333,
              "#9c179e"
             ],
             [
              0.4444444444444444,
              "#bd3786"
             ],
             [
              0.5555555555555556,
              "#d8576b"
             ],
             [
              0.6666666666666666,
              "#ed7953"
             ],
             [
              0.7777777777777778,
              "#fb9f3a"
             ],
             [
              0.8888888888888888,
              "#fdca26"
             ],
             [
              1,
              "#f0f921"
             ]
            ],
            "type": "histogram2d"
           }
          ],
          "histogram2dcontour": [
           {
            "colorbar": {
             "outlinewidth": 0,
             "ticks": ""
            },
            "colorscale": [
             [
              0,
              "#0d0887"
             ],
             [
              0.1111111111111111,
              "#46039f"
             ],
             [
              0.2222222222222222,
              "#7201a8"
             ],
             [
              0.3333333333333333,
              "#9c179e"
             ],
             [
              0.4444444444444444,
              "#bd3786"
             ],
             [
              0.5555555555555556,
              "#d8576b"
             ],
             [
              0.6666666666666666,
              "#ed7953"
             ],
             [
              0.7777777777777778,
              "#fb9f3a"
             ],
             [
              0.8888888888888888,
              "#fdca26"
             ],
             [
              1,
              "#f0f921"
             ]
            ],
            "type": "histogram2dcontour"
           }
          ],
          "mesh3d": [
           {
            "colorbar": {
             "outlinewidth": 0,
             "ticks": ""
            },
            "type": "mesh3d"
           }
          ],
          "parcoords": [
           {
            "line": {
             "colorbar": {
              "outlinewidth": 0,
              "ticks": ""
             }
            },
            "type": "parcoords"
           }
          ],
          "pie": [
           {
            "automargin": true,
            "type": "pie"
           }
          ],
          "scatter": [
           {
            "fillpattern": {
             "fillmode": "overlay",
             "size": 10,
             "solidity": 0.2
            },
            "type": "scatter"
           }
          ],
          "scatter3d": [
           {
            "line": {
             "colorbar": {
              "outlinewidth": 0,
              "ticks": ""
             }
            },
            "marker": {
             "colorbar": {
              "outlinewidth": 0,
              "ticks": ""
             }
            },
            "type": "scatter3d"
           }
          ],
          "scattercarpet": [
           {
            "marker": {
             "colorbar": {
              "outlinewidth": 0,
              "ticks": ""
             }
            },
            "type": "scattercarpet"
           }
          ],
          "scattergeo": [
           {
            "marker": {
             "colorbar": {
              "outlinewidth": 0,
              "ticks": ""
             }
            },
            "type": "scattergeo"
           }
          ],
          "scattergl": [
           {
            "marker": {
             "colorbar": {
              "outlinewidth": 0,
              "ticks": ""
             }
            },
            "type": "scattergl"
           }
          ],
          "scattermapbox": [
           {
            "marker": {
             "colorbar": {
              "outlinewidth": 0,
              "ticks": ""
             }
            },
            "type": "scattermapbox"
           }
          ],
          "scatterpolar": [
           {
            "marker": {
             "colorbar": {
              "outlinewidth": 0,
              "ticks": ""
             }
            },
            "type": "scatterpolar"
           }
          ],
          "scatterpolargl": [
           {
            "marker": {
             "colorbar": {
              "outlinewidth": 0,
              "ticks": ""
             }
            },
            "type": "scatterpolargl"
           }
          ],
          "scatterternary": [
           {
            "marker": {
             "colorbar": {
              "outlinewidth": 0,
              "ticks": ""
             }
            },
            "type": "scatterternary"
           }
          ],
          "surface": [
           {
            "colorbar": {
             "outlinewidth": 0,
             "ticks": ""
            },
            "colorscale": [
             [
              0,
              "#0d0887"
             ],
             [
              0.1111111111111111,
              "#46039f"
             ],
             [
              0.2222222222222222,
              "#7201a8"
             ],
             [
              0.3333333333333333,
              "#9c179e"
             ],
             [
              0.4444444444444444,
              "#bd3786"
             ],
             [
              0.5555555555555556,
              "#d8576b"
             ],
             [
              0.6666666666666666,
              "#ed7953"
             ],
             [
              0.7777777777777778,
              "#fb9f3a"
             ],
             [
              0.8888888888888888,
              "#fdca26"
             ],
             [
              1,
              "#f0f921"
             ]
            ],
            "type": "surface"
           }
          ],
          "table": [
           {
            "cells": {
             "fill": {
              "color": "#EBF0F8"
             },
             "line": {
              "color": "white"
             }
            },
            "header": {
             "fill": {
              "color": "#C8D4E3"
             },
             "line": {
              "color": "white"
             }
            },
            "type": "table"
           }
          ]
         },
         "layout": {
          "annotationdefaults": {
           "arrowcolor": "#2a3f5f",
           "arrowhead": 0,
           "arrowwidth": 1
          },
          "autotypenumbers": "strict",
          "coloraxis": {
           "colorbar": {
            "outlinewidth": 0,
            "ticks": ""
           }
          },
          "colorscale": {
           "diverging": [
            [
             0,
             "#8e0152"
            ],
            [
             0.1,
             "#c51b7d"
            ],
            [
             0.2,
             "#de77ae"
            ],
            [
             0.3,
             "#f1b6da"
            ],
            [
             0.4,
             "#fde0ef"
            ],
            [
             0.5,
             "#f7f7f7"
            ],
            [
             0.6,
             "#e6f5d0"
            ],
            [
             0.7,
             "#b8e186"
            ],
            [
             0.8,
             "#7fbc41"
            ],
            [
             0.9,
             "#4d9221"
            ],
            [
             1,
             "#276419"
            ]
           ],
           "sequential": [
            [
             0,
             "#0d0887"
            ],
            [
             0.1111111111111111,
             "#46039f"
            ],
            [
             0.2222222222222222,
             "#7201a8"
            ],
            [
             0.3333333333333333,
             "#9c179e"
            ],
            [
             0.4444444444444444,
             "#bd3786"
            ],
            [
             0.5555555555555556,
             "#d8576b"
            ],
            [
             0.6666666666666666,
             "#ed7953"
            ],
            [
             0.7777777777777778,
             "#fb9f3a"
            ],
            [
             0.8888888888888888,
             "#fdca26"
            ],
            [
             1,
             "#f0f921"
            ]
           ],
           "sequentialminus": [
            [
             0,
             "#0d0887"
            ],
            [
             0.1111111111111111,
             "#46039f"
            ],
            [
             0.2222222222222222,
             "#7201a8"
            ],
            [
             0.3333333333333333,
             "#9c179e"
            ],
            [
             0.4444444444444444,
             "#bd3786"
            ],
            [
             0.5555555555555556,
             "#d8576b"
            ],
            [
             0.6666666666666666,
             "#ed7953"
            ],
            [
             0.7777777777777778,
             "#fb9f3a"
            ],
            [
             0.8888888888888888,
             "#fdca26"
            ],
            [
             1,
             "#f0f921"
            ]
           ]
          },
          "colorway": [
           "#636efa",
           "#EF553B",
           "#00cc96",
           "#ab63fa",
           "#FFA15A",
           "#19d3f3",
           "#FF6692",
           "#B6E880",
           "#FF97FF",
           "#FECB52"
          ],
          "font": {
           "color": "#2a3f5f"
          },
          "geo": {
           "bgcolor": "white",
           "lakecolor": "white",
           "landcolor": "#E5ECF6",
           "showlakes": true,
           "showland": true,
           "subunitcolor": "white"
          },
          "hoverlabel": {
           "align": "left"
          },
          "hovermode": "closest",
          "mapbox": {
           "style": "light"
          },
          "paper_bgcolor": "white",
          "plot_bgcolor": "#E5ECF6",
          "polar": {
           "angularaxis": {
            "gridcolor": "white",
            "linecolor": "white",
            "ticks": ""
           },
           "bgcolor": "#E5ECF6",
           "radialaxis": {
            "gridcolor": "white",
            "linecolor": "white",
            "ticks": ""
           }
          },
          "scene": {
           "xaxis": {
            "backgroundcolor": "#E5ECF6",
            "gridcolor": "white",
            "gridwidth": 2,
            "linecolor": "white",
            "showbackground": true,
            "ticks": "",
            "zerolinecolor": "white"
           },
           "yaxis": {
            "backgroundcolor": "#E5ECF6",
            "gridcolor": "white",
            "gridwidth": 2,
            "linecolor": "white",
            "showbackground": true,
            "ticks": "",
            "zerolinecolor": "white"
           },
           "zaxis": {
            "backgroundcolor": "#E5ECF6",
            "gridcolor": "white",
            "gridwidth": 2,
            "linecolor": "white",
            "showbackground": true,
            "ticks": "",
            "zerolinecolor": "white"
           }
          },
          "shapedefaults": {
           "line": {
            "color": "#2a3f5f"
           }
          },
          "ternary": {
           "aaxis": {
            "gridcolor": "white",
            "linecolor": "white",
            "ticks": ""
           },
           "baxis": {
            "gridcolor": "white",
            "linecolor": "white",
            "ticks": ""
           },
           "bgcolor": "#E5ECF6",
           "caxis": {
            "gridcolor": "white",
            "linecolor": "white",
            "ticks": ""
           }
          },
          "title": {
           "x": 0.05
          },
          "xaxis": {
           "automargin": true,
           "gridcolor": "white",
           "linecolor": "white",
           "ticks": "",
           "title": {
            "standoff": 15
           },
           "zerolinecolor": "white",
           "zerolinewidth": 2
          },
          "yaxis": {
           "automargin": true,
           "gridcolor": "white",
           "linecolor": "white",
           "ticks": "",
           "title": {
            "standoff": 15
           },
           "zerolinecolor": "white",
           "zerolinewidth": 2
          }
         }
        },
        "xaxis": {
         "anchor": "y",
         "domain": [
          0,
          1
         ],
         "title": {
          "text": "Service:Date"
         }
        },
        "yaxis": {
         "anchor": "x",
         "domain": [
          0,
          1
         ],
         "title": {
          "text": "Stop:Arrival delay"
         }
        }
       }
      }
     },
     "metadata": {},
     "output_type": "display_data"
    }
   ],
   "source": [
    "\n",
    "# Service:RDT-ID, Service:Date\n",
    "\n",
    "grouped = Train_trafic_2023.groupby(['Service:Date', 'Service:RDT-ID'])['Stop:Arrival delay'].mean()\n",
    "\n",
    "# To convert it back to a DataFrame\n",
    "df_avarage_delay_day = grouped.reset_index(name='Stop:Arrival delay')\n",
    "\n",
    "grouped = df_avarage_delay_day.groupby(['Service:Date'])['Stop:Arrival delay'].mean()\n",
    "\n",
    "df_avarage_delay_day = grouped.reset_index(name='Stop:Arrival delay')\n",
    "\n",
    "display(df_avarage_delay_day)\n",
    "\n",
    "fig = px.bar(df_avarage_delay_day, x='Service:Date', y='Stop:Arrival delay')\n",
    "fig.show()"
   ]
  },
  {
   "cell_type": "markdown",
   "metadata": {},
   "source": [
    "in te grafiek hierboven is te zien dat het schommeeld door de maanden. dit kan belangerijk zijn voor het testen van omstandigheden."
   ]
  },
  {
   "cell_type": "markdown",
   "metadata": {},
   "source": [
    "### 🌥️ het weer\n",
    "in het weer bestaan veel colomen en ik kijk even wat er nodig is en wat niet. daarvoor ga ik het gemidelde berekenene en kijken hoe ver ik daarmee van het antwoord. als het in de buurt zit kan ik zeggen dat de avarage goed is voor nederland als het niet zo is moet ik even kijken wat ik dan ga doen.\n"
   ]
  },
  {
   "cell_type": "code",
   "execution_count": 51,
   "metadata": {},
   "outputs": [
    {
     "data": {
      "text/html": [
       "<div>\n",
       "<style scoped>\n",
       "    .dataframe tbody tr th:only-of-type {\n",
       "        vertical-align: middle;\n",
       "    }\n",
       "\n",
       "    .dataframe tbody tr th {\n",
       "        vertical-align: top;\n",
       "    }\n",
       "\n",
       "    .dataframe thead th {\n",
       "        text-align: right;\n",
       "    }\n",
       "</style>\n",
       "<table border=\"1\" class=\"dataframe\">\n",
       "  <thead>\n",
       "    <tr style=\"text-align: right;\">\n",
       "      <th></th>\n",
       "      <th>start_time</th>\n",
       "      <th>DD</th>\n",
       "      <th>FH</th>\n",
       "      <th>FF</th>\n",
       "      <th>FX</th>\n",
       "      <th>temp</th>\n",
       "      <th>T10N</th>\n",
       "      <th>TD</th>\n",
       "      <th>SQ</th>\n",
       "      <th>Q</th>\n",
       "      <th>...</th>\n",
       "      <th>VV</th>\n",
       "      <th>N</th>\n",
       "      <th>U</th>\n",
       "      <th>WW</th>\n",
       "      <th>IX</th>\n",
       "      <th>M</th>\n",
       "      <th>R</th>\n",
       "      <th>S</th>\n",
       "      <th>O</th>\n",
       "      <th>Y</th>\n",
       "    </tr>\n",
       "  </thead>\n",
       "  <tbody>\n",
       "    <tr>\n",
       "      <th>0</th>\n",
       "      <td>2023-01-01 00:00:00</td>\n",
       "      <td>215.555556</td>\n",
       "      <td>110.666667</td>\n",
       "      <td>110.000000</td>\n",
       "      <td>172.222222</td>\n",
       "      <td>140.617647</td>\n",
       "      <td>NaN</td>\n",
       "      <td>80.382353</td>\n",
       "      <td>0.00000</td>\n",
       "      <td>0.00000</td>\n",
       "      <td>...</td>\n",
       "      <td>73.28</td>\n",
       "      <td>8.00</td>\n",
       "      <td>67.558824</td>\n",
       "      <td>36.062500</td>\n",
       "      <td>6.152174</td>\n",
       "      <td>0.0</td>\n",
       "      <td>0.56</td>\n",
       "      <td>0.0</td>\n",
       "      <td>0.0</td>\n",
       "      <td>0.0</td>\n",
       "    </tr>\n",
       "    <tr>\n",
       "      <th>1</th>\n",
       "      <td>2023-01-01 01:00:00</td>\n",
       "      <td>215.333333</td>\n",
       "      <td>108.000000</td>\n",
       "      <td>106.444444</td>\n",
       "      <td>167.333333</td>\n",
       "      <td>138.029412</td>\n",
       "      <td>NaN</td>\n",
       "      <td>80.764706</td>\n",
       "      <td>0.00000</td>\n",
       "      <td>0.00000</td>\n",
       "      <td>...</td>\n",
       "      <td>74.28</td>\n",
       "      <td>8.00</td>\n",
       "      <td>68.941176</td>\n",
       "      <td>49.187500</td>\n",
       "      <td>6.152174</td>\n",
       "      <td>0.0</td>\n",
       "      <td>0.64</td>\n",
       "      <td>0.0</td>\n",
       "      <td>0.0</td>\n",
       "      <td>0.0</td>\n",
       "    </tr>\n",
       "    <tr>\n",
       "      <th>2</th>\n",
       "      <td>2023-01-01 02:00:00</td>\n",
       "      <td>220.222222</td>\n",
       "      <td>107.333333</td>\n",
       "      <td>106.888889</td>\n",
       "      <td>168.000000</td>\n",
       "      <td>135.529412</td>\n",
       "      <td>NaN</td>\n",
       "      <td>79.941176</td>\n",
       "      <td>0.00000</td>\n",
       "      <td>0.00000</td>\n",
       "      <td>...</td>\n",
       "      <td>74.12</td>\n",
       "      <td>8.00</td>\n",
       "      <td>69.764706</td>\n",
       "      <td>30.631579</td>\n",
       "      <td>6.282609</td>\n",
       "      <td>0.0</td>\n",
       "      <td>0.48</td>\n",
       "      <td>0.0</td>\n",
       "      <td>0.0</td>\n",
       "      <td>0.0</td>\n",
       "    </tr>\n",
       "    <tr>\n",
       "      <th>3</th>\n",
       "      <td>2023-01-01 03:00:00</td>\n",
       "      <td>223.111111</td>\n",
       "      <td>104.000000</td>\n",
       "      <td>103.333333</td>\n",
       "      <td>165.111111</td>\n",
       "      <td>131.323529</td>\n",
       "      <td>NaN</td>\n",
       "      <td>80.911765</td>\n",
       "      <td>0.00000</td>\n",
       "      <td>0.00000</td>\n",
       "      <td>...</td>\n",
       "      <td>73.20</td>\n",
       "      <td>7.95</td>\n",
       "      <td>72.147059</td>\n",
       "      <td>34.062500</td>\n",
       "      <td>6.152174</td>\n",
       "      <td>0.0</td>\n",
       "      <td>0.64</td>\n",
       "      <td>0.0</td>\n",
       "      <td>0.0</td>\n",
       "      <td>0.0</td>\n",
       "    </tr>\n",
       "    <tr>\n",
       "      <th>4</th>\n",
       "      <td>2023-01-01 04:00:00</td>\n",
       "      <td>224.444444</td>\n",
       "      <td>99.111111</td>\n",
       "      <td>99.111111</td>\n",
       "      <td>158.444444</td>\n",
       "      <td>125.970588</td>\n",
       "      <td>NaN</td>\n",
       "      <td>79.970588</td>\n",
       "      <td>0.00000</td>\n",
       "      <td>0.00000</td>\n",
       "      <td>...</td>\n",
       "      <td>73.88</td>\n",
       "      <td>8.00</td>\n",
       "      <td>73.911765</td>\n",
       "      <td>20.833333</td>\n",
       "      <td>5.978261</td>\n",
       "      <td>0.0</td>\n",
       "      <td>0.40</td>\n",
       "      <td>0.0</td>\n",
       "      <td>0.0</td>\n",
       "      <td>0.0</td>\n",
       "    </tr>\n",
       "    <tr>\n",
       "      <th>5</th>\n",
       "      <td>2023-01-01 05:00:00</td>\n",
       "      <td>224.666667</td>\n",
       "      <td>95.333333</td>\n",
       "      <td>94.222222</td>\n",
       "      <td>148.444444</td>\n",
       "      <td>122.558824</td>\n",
       "      <td>114.294118</td>\n",
       "      <td>76.294118</td>\n",
       "      <td>0.00000</td>\n",
       "      <td>0.00000</td>\n",
       "      <td>...</td>\n",
       "      <td>73.08</td>\n",
       "      <td>8.00</td>\n",
       "      <td>73.529412</td>\n",
       "      <td>11.791667</td>\n",
       "      <td>6.500000</td>\n",
       "      <td>0.0</td>\n",
       "      <td>0.20</td>\n",
       "      <td>0.0</td>\n",
       "      <td>0.0</td>\n",
       "      <td>0.0</td>\n",
       "    </tr>\n",
       "    <tr>\n",
       "      <th>6</th>\n",
       "      <td>2023-01-01 06:00:00</td>\n",
       "      <td>224.666667</td>\n",
       "      <td>91.333333</td>\n",
       "      <td>89.555556</td>\n",
       "      <td>140.222222</td>\n",
       "      <td>117.941176</td>\n",
       "      <td>NaN</td>\n",
       "      <td>75.352941</td>\n",
       "      <td>0.00000</td>\n",
       "      <td>0.00000</td>\n",
       "      <td>...</td>\n",
       "      <td>70.80</td>\n",
       "      <td>8.00</td>\n",
       "      <td>75.117647</td>\n",
       "      <td>45.666667</td>\n",
       "      <td>5.978261</td>\n",
       "      <td>0.0</td>\n",
       "      <td>0.40</td>\n",
       "      <td>0.0</td>\n",
       "      <td>0.0</td>\n",
       "      <td>0.0</td>\n",
       "    </tr>\n",
       "    <tr>\n",
       "      <th>7</th>\n",
       "      <td>2023-01-01 07:00:00</td>\n",
       "      <td>222.666667</td>\n",
       "      <td>87.111111</td>\n",
       "      <td>83.777778</td>\n",
       "      <td>134.444444</td>\n",
       "      <td>113.647059</td>\n",
       "      <td>NaN</td>\n",
       "      <td>75.970588</td>\n",
       "      <td>0.00000</td>\n",
       "      <td>0.25000</td>\n",
       "      <td>...</td>\n",
       "      <td>69.88</td>\n",
       "      <td>8.00</td>\n",
       "      <td>77.529412</td>\n",
       "      <td>36.153846</td>\n",
       "      <td>6.021739</td>\n",
       "      <td>0.0</td>\n",
       "      <td>0.40</td>\n",
       "      <td>0.0</td>\n",
       "      <td>0.0</td>\n",
       "      <td>0.0</td>\n",
       "    </tr>\n",
       "    <tr>\n",
       "      <th>8</th>\n",
       "      <td>2023-01-01 08:00:00</td>\n",
       "      <td>219.111111</td>\n",
       "      <td>81.777778</td>\n",
       "      <td>81.555556</td>\n",
       "      <td>127.555556</td>\n",
       "      <td>112.441176</td>\n",
       "      <td>NaN</td>\n",
       "      <td>78.558824</td>\n",
       "      <td>0.18750</td>\n",
       "      <td>5.62500</td>\n",
       "      <td>...</td>\n",
       "      <td>69.40</td>\n",
       "      <td>8.00</td>\n",
       "      <td>79.558824</td>\n",
       "      <td>22.785714</td>\n",
       "      <td>6.065217</td>\n",
       "      <td>0.0</td>\n",
       "      <td>0.24</td>\n",
       "      <td>0.0</td>\n",
       "      <td>0.0</td>\n",
       "      <td>0.0</td>\n",
       "    </tr>\n",
       "    <tr>\n",
       "      <th>9</th>\n",
       "      <td>2023-01-01 09:00:00</td>\n",
       "      <td>215.111111</td>\n",
       "      <td>76.666667</td>\n",
       "      <td>76.444444</td>\n",
       "      <td>119.555556</td>\n",
       "      <td>114.911765</td>\n",
       "      <td>NaN</td>\n",
       "      <td>81.676471</td>\n",
       "      <td>2.62500</td>\n",
       "      <td>25.12500</td>\n",
       "      <td>...</td>\n",
       "      <td>69.56</td>\n",
       "      <td>8.00</td>\n",
       "      <td>79.852941</td>\n",
       "      <td>28.166667</td>\n",
       "      <td>5.717391</td>\n",
       "      <td>0.0</td>\n",
       "      <td>0.16</td>\n",
       "      <td>0.0</td>\n",
       "      <td>0.0</td>\n",
       "      <td>0.0</td>\n",
       "    </tr>\n",
       "    <tr>\n",
       "      <th>10</th>\n",
       "      <td>2023-01-01 10:00:00</td>\n",
       "      <td>216.222222</td>\n",
       "      <td>78.444444</td>\n",
       "      <td>80.222222</td>\n",
       "      <td>120.000000</td>\n",
       "      <td>118.764706</td>\n",
       "      <td>NaN</td>\n",
       "      <td>83.588235</td>\n",
       "      <td>3.25000</td>\n",
       "      <td>40.75000</td>\n",
       "      <td>...</td>\n",
       "      <td>70.64</td>\n",
       "      <td>7.90</td>\n",
       "      <td>78.823529</td>\n",
       "      <td>16.500000</td>\n",
       "      <td>5.630435</td>\n",
       "      <td>0.0</td>\n",
       "      <td>0.08</td>\n",
       "      <td>0.0</td>\n",
       "      <td>0.0</td>\n",
       "      <td>0.0</td>\n",
       "    </tr>\n",
       "    <tr>\n",
       "      <th>11</th>\n",
       "      <td>2023-01-01 11:00:00</td>\n",
       "      <td>218.444444</td>\n",
       "      <td>78.666667</td>\n",
       "      <td>77.777778</td>\n",
       "      <td>122.888889</td>\n",
       "      <td>120.529412</td>\n",
       "      <td>102.852941</td>\n",
       "      <td>84.882353</td>\n",
       "      <td>1.46875</td>\n",
       "      <td>42.56250</td>\n",
       "      <td>...</td>\n",
       "      <td>71.48</td>\n",
       "      <td>7.95</td>\n",
       "      <td>78.441176</td>\n",
       "      <td>10.666667</td>\n",
       "      <td>5.978261</td>\n",
       "      <td>0.0</td>\n",
       "      <td>0.08</td>\n",
       "      <td>0.0</td>\n",
       "      <td>0.0</td>\n",
       "      <td>0.0</td>\n",
       "    </tr>\n",
       "    <tr>\n",
       "      <th>12</th>\n",
       "      <td>2023-01-01 12:00:00</td>\n",
       "      <td>218.666667</td>\n",
       "      <td>77.555556</td>\n",
       "      <td>74.222222</td>\n",
       "      <td>119.555556</td>\n",
       "      <td>121.382353</td>\n",
       "      <td>NaN</td>\n",
       "      <td>84.088235</td>\n",
       "      <td>2.00000</td>\n",
       "      <td>38.59375</td>\n",
       "      <td>...</td>\n",
       "      <td>71.24</td>\n",
       "      <td>8.00</td>\n",
       "      <td>77.735294</td>\n",
       "      <td>14.333333</td>\n",
       "      <td>5.586957</td>\n",
       "      <td>0.0</td>\n",
       "      <td>0.04</td>\n",
       "      <td>0.0</td>\n",
       "      <td>0.0</td>\n",
       "      <td>0.0</td>\n",
       "    </tr>\n",
       "    <tr>\n",
       "      <th>13</th>\n",
       "      <td>2023-01-01 13:00:00</td>\n",
       "      <td>212.222222</td>\n",
       "      <td>68.000000</td>\n",
       "      <td>63.777778</td>\n",
       "      <td>107.555556</td>\n",
       "      <td>119.647059</td>\n",
       "      <td>NaN</td>\n",
       "      <td>83.529412</td>\n",
       "      <td>1.06250</td>\n",
       "      <td>23.28125</td>\n",
       "      <td>...</td>\n",
       "      <td>71.04</td>\n",
       "      <td>8.00</td>\n",
       "      <td>78.147059</td>\n",
       "      <td>10.000000</td>\n",
       "      <td>5.543478</td>\n",
       "      <td>0.0</td>\n",
       "      <td>0.00</td>\n",
       "      <td>0.0</td>\n",
       "      <td>0.0</td>\n",
       "      <td>0.0</td>\n",
       "    </tr>\n",
       "    <tr>\n",
       "      <th>14</th>\n",
       "      <td>2023-01-01 14:00:00</td>\n",
       "      <td>201.555556</td>\n",
       "      <td>59.111111</td>\n",
       "      <td>54.888889</td>\n",
       "      <td>92.666667</td>\n",
       "      <td>116.352941</td>\n",
       "      <td>NaN</td>\n",
       "      <td>83.352941</td>\n",
       "      <td>1.15625</td>\n",
       "      <td>10.03125</td>\n",
       "      <td>...</td>\n",
       "      <td>70.52</td>\n",
       "      <td>8.00</td>\n",
       "      <td>79.852941</td>\n",
       "      <td>25.750000</td>\n",
       "      <td>5.630435</td>\n",
       "      <td>0.0</td>\n",
       "      <td>0.04</td>\n",
       "      <td>0.0</td>\n",
       "      <td>0.0</td>\n",
       "      <td>0.0</td>\n",
       "    </tr>\n",
       "    <tr>\n",
       "      <th>15</th>\n",
       "      <td>2023-01-01 15:00:00</td>\n",
       "      <td>190.000000</td>\n",
       "      <td>52.000000</td>\n",
       "      <td>49.777778</td>\n",
       "      <td>82.000000</td>\n",
       "      <td>113.617647</td>\n",
       "      <td>NaN</td>\n",
       "      <td>83.647059</td>\n",
       "      <td>0.00000</td>\n",
       "      <td>1.18750</td>\n",
       "      <td>...</td>\n",
       "      <td>69.88</td>\n",
       "      <td>8.00</td>\n",
       "      <td>81.441176</td>\n",
       "      <td>56.285714</td>\n",
       "      <td>5.760870</td>\n",
       "      <td>0.0</td>\n",
       "      <td>0.24</td>\n",
       "      <td>0.0</td>\n",
       "      <td>0.0</td>\n",
       "      <td>0.0</td>\n",
       "    </tr>\n",
       "    <tr>\n",
       "      <th>16</th>\n",
       "      <td>2023-01-01 16:00:00</td>\n",
       "      <td>182.000000</td>\n",
       "      <td>48.888889</td>\n",
       "      <td>49.777778</td>\n",
       "      <td>76.666667</td>\n",
       "      <td>111.058824</td>\n",
       "      <td>NaN</td>\n",
       "      <td>86.264706</td>\n",
       "      <td>0.00000</td>\n",
       "      <td>0.00000</td>\n",
       "      <td>...</td>\n",
       "      <td>68.64</td>\n",
       "      <td>8.00</td>\n",
       "      <td>84.294118</td>\n",
       "      <td>64.555556</td>\n",
       "      <td>5.847826</td>\n",
       "      <td>0.0</td>\n",
       "      <td>0.36</td>\n",
       "      <td>0.0</td>\n",
       "      <td>0.0</td>\n",
       "      <td>0.0</td>\n",
       "    </tr>\n",
       "    <tr>\n",
       "      <th>17</th>\n",
       "      <td>2023-01-01 17:00:00</td>\n",
       "      <td>176.000000</td>\n",
       "      <td>49.111111</td>\n",
       "      <td>49.555556</td>\n",
       "      <td>78.222222</td>\n",
       "      <td>108.735294</td>\n",
       "      <td>100.294118</td>\n",
       "      <td>89.058824</td>\n",
       "      <td>0.00000</td>\n",
       "      <td>0.00000</td>\n",
       "      <td>...</td>\n",
       "      <td>67.32</td>\n",
       "      <td>8.00</td>\n",
       "      <td>87.323529</td>\n",
       "      <td>61.000000</td>\n",
       "      <td>6.108696</td>\n",
       "      <td>0.0</td>\n",
       "      <td>0.60</td>\n",
       "      <td>0.0</td>\n",
       "      <td>0.0</td>\n",
       "      <td>0.0</td>\n",
       "    </tr>\n",
       "    <tr>\n",
       "      <th>18</th>\n",
       "      <td>2023-01-01 18:00:00</td>\n",
       "      <td>172.000000</td>\n",
       "      <td>49.333333</td>\n",
       "      <td>49.555556</td>\n",
       "      <td>78.444444</td>\n",
       "      <td>105.764706</td>\n",
       "      <td>NaN</td>\n",
       "      <td>92.147059</td>\n",
       "      <td>0.00000</td>\n",
       "      <td>0.00000</td>\n",
       "      <td>...</td>\n",
       "      <td>65.08</td>\n",
       "      <td>8.00</td>\n",
       "      <td>90.970588</td>\n",
       "      <td>53.947368</td>\n",
       "      <td>6.282609</td>\n",
       "      <td>0.0</td>\n",
       "      <td>0.76</td>\n",
       "      <td>0.0</td>\n",
       "      <td>0.0</td>\n",
       "      <td>0.0</td>\n",
       "    </tr>\n",
       "    <tr>\n",
       "      <th>19</th>\n",
       "      <td>2023-01-01 19:00:00</td>\n",
       "      <td>173.555556</td>\n",
       "      <td>48.222222</td>\n",
       "      <td>48.222222</td>\n",
       "      <td>78.222222</td>\n",
       "      <td>104.058824</td>\n",
       "      <td>NaN</td>\n",
       "      <td>93.617647</td>\n",
       "      <td>0.00000</td>\n",
       "      <td>0.00000</td>\n",
       "      <td>...</td>\n",
       "      <td>62.68</td>\n",
       "      <td>8.00</td>\n",
       "      <td>92.823529</td>\n",
       "      <td>62.083333</td>\n",
       "      <td>6.500000</td>\n",
       "      <td>0.0</td>\n",
       "      <td>0.96</td>\n",
       "      <td>0.0</td>\n",
       "      <td>0.0</td>\n",
       "      <td>0.0</td>\n",
       "    </tr>\n",
       "    <tr>\n",
       "      <th>20</th>\n",
       "      <td>2023-01-01 20:00:00</td>\n",
       "      <td>187.333333</td>\n",
       "      <td>41.333333</td>\n",
       "      <td>40.666667</td>\n",
       "      <td>76.222222</td>\n",
       "      <td>101.941176</td>\n",
       "      <td>NaN</td>\n",
       "      <td>93.500000</td>\n",
       "      <td>0.00000</td>\n",
       "      <td>0.00000</td>\n",
       "      <td>...</td>\n",
       "      <td>60.88</td>\n",
       "      <td>8.00</td>\n",
       "      <td>94.117647</td>\n",
       "      <td>59.280000</td>\n",
       "      <td>6.543478</td>\n",
       "      <td>0.0</td>\n",
       "      <td>1.00</td>\n",
       "      <td>0.0</td>\n",
       "      <td>0.0</td>\n",
       "      <td>0.0</td>\n",
       "    </tr>\n",
       "    <tr>\n",
       "      <th>21</th>\n",
       "      <td>2023-01-01 21:00:00</td>\n",
       "      <td>167.555556</td>\n",
       "      <td>40.444444</td>\n",
       "      <td>40.000000</td>\n",
       "      <td>73.777778</td>\n",
       "      <td>102.264706</td>\n",
       "      <td>NaN</td>\n",
       "      <td>94.764706</td>\n",
       "      <td>0.00000</td>\n",
       "      <td>0.00000</td>\n",
       "      <td>...</td>\n",
       "      <td>61.36</td>\n",
       "      <td>8.00</td>\n",
       "      <td>94.705882</td>\n",
       "      <td>52.920000</td>\n",
       "      <td>6.543478</td>\n",
       "      <td>0.0</td>\n",
       "      <td>1.00</td>\n",
       "      <td>0.0</td>\n",
       "      <td>0.0</td>\n",
       "      <td>0.0</td>\n",
       "    </tr>\n",
       "    <tr>\n",
       "      <th>22</th>\n",
       "      <td>2023-01-01 22:00:00</td>\n",
       "      <td>172.000000</td>\n",
       "      <td>41.777778</td>\n",
       "      <td>43.555556</td>\n",
       "      <td>70.000000</td>\n",
       "      <td>105.029412</td>\n",
       "      <td>NaN</td>\n",
       "      <td>95.470588</td>\n",
       "      <td>0.00000</td>\n",
       "      <td>0.00000</td>\n",
       "      <td>...</td>\n",
       "      <td>60.68</td>\n",
       "      <td>8.00</td>\n",
       "      <td>93.529412</td>\n",
       "      <td>46.590909</td>\n",
       "      <td>6.413043</td>\n",
       "      <td>0.0</td>\n",
       "      <td>0.88</td>\n",
       "      <td>0.0</td>\n",
       "      <td>0.0</td>\n",
       "      <td>0.0</td>\n",
       "    </tr>\n",
       "    <tr>\n",
       "      <th>23</th>\n",
       "      <td>2023-01-01 23:00:00</td>\n",
       "      <td>171.777778</td>\n",
       "      <td>43.777778</td>\n",
       "      <td>42.444444</td>\n",
       "      <td>72.444444</td>\n",
       "      <td>107.970588</td>\n",
       "      <td>95.647059</td>\n",
       "      <td>96.911765</td>\n",
       "      <td>0.00000</td>\n",
       "      <td>0.00000</td>\n",
       "      <td>...</td>\n",
       "      <td>59.48</td>\n",
       "      <td>8.00</td>\n",
       "      <td>92.647059</td>\n",
       "      <td>42.840000</td>\n",
       "      <td>6.543478</td>\n",
       "      <td>0.0</td>\n",
       "      <td>0.84</td>\n",
       "      <td>0.0</td>\n",
       "      <td>0.0</td>\n",
       "      <td>0.0</td>\n",
       "    </tr>\n",
       "  </tbody>\n",
       "</table>\n",
       "<p>24 rows × 23 columns</p>\n",
       "</div>"
      ],
      "text/plain": [
       "            start_time          DD          FH          FF          FX  \\\n",
       "0  2023-01-01 00:00:00  215.555556  110.666667  110.000000  172.222222   \n",
       "1  2023-01-01 01:00:00  215.333333  108.000000  106.444444  167.333333   \n",
       "2  2023-01-01 02:00:00  220.222222  107.333333  106.888889  168.000000   \n",
       "3  2023-01-01 03:00:00  223.111111  104.000000  103.333333  165.111111   \n",
       "4  2023-01-01 04:00:00  224.444444   99.111111   99.111111  158.444444   \n",
       "5  2023-01-01 05:00:00  224.666667   95.333333   94.222222  148.444444   \n",
       "6  2023-01-01 06:00:00  224.666667   91.333333   89.555556  140.222222   \n",
       "7  2023-01-01 07:00:00  222.666667   87.111111   83.777778  134.444444   \n",
       "8  2023-01-01 08:00:00  219.111111   81.777778   81.555556  127.555556   \n",
       "9  2023-01-01 09:00:00  215.111111   76.666667   76.444444  119.555556   \n",
       "10 2023-01-01 10:00:00  216.222222   78.444444   80.222222  120.000000   \n",
       "11 2023-01-01 11:00:00  218.444444   78.666667   77.777778  122.888889   \n",
       "12 2023-01-01 12:00:00  218.666667   77.555556   74.222222  119.555556   \n",
       "13 2023-01-01 13:00:00  212.222222   68.000000   63.777778  107.555556   \n",
       "14 2023-01-01 14:00:00  201.555556   59.111111   54.888889   92.666667   \n",
       "15 2023-01-01 15:00:00  190.000000   52.000000   49.777778   82.000000   \n",
       "16 2023-01-01 16:00:00  182.000000   48.888889   49.777778   76.666667   \n",
       "17 2023-01-01 17:00:00  176.000000   49.111111   49.555556   78.222222   \n",
       "18 2023-01-01 18:00:00  172.000000   49.333333   49.555556   78.444444   \n",
       "19 2023-01-01 19:00:00  173.555556   48.222222   48.222222   78.222222   \n",
       "20 2023-01-01 20:00:00  187.333333   41.333333   40.666667   76.222222   \n",
       "21 2023-01-01 21:00:00  167.555556   40.444444   40.000000   73.777778   \n",
       "22 2023-01-01 22:00:00  172.000000   41.777778   43.555556   70.000000   \n",
       "23 2023-01-01 23:00:00  171.777778   43.777778   42.444444   72.444444   \n",
       "\n",
       "          temp        T10N         TD       SQ         Q  ...     VV     N  \\\n",
       "0   140.617647         NaN  80.382353  0.00000   0.00000  ...  73.28  8.00   \n",
       "1   138.029412         NaN  80.764706  0.00000   0.00000  ...  74.28  8.00   \n",
       "2   135.529412         NaN  79.941176  0.00000   0.00000  ...  74.12  8.00   \n",
       "3   131.323529         NaN  80.911765  0.00000   0.00000  ...  73.20  7.95   \n",
       "4   125.970588         NaN  79.970588  0.00000   0.00000  ...  73.88  8.00   \n",
       "5   122.558824  114.294118  76.294118  0.00000   0.00000  ...  73.08  8.00   \n",
       "6   117.941176         NaN  75.352941  0.00000   0.00000  ...  70.80  8.00   \n",
       "7   113.647059         NaN  75.970588  0.00000   0.25000  ...  69.88  8.00   \n",
       "8   112.441176         NaN  78.558824  0.18750   5.62500  ...  69.40  8.00   \n",
       "9   114.911765         NaN  81.676471  2.62500  25.12500  ...  69.56  8.00   \n",
       "10  118.764706         NaN  83.588235  3.25000  40.75000  ...  70.64  7.90   \n",
       "11  120.529412  102.852941  84.882353  1.46875  42.56250  ...  71.48  7.95   \n",
       "12  121.382353         NaN  84.088235  2.00000  38.59375  ...  71.24  8.00   \n",
       "13  119.647059         NaN  83.529412  1.06250  23.28125  ...  71.04  8.00   \n",
       "14  116.352941         NaN  83.352941  1.15625  10.03125  ...  70.52  8.00   \n",
       "15  113.617647         NaN  83.647059  0.00000   1.18750  ...  69.88  8.00   \n",
       "16  111.058824         NaN  86.264706  0.00000   0.00000  ...  68.64  8.00   \n",
       "17  108.735294  100.294118  89.058824  0.00000   0.00000  ...  67.32  8.00   \n",
       "18  105.764706         NaN  92.147059  0.00000   0.00000  ...  65.08  8.00   \n",
       "19  104.058824         NaN  93.617647  0.00000   0.00000  ...  62.68  8.00   \n",
       "20  101.941176         NaN  93.500000  0.00000   0.00000  ...  60.88  8.00   \n",
       "21  102.264706         NaN  94.764706  0.00000   0.00000  ...  61.36  8.00   \n",
       "22  105.029412         NaN  95.470588  0.00000   0.00000  ...  60.68  8.00   \n",
       "23  107.970588   95.647059  96.911765  0.00000   0.00000  ...  59.48  8.00   \n",
       "\n",
       "            U         WW        IX    M     R    S    O    Y  \n",
       "0   67.558824  36.062500  6.152174  0.0  0.56  0.0  0.0  0.0  \n",
       "1   68.941176  49.187500  6.152174  0.0  0.64  0.0  0.0  0.0  \n",
       "2   69.764706  30.631579  6.282609  0.0  0.48  0.0  0.0  0.0  \n",
       "3   72.147059  34.062500  6.152174  0.0  0.64  0.0  0.0  0.0  \n",
       "4   73.911765  20.833333  5.978261  0.0  0.40  0.0  0.0  0.0  \n",
       "5   73.529412  11.791667  6.500000  0.0  0.20  0.0  0.0  0.0  \n",
       "6   75.117647  45.666667  5.978261  0.0  0.40  0.0  0.0  0.0  \n",
       "7   77.529412  36.153846  6.021739  0.0  0.40  0.0  0.0  0.0  \n",
       "8   79.558824  22.785714  6.065217  0.0  0.24  0.0  0.0  0.0  \n",
       "9   79.852941  28.166667  5.717391  0.0  0.16  0.0  0.0  0.0  \n",
       "10  78.823529  16.500000  5.630435  0.0  0.08  0.0  0.0  0.0  \n",
       "11  78.441176  10.666667  5.978261  0.0  0.08  0.0  0.0  0.0  \n",
       "12  77.735294  14.333333  5.586957  0.0  0.04  0.0  0.0  0.0  \n",
       "13  78.147059  10.000000  5.543478  0.0  0.00  0.0  0.0  0.0  \n",
       "14  79.852941  25.750000  5.630435  0.0  0.04  0.0  0.0  0.0  \n",
       "15  81.441176  56.285714  5.760870  0.0  0.24  0.0  0.0  0.0  \n",
       "16  84.294118  64.555556  5.847826  0.0  0.36  0.0  0.0  0.0  \n",
       "17  87.323529  61.000000  6.108696  0.0  0.60  0.0  0.0  0.0  \n",
       "18  90.970588  53.947368  6.282609  0.0  0.76  0.0  0.0  0.0  \n",
       "19  92.823529  62.083333  6.500000  0.0  0.96  0.0  0.0  0.0  \n",
       "20  94.117647  59.280000  6.543478  0.0  1.00  0.0  0.0  0.0  \n",
       "21  94.705882  52.920000  6.543478  0.0  1.00  0.0  0.0  0.0  \n",
       "22  93.529412  46.590909  6.413043  0.0  0.88  0.0  0.0  0.0  \n",
       "23  92.647059  42.840000  6.543478  0.0  0.84  0.0  0.0  0.0  \n",
       "\n",
       "[24 rows x 23 columns]"
      ]
     },
     "metadata": {},
     "output_type": "display_data"
    },
    {
     "data": {
      "text/html": [
       "<div>\n",
       "<style scoped>\n",
       "    .dataframe tbody tr th:only-of-type {\n",
       "        vertical-align: middle;\n",
       "    }\n",
       "\n",
       "    .dataframe tbody tr th {\n",
       "        vertical-align: top;\n",
       "    }\n",
       "\n",
       "    .dataframe thead th {\n",
       "        text-align: right;\n",
       "    }\n",
       "</style>\n",
       "<table border=\"1\" class=\"dataframe\">\n",
       "  <thead>\n",
       "    <tr style=\"text-align: right;\">\n",
       "      <th></th>\n",
       "      <th>STN</th>\n",
       "      <th>start_time</th>\n",
       "      <th>DD</th>\n",
       "      <th>FH</th>\n",
       "      <th>FF</th>\n",
       "      <th>FX</th>\n",
       "      <th>temp</th>\n",
       "      <th>T10N</th>\n",
       "      <th>TD</th>\n",
       "      <th>SQ</th>\n",
       "      <th>...</th>\n",
       "      <th>VV</th>\n",
       "      <th>N</th>\n",
       "      <th>U</th>\n",
       "      <th>WW</th>\n",
       "      <th>IX</th>\n",
       "      <th>M</th>\n",
       "      <th>R</th>\n",
       "      <th>S</th>\n",
       "      <th>O</th>\n",
       "      <th>Y</th>\n",
       "    </tr>\n",
       "  </thead>\n",
       "  <tbody>\n",
       "    <tr>\n",
       "      <th>17280</th>\n",
       "      <td>251</td>\n",
       "      <td>2023-01-01</td>\n",
       "      <td>220.0</td>\n",
       "      <td>140.0</td>\n",
       "      <td>130.0</td>\n",
       "      <td>190.0</td>\n",
       "      <td>108.0</td>\n",
       "      <td>NaN</td>\n",
       "      <td>88.0</td>\n",
       "      <td>0.0</td>\n",
       "      <td>...</td>\n",
       "      <td>58.0</td>\n",
       "      <td>NaN</td>\n",
       "      <td>87.0</td>\n",
       "      <td>10.0</td>\n",
       "      <td>7</td>\n",
       "      <td>0.0</td>\n",
       "      <td>0.0</td>\n",
       "      <td>0.0</td>\n",
       "      <td>0.0</td>\n",
       "      <td>0.0</td>\n",
       "    </tr>\n",
       "    <tr>\n",
       "      <th>6480</th>\n",
       "      <td>235</td>\n",
       "      <td>2023-01-01</td>\n",
       "      <td>220.0</td>\n",
       "      <td>120.0</td>\n",
       "      <td>120.0</td>\n",
       "      <td>180.0</td>\n",
       "      <td>112.0</td>\n",
       "      <td>NaN</td>\n",
       "      <td>95.0</td>\n",
       "      <td>0.0</td>\n",
       "      <td>...</td>\n",
       "      <td>56.0</td>\n",
       "      <td>8.0</td>\n",
       "      <td>89.0</td>\n",
       "      <td>52.0</td>\n",
       "      <td>7</td>\n",
       "      <td>0.0</td>\n",
       "      <td>1.0</td>\n",
       "      <td>0.0</td>\n",
       "      <td>0.0</td>\n",
       "      <td>0.0</td>\n",
       "    </tr>\n",
       "    <tr>\n",
       "      <th>10800</th>\n",
       "      <td>242</td>\n",
       "      <td>2023-01-01</td>\n",
       "      <td>220.0</td>\n",
       "      <td>160.0</td>\n",
       "      <td>150.0</td>\n",
       "      <td>210.0</td>\n",
       "      <td>114.0</td>\n",
       "      <td>NaN</td>\n",
       "      <td>91.0</td>\n",
       "      <td>NaN</td>\n",
       "      <td>...</td>\n",
       "      <td>57.0</td>\n",
       "      <td>8.0</td>\n",
       "      <td>86.0</td>\n",
       "      <td>10.0</td>\n",
       "      <td>7</td>\n",
       "      <td>0.0</td>\n",
       "      <td>0.0</td>\n",
       "      <td>0.0</td>\n",
       "      <td>0.0</td>\n",
       "      <td>0.0</td>\n",
       "    </tr>\n",
       "    <tr>\n",
       "      <th>25920</th>\n",
       "      <td>267</td>\n",
       "      <td>2023-01-01</td>\n",
       "      <td>220.0</td>\n",
       "      <td>130.0</td>\n",
       "      <td>130.0</td>\n",
       "      <td>200.0</td>\n",
       "      <td>121.0</td>\n",
       "      <td>NaN</td>\n",
       "      <td>89.0</td>\n",
       "      <td>0.0</td>\n",
       "      <td>...</td>\n",
       "      <td>64.0</td>\n",
       "      <td>8.0</td>\n",
       "      <td>81.0</td>\n",
       "      <td>57.0</td>\n",
       "      <td>7</td>\n",
       "      <td>0.0</td>\n",
       "      <td>1.0</td>\n",
       "      <td>0.0</td>\n",
       "      <td>0.0</td>\n",
       "      <td>0.0</td>\n",
       "    </tr>\n",
       "    <tr>\n",
       "      <th>19440</th>\n",
       "      <td>257</td>\n",
       "      <td>2023-01-01</td>\n",
       "      <td>NaN</td>\n",
       "      <td>NaN</td>\n",
       "      <td>NaN</td>\n",
       "      <td>NaN</td>\n",
       "      <td>123.0</td>\n",
       "      <td>NaN</td>\n",
       "      <td>83.0</td>\n",
       "      <td>0.0</td>\n",
       "      <td>...</td>\n",
       "      <td>NaN</td>\n",
       "      <td>NaN</td>\n",
       "      <td>76.0</td>\n",
       "      <td>NaN</td>\n",
       "      <td>6</td>\n",
       "      <td>NaN</td>\n",
       "      <td>NaN</td>\n",
       "      <td>NaN</td>\n",
       "      <td>NaN</td>\n",
       "      <td>NaN</td>\n",
       "    </tr>\n",
       "    <tr>\n",
       "      <th>49680</th>\n",
       "      <td>286</td>\n",
       "      <td>2023-01-01</td>\n",
       "      <td>210.0</td>\n",
       "      <td>110.0</td>\n",
       "      <td>100.0</td>\n",
       "      <td>170.0</td>\n",
       "      <td>128.0</td>\n",
       "      <td>NaN</td>\n",
       "      <td>98.0</td>\n",
       "      <td>0.0</td>\n",
       "      <td>...</td>\n",
       "      <td>NaN</td>\n",
       "      <td>NaN</td>\n",
       "      <td>82.0</td>\n",
       "      <td>NaN</td>\n",
       "      <td>6</td>\n",
       "      <td>NaN</td>\n",
       "      <td>NaN</td>\n",
       "      <td>NaN</td>\n",
       "      <td>NaN</td>\n",
       "      <td>NaN</td>\n",
       "    </tr>\n",
       "    <tr>\n",
       "      <th>36720</th>\n",
       "      <td>277</td>\n",
       "      <td>2023-01-01</td>\n",
       "      <td>220.0</td>\n",
       "      <td>120.0</td>\n",
       "      <td>130.0</td>\n",
       "      <td>200.0</td>\n",
       "      <td>130.0</td>\n",
       "      <td>NaN</td>\n",
       "      <td>92.0</td>\n",
       "      <td>0.0</td>\n",
       "      <td>...</td>\n",
       "      <td>NaN</td>\n",
       "      <td>NaN</td>\n",
       "      <td>78.0</td>\n",
       "      <td>NaN</td>\n",
       "      <td>6</td>\n",
       "      <td>NaN</td>\n",
       "      <td>NaN</td>\n",
       "      <td>NaN</td>\n",
       "      <td>NaN</td>\n",
       "      <td>NaN</td>\n",
       "    </tr>\n",
       "    <tr>\n",
       "      <th>32400</th>\n",
       "      <td>273</td>\n",
       "      <td>2023-01-01</td>\n",
       "      <td>220.0</td>\n",
       "      <td>80.0</td>\n",
       "      <td>70.0</td>\n",
       "      <td>130.0</td>\n",
       "      <td>131.0</td>\n",
       "      <td>NaN</td>\n",
       "      <td>93.0</td>\n",
       "      <td>0.0</td>\n",
       "      <td>...</td>\n",
       "      <td>64.0</td>\n",
       "      <td>NaN</td>\n",
       "      <td>77.0</td>\n",
       "      <td>23.0</td>\n",
       "      <td>7</td>\n",
       "      <td>0.0</td>\n",
       "      <td>1.0</td>\n",
       "      <td>0.0</td>\n",
       "      <td>0.0</td>\n",
       "      <td>0.0</td>\n",
       "    </tr>\n",
       "    <tr>\n",
       "      <th>56160</th>\n",
       "      <td>310</td>\n",
       "      <td>2023-01-01</td>\n",
       "      <td>200.0</td>\n",
       "      <td>140.0</td>\n",
       "      <td>140.0</td>\n",
       "      <td>180.0</td>\n",
       "      <td>131.0</td>\n",
       "      <td>NaN</td>\n",
       "      <td>79.0</td>\n",
       "      <td>0.0</td>\n",
       "      <td>...</td>\n",
       "      <td>75.0</td>\n",
       "      <td>8.0</td>\n",
       "      <td>70.0</td>\n",
       "      <td>NaN</td>\n",
       "      <td>5</td>\n",
       "      <td>0.0</td>\n",
       "      <td>0.0</td>\n",
       "      <td>0.0</td>\n",
       "      <td>0.0</td>\n",
       "      <td>0.0</td>\n",
       "    </tr>\n",
       "    <tr>\n",
       "      <th>30240</th>\n",
       "      <td>270</td>\n",
       "      <td>2023-01-01</td>\n",
       "      <td>230.0</td>\n",
       "      <td>140.0</td>\n",
       "      <td>140.0</td>\n",
       "      <td>230.0</td>\n",
       "      <td>132.0</td>\n",
       "      <td>NaN</td>\n",
       "      <td>94.0</td>\n",
       "      <td>0.0</td>\n",
       "      <td>...</td>\n",
       "      <td>74.0</td>\n",
       "      <td>8.0</td>\n",
       "      <td>78.0</td>\n",
       "      <td>23.0</td>\n",
       "      <td>7</td>\n",
       "      <td>0.0</td>\n",
       "      <td>1.0</td>\n",
       "      <td>0.0</td>\n",
       "      <td>0.0</td>\n",
       "      <td>0.0</td>\n",
       "    </tr>\n",
       "    <tr>\n",
       "      <th>43200</th>\n",
       "      <td>280</td>\n",
       "      <td>2023-01-01</td>\n",
       "      <td>210.0</td>\n",
       "      <td>110.0</td>\n",
       "      <td>100.0</td>\n",
       "      <td>190.0</td>\n",
       "      <td>133.0</td>\n",
       "      <td>NaN</td>\n",
       "      <td>94.0</td>\n",
       "      <td>0.0</td>\n",
       "      <td>...</td>\n",
       "      <td>71.0</td>\n",
       "      <td>8.0</td>\n",
       "      <td>77.0</td>\n",
       "      <td>23.0</td>\n",
       "      <td>7</td>\n",
       "      <td>0.0</td>\n",
       "      <td>1.0</td>\n",
       "      <td>0.0</td>\n",
       "      <td>0.0</td>\n",
       "      <td>0.0</td>\n",
       "    </tr>\n",
       "    <tr>\n",
       "      <th>73440</th>\n",
       "      <td>330</td>\n",
       "      <td>2023-01-01</td>\n",
       "      <td>210.0</td>\n",
       "      <td>130.0</td>\n",
       "      <td>120.0</td>\n",
       "      <td>210.0</td>\n",
       "      <td>135.0</td>\n",
       "      <td>NaN</td>\n",
       "      <td>78.0</td>\n",
       "      <td>0.0</td>\n",
       "      <td>...</td>\n",
       "      <td>NaN</td>\n",
       "      <td>NaN</td>\n",
       "      <td>68.0</td>\n",
       "      <td>NaN</td>\n",
       "      <td>6</td>\n",
       "      <td>NaN</td>\n",
       "      <td>NaN</td>\n",
       "      <td>NaN</td>\n",
       "      <td>NaN</td>\n",
       "      <td>NaN</td>\n",
       "    </tr>\n",
       "    <tr>\n",
       "      <th>15120</th>\n",
       "      <td>249</td>\n",
       "      <td>2023-01-01</td>\n",
       "      <td>230.0</td>\n",
       "      <td>140.0</td>\n",
       "      <td>130.0</td>\n",
       "      <td>230.0</td>\n",
       "      <td>136.0</td>\n",
       "      <td>NaN</td>\n",
       "      <td>98.0</td>\n",
       "      <td>0.0</td>\n",
       "      <td>...</td>\n",
       "      <td>63.0</td>\n",
       "      <td>NaN</td>\n",
       "      <td>77.0</td>\n",
       "      <td>81.0</td>\n",
       "      <td>7</td>\n",
       "      <td>0.0</td>\n",
       "      <td>1.0</td>\n",
       "      <td>0.0</td>\n",
       "      <td>0.0</td>\n",
       "      <td>0.0</td>\n",
       "    </tr>\n",
       "    <tr>\n",
       "      <th>8640</th>\n",
       "      <td>240</td>\n",
       "      <td>2023-01-01</td>\n",
       "      <td>220.0</td>\n",
       "      <td>110.0</td>\n",
       "      <td>110.0</td>\n",
       "      <td>150.0</td>\n",
       "      <td>138.0</td>\n",
       "      <td>NaN</td>\n",
       "      <td>92.0</td>\n",
       "      <td>0.0</td>\n",
       "      <td>...</td>\n",
       "      <td>69.0</td>\n",
       "      <td>8.0</td>\n",
       "      <td>73.0</td>\n",
       "      <td>81.0</td>\n",
       "      <td>7</td>\n",
       "      <td>0.0</td>\n",
       "      <td>1.0</td>\n",
       "      <td>0.0</td>\n",
       "      <td>0.0</td>\n",
       "      <td>0.0</td>\n",
       "    </tr>\n",
       "    <tr>\n",
       "      <th>41040</th>\n",
       "      <td>279</td>\n",
       "      <td>2023-01-01</td>\n",
       "      <td>220.0</td>\n",
       "      <td>90.0</td>\n",
       "      <td>90.0</td>\n",
       "      <td>150.0</td>\n",
       "      <td>139.0</td>\n",
       "      <td>NaN</td>\n",
       "      <td>92.0</td>\n",
       "      <td>0.0</td>\n",
       "      <td>...</td>\n",
       "      <td>75.0</td>\n",
       "      <td>8.0</td>\n",
       "      <td>73.0</td>\n",
       "      <td>51.0</td>\n",
       "      <td>7</td>\n",
       "      <td>0.0</td>\n",
       "      <td>1.0</td>\n",
       "      <td>0.0</td>\n",
       "      <td>0.0</td>\n",
       "      <td>0.0</td>\n",
       "    </tr>\n",
       "    <tr>\n",
       "      <th>28080</th>\n",
       "      <td>269</td>\n",
       "      <td>2023-01-01</td>\n",
       "      <td>220.0</td>\n",
       "      <td>100.0</td>\n",
       "      <td>110.0</td>\n",
       "      <td>170.0</td>\n",
       "      <td>141.0</td>\n",
       "      <td>NaN</td>\n",
       "      <td>90.0</td>\n",
       "      <td>0.0</td>\n",
       "      <td>...</td>\n",
       "      <td>67.0</td>\n",
       "      <td>8.0</td>\n",
       "      <td>71.0</td>\n",
       "      <td>23.0</td>\n",
       "      <td>7</td>\n",
       "      <td>0.0</td>\n",
       "      <td>1.0</td>\n",
       "      <td>0.0</td>\n",
       "      <td>0.0</td>\n",
       "      <td>0.0</td>\n",
       "    </tr>\n",
       "    <tr>\n",
       "      <th>2160</th>\n",
       "      <td>215</td>\n",
       "      <td>2023-01-01</td>\n",
       "      <td>220.0</td>\n",
       "      <td>110.0</td>\n",
       "      <td>130.0</td>\n",
       "      <td>200.0</td>\n",
       "      <td>142.0</td>\n",
       "      <td>NaN</td>\n",
       "      <td>84.0</td>\n",
       "      <td>0.0</td>\n",
       "      <td>...</td>\n",
       "      <td>66.0</td>\n",
       "      <td>8.0</td>\n",
       "      <td>68.0</td>\n",
       "      <td>NaN</td>\n",
       "      <td>5</td>\n",
       "      <td>0.0</td>\n",
       "      <td>0.0</td>\n",
       "      <td>0.0</td>\n",
       "      <td>0.0</td>\n",
       "      <td>0.0</td>\n",
       "    </tr>\n",
       "    <tr>\n",
       "      <th>79920</th>\n",
       "      <td>344</td>\n",
       "      <td>2023-01-01</td>\n",
       "      <td>210.0</td>\n",
       "      <td>100.0</td>\n",
       "      <td>110.0</td>\n",
       "      <td>180.0</td>\n",
       "      <td>143.0</td>\n",
       "      <td>NaN</td>\n",
       "      <td>88.0</td>\n",
       "      <td>0.0</td>\n",
       "      <td>...</td>\n",
       "      <td>79.0</td>\n",
       "      <td>8.0</td>\n",
       "      <td>69.0</td>\n",
       "      <td>NaN</td>\n",
       "      <td>5</td>\n",
       "      <td>0.0</td>\n",
       "      <td>0.0</td>\n",
       "      <td>0.0</td>\n",
       "      <td>0.0</td>\n",
       "      <td>0.0</td>\n",
       "    </tr>\n",
       "    <tr>\n",
       "      <th>66960</th>\n",
       "      <td>319</td>\n",
       "      <td>2023-01-01</td>\n",
       "      <td>210.0</td>\n",
       "      <td>100.0</td>\n",
       "      <td>90.0</td>\n",
       "      <td>180.0</td>\n",
       "      <td>145.0</td>\n",
       "      <td>NaN</td>\n",
       "      <td>74.0</td>\n",
       "      <td>0.0</td>\n",
       "      <td>...</td>\n",
       "      <td>81.0</td>\n",
       "      <td>NaN</td>\n",
       "      <td>62.0</td>\n",
       "      <td>NaN</td>\n",
       "      <td>5</td>\n",
       "      <td>0.0</td>\n",
       "      <td>0.0</td>\n",
       "      <td>0.0</td>\n",
       "      <td>0.0</td>\n",
       "      <td>0.0</td>\n",
       "    </tr>\n",
       "    <tr>\n",
       "      <th>69120</th>\n",
       "      <td>323</td>\n",
       "      <td>2023-01-01</td>\n",
       "      <td>210.0</td>\n",
       "      <td>90.0</td>\n",
       "      <td>90.0</td>\n",
       "      <td>160.0</td>\n",
       "      <td>145.0</td>\n",
       "      <td>NaN</td>\n",
       "      <td>80.0</td>\n",
       "      <td>0.0</td>\n",
       "      <td>...</td>\n",
       "      <td>NaN</td>\n",
       "      <td>NaN</td>\n",
       "      <td>65.0</td>\n",
       "      <td>NaN</td>\n",
       "      <td>6</td>\n",
       "      <td>NaN</td>\n",
       "      <td>NaN</td>\n",
       "      <td>NaN</td>\n",
       "      <td>NaN</td>\n",
       "      <td>NaN</td>\n",
       "    </tr>\n",
       "    <tr>\n",
       "      <th>95040</th>\n",
       "      <td>380</td>\n",
       "      <td>2023-01-01</td>\n",
       "      <td>210.0</td>\n",
       "      <td>100.0</td>\n",
       "      <td>90.0</td>\n",
       "      <td>150.0</td>\n",
       "      <td>147.0</td>\n",
       "      <td>NaN</td>\n",
       "      <td>42.0</td>\n",
       "      <td>0.0</td>\n",
       "      <td>...</td>\n",
       "      <td>83.0</td>\n",
       "      <td>8.0</td>\n",
       "      <td>49.0</td>\n",
       "      <td>NaN</td>\n",
       "      <td>5</td>\n",
       "      <td>0.0</td>\n",
       "      <td>0.0</td>\n",
       "      <td>0.0</td>\n",
       "      <td>0.0</td>\n",
       "      <td>0.0</td>\n",
       "    </tr>\n",
       "    <tr>\n",
       "      <th>82080</th>\n",
       "      <td>348</td>\n",
       "      <td>2023-01-01</td>\n",
       "      <td>220.0</td>\n",
       "      <td>120.0</td>\n",
       "      <td>130.0</td>\n",
       "      <td>180.0</td>\n",
       "      <td>147.0</td>\n",
       "      <td>NaN</td>\n",
       "      <td>82.0</td>\n",
       "      <td>0.0</td>\n",
       "      <td>...</td>\n",
       "      <td>76.0</td>\n",
       "      <td>NaN</td>\n",
       "      <td>64.0</td>\n",
       "      <td>NaN</td>\n",
       "      <td>5</td>\n",
       "      <td>0.0</td>\n",
       "      <td>0.0</td>\n",
       "      <td>0.0</td>\n",
       "      <td>0.0</td>\n",
       "      <td>0.0</td>\n",
       "    </tr>\n",
       "    <tr>\n",
       "      <th>75600</th>\n",
       "      <td>340</td>\n",
       "      <td>2023-01-01</td>\n",
       "      <td>220.0</td>\n",
       "      <td>70.0</td>\n",
       "      <td>80.0</td>\n",
       "      <td>140.0</td>\n",
       "      <td>148.0</td>\n",
       "      <td>NaN</td>\n",
       "      <td>72.0</td>\n",
       "      <td>NaN</td>\n",
       "      <td>...</td>\n",
       "      <td>83.0</td>\n",
       "      <td>8.0</td>\n",
       "      <td>60.0</td>\n",
       "      <td>23.0</td>\n",
       "      <td>7</td>\n",
       "      <td>0.0</td>\n",
       "      <td>1.0</td>\n",
       "      <td>0.0</td>\n",
       "      <td>0.0</td>\n",
       "      <td>0.0</td>\n",
       "    </tr>\n",
       "    <tr>\n",
       "      <th>38880</th>\n",
       "      <td>278</td>\n",
       "      <td>2023-01-01</td>\n",
       "      <td>220.0</td>\n",
       "      <td>70.0</td>\n",
       "      <td>60.0</td>\n",
       "      <td>130.0</td>\n",
       "      <td>150.0</td>\n",
       "      <td>NaN</td>\n",
       "      <td>83.0</td>\n",
       "      <td>0.0</td>\n",
       "      <td>...</td>\n",
       "      <td>NaN</td>\n",
       "      <td>NaN</td>\n",
       "      <td>64.0</td>\n",
       "      <td>NaN</td>\n",
       "      <td>6</td>\n",
       "      <td>NaN</td>\n",
       "      <td>NaN</td>\n",
       "      <td>NaN</td>\n",
       "      <td>NaN</td>\n",
       "      <td>NaN</td>\n",
       "    </tr>\n",
       "    <tr>\n",
       "      <th>86400</th>\n",
       "      <td>356</td>\n",
       "      <td>2023-01-01</td>\n",
       "      <td>220.0</td>\n",
       "      <td>110.0</td>\n",
       "      <td>110.0</td>\n",
       "      <td>170.0</td>\n",
       "      <td>151.0</td>\n",
       "      <td>NaN</td>\n",
       "      <td>80.0</td>\n",
       "      <td>0.0</td>\n",
       "      <td>...</td>\n",
       "      <td>NaN</td>\n",
       "      <td>NaN</td>\n",
       "      <td>62.0</td>\n",
       "      <td>NaN</td>\n",
       "      <td>6</td>\n",
       "      <td>NaN</td>\n",
       "      <td>NaN</td>\n",
       "      <td>NaN</td>\n",
       "      <td>NaN</td>\n",
       "      <td>NaN</td>\n",
       "    </tr>\n",
       "    <tr>\n",
       "      <th>51840</th>\n",
       "      <td>290</td>\n",
       "      <td>2023-01-01</td>\n",
       "      <td>210.0</td>\n",
       "      <td>80.0</td>\n",
       "      <td>70.0</td>\n",
       "      <td>150.0</td>\n",
       "      <td>152.0</td>\n",
       "      <td>NaN</td>\n",
       "      <td>72.0</td>\n",
       "      <td>0.0</td>\n",
       "      <td>...</td>\n",
       "      <td>78.0</td>\n",
       "      <td>8.0</td>\n",
       "      <td>58.0</td>\n",
       "      <td>23.0</td>\n",
       "      <td>7</td>\n",
       "      <td>0.0</td>\n",
       "      <td>1.0</td>\n",
       "      <td>0.0</td>\n",
       "      <td>0.0</td>\n",
       "      <td>0.0</td>\n",
       "    </tr>\n",
       "    <tr>\n",
       "      <th>34560</th>\n",
       "      <td>275</td>\n",
       "      <td>2023-01-01</td>\n",
       "      <td>220.0</td>\n",
       "      <td>100.0</td>\n",
       "      <td>90.0</td>\n",
       "      <td>150.0</td>\n",
       "      <td>153.0</td>\n",
       "      <td>NaN</td>\n",
       "      <td>76.0</td>\n",
       "      <td>0.0</td>\n",
       "      <td>...</td>\n",
       "      <td>82.0</td>\n",
       "      <td>8.0</td>\n",
       "      <td>59.0</td>\n",
       "      <td>23.0</td>\n",
       "      <td>7</td>\n",
       "      <td>0.0</td>\n",
       "      <td>1.0</td>\n",
       "      <td>0.0</td>\n",
       "      <td>0.0</td>\n",
       "      <td>0.0</td>\n",
       "    </tr>\n",
       "    <tr>\n",
       "      <th>45360</th>\n",
       "      <td>283</td>\n",
       "      <td>2023-01-01</td>\n",
       "      <td>210.0</td>\n",
       "      <td>70.0</td>\n",
       "      <td>70.0</td>\n",
       "      <td>130.0</td>\n",
       "      <td>154.0</td>\n",
       "      <td>NaN</td>\n",
       "      <td>72.0</td>\n",
       "      <td>0.0</td>\n",
       "      <td>...</td>\n",
       "      <td>NaN</td>\n",
       "      <td>NaN</td>\n",
       "      <td>58.0</td>\n",
       "      <td>NaN</td>\n",
       "      <td>6</td>\n",
       "      <td>NaN</td>\n",
       "      <td>NaN</td>\n",
       "      <td>NaN</td>\n",
       "      <td>NaN</td>\n",
       "      <td>NaN</td>\n",
       "    </tr>\n",
       "    <tr>\n",
       "      <th>84240</th>\n",
       "      <td>350</td>\n",
       "      <td>2023-01-01</td>\n",
       "      <td>210.0</td>\n",
       "      <td>90.0</td>\n",
       "      <td>90.0</td>\n",
       "      <td>150.0</td>\n",
       "      <td>154.0</td>\n",
       "      <td>NaN</td>\n",
       "      <td>73.0</td>\n",
       "      <td>0.0</td>\n",
       "      <td>...</td>\n",
       "      <td>83.0</td>\n",
       "      <td>8.0</td>\n",
       "      <td>58.0</td>\n",
       "      <td>51.0</td>\n",
       "      <td>7</td>\n",
       "      <td>0.0</td>\n",
       "      <td>1.0</td>\n",
       "      <td>0.0</td>\n",
       "      <td>0.0</td>\n",
       "      <td>0.0</td>\n",
       "    </tr>\n",
       "    <tr>\n",
       "      <th>23760</th>\n",
       "      <td>260</td>\n",
       "      <td>2023-01-01</td>\n",
       "      <td>220.0</td>\n",
       "      <td>80.0</td>\n",
       "      <td>100.0</td>\n",
       "      <td>160.0</td>\n",
       "      <td>155.0</td>\n",
       "      <td>NaN</td>\n",
       "      <td>75.0</td>\n",
       "      <td>0.0</td>\n",
       "      <td>...</td>\n",
       "      <td>81.0</td>\n",
       "      <td>8.0</td>\n",
       "      <td>58.0</td>\n",
       "      <td>NaN</td>\n",
       "      <td>5</td>\n",
       "      <td>0.0</td>\n",
       "      <td>0.0</td>\n",
       "      <td>0.0</td>\n",
       "      <td>0.0</td>\n",
       "      <td>0.0</td>\n",
       "    </tr>\n",
       "    <tr>\n",
       "      <th>92880</th>\n",
       "      <td>377</td>\n",
       "      <td>2023-01-01</td>\n",
       "      <td>210.0</td>\n",
       "      <td>90.0</td>\n",
       "      <td>80.0</td>\n",
       "      <td>160.0</td>\n",
       "      <td>155.0</td>\n",
       "      <td>NaN</td>\n",
       "      <td>53.0</td>\n",
       "      <td>0.0</td>\n",
       "      <td>...</td>\n",
       "      <td>84.0</td>\n",
       "      <td>8.0</td>\n",
       "      <td>50.0</td>\n",
       "      <td>NaN</td>\n",
       "      <td>5</td>\n",
       "      <td>0.0</td>\n",
       "      <td>0.0</td>\n",
       "      <td>0.0</td>\n",
       "      <td>0.0</td>\n",
       "      <td>0.0</td>\n",
       "    </tr>\n",
       "    <tr>\n",
       "      <th>90720</th>\n",
       "      <td>375</td>\n",
       "      <td>2023-01-01</td>\n",
       "      <td>220.0</td>\n",
       "      <td>110.0</td>\n",
       "      <td>110.0</td>\n",
       "      <td>160.0</td>\n",
       "      <td>162.0</td>\n",
       "      <td>NaN</td>\n",
       "      <td>66.0</td>\n",
       "      <td>0.0</td>\n",
       "      <td>...</td>\n",
       "      <td>81.0</td>\n",
       "      <td>8.0</td>\n",
       "      <td>52.0</td>\n",
       "      <td>NaN</td>\n",
       "      <td>5</td>\n",
       "      <td>0.0</td>\n",
       "      <td>0.0</td>\n",
       "      <td>0.0</td>\n",
       "      <td>0.0</td>\n",
       "      <td>0.0</td>\n",
       "    </tr>\n",
       "    <tr>\n",
       "      <th>88560</th>\n",
       "      <td>370</td>\n",
       "      <td>2023-01-01</td>\n",
       "      <td>220.0</td>\n",
       "      <td>110.0</td>\n",
       "      <td>120.0</td>\n",
       "      <td>190.0</td>\n",
       "      <td>163.0</td>\n",
       "      <td>NaN</td>\n",
       "      <td>59.0</td>\n",
       "      <td>0.0</td>\n",
       "      <td>...</td>\n",
       "      <td>82.0</td>\n",
       "      <td>8.0</td>\n",
       "      <td>49.0</td>\n",
       "      <td>23.0</td>\n",
       "      <td>7</td>\n",
       "      <td>0.0</td>\n",
       "      <td>1.0</td>\n",
       "      <td>0.0</td>\n",
       "      <td>0.0</td>\n",
       "      <td>0.0</td>\n",
       "    </tr>\n",
       "    <tr>\n",
       "      <th>97200</th>\n",
       "      <td>391</td>\n",
       "      <td>2023-01-01</td>\n",
       "      <td>220.0</td>\n",
       "      <td>50.0</td>\n",
       "      <td>50.0</td>\n",
       "      <td>120.0</td>\n",
       "      <td>163.0</td>\n",
       "      <td>NaN</td>\n",
       "      <td>56.0</td>\n",
       "      <td>0.0</td>\n",
       "      <td>...</td>\n",
       "      <td>NaN</td>\n",
       "      <td>NaN</td>\n",
       "      <td>49.0</td>\n",
       "      <td>NaN</td>\n",
       "      <td>6</td>\n",
       "      <td>NaN</td>\n",
       "      <td>NaN</td>\n",
       "      <td>NaN</td>\n",
       "      <td>NaN</td>\n",
       "      <td>NaN</td>\n",
       "    </tr>\n",
       "  </tbody>\n",
       "</table>\n",
       "<p>34 rows × 24 columns</p>\n",
       "</div>"
      ],
      "text/plain": [
       "       STN start_time     DD     FH     FF     FX   temp  T10N    TD   SQ  \\\n",
       "17280  251 2023-01-01  220.0  140.0  130.0  190.0  108.0   NaN  88.0  0.0   \n",
       "6480   235 2023-01-01  220.0  120.0  120.0  180.0  112.0   NaN  95.0  0.0   \n",
       "10800  242 2023-01-01  220.0  160.0  150.0  210.0  114.0   NaN  91.0  NaN   \n",
       "25920  267 2023-01-01  220.0  130.0  130.0  200.0  121.0   NaN  89.0  0.0   \n",
       "19440  257 2023-01-01    NaN    NaN    NaN    NaN  123.0   NaN  83.0  0.0   \n",
       "49680  286 2023-01-01  210.0  110.0  100.0  170.0  128.0   NaN  98.0  0.0   \n",
       "36720  277 2023-01-01  220.0  120.0  130.0  200.0  130.0   NaN  92.0  0.0   \n",
       "32400  273 2023-01-01  220.0   80.0   70.0  130.0  131.0   NaN  93.0  0.0   \n",
       "56160  310 2023-01-01  200.0  140.0  140.0  180.0  131.0   NaN  79.0  0.0   \n",
       "30240  270 2023-01-01  230.0  140.0  140.0  230.0  132.0   NaN  94.0  0.0   \n",
       "43200  280 2023-01-01  210.0  110.0  100.0  190.0  133.0   NaN  94.0  0.0   \n",
       "73440  330 2023-01-01  210.0  130.0  120.0  210.0  135.0   NaN  78.0  0.0   \n",
       "15120  249 2023-01-01  230.0  140.0  130.0  230.0  136.0   NaN  98.0  0.0   \n",
       "8640   240 2023-01-01  220.0  110.0  110.0  150.0  138.0   NaN  92.0  0.0   \n",
       "41040  279 2023-01-01  220.0   90.0   90.0  150.0  139.0   NaN  92.0  0.0   \n",
       "28080  269 2023-01-01  220.0  100.0  110.0  170.0  141.0   NaN  90.0  0.0   \n",
       "2160   215 2023-01-01  220.0  110.0  130.0  200.0  142.0   NaN  84.0  0.0   \n",
       "79920  344 2023-01-01  210.0  100.0  110.0  180.0  143.0   NaN  88.0  0.0   \n",
       "66960  319 2023-01-01  210.0  100.0   90.0  180.0  145.0   NaN  74.0  0.0   \n",
       "69120  323 2023-01-01  210.0   90.0   90.0  160.0  145.0   NaN  80.0  0.0   \n",
       "95040  380 2023-01-01  210.0  100.0   90.0  150.0  147.0   NaN  42.0  0.0   \n",
       "82080  348 2023-01-01  220.0  120.0  130.0  180.0  147.0   NaN  82.0  0.0   \n",
       "75600  340 2023-01-01  220.0   70.0   80.0  140.0  148.0   NaN  72.0  NaN   \n",
       "38880  278 2023-01-01  220.0   70.0   60.0  130.0  150.0   NaN  83.0  0.0   \n",
       "86400  356 2023-01-01  220.0  110.0  110.0  170.0  151.0   NaN  80.0  0.0   \n",
       "51840  290 2023-01-01  210.0   80.0   70.0  150.0  152.0   NaN  72.0  0.0   \n",
       "34560  275 2023-01-01  220.0  100.0   90.0  150.0  153.0   NaN  76.0  0.0   \n",
       "45360  283 2023-01-01  210.0   70.0   70.0  130.0  154.0   NaN  72.0  0.0   \n",
       "84240  350 2023-01-01  210.0   90.0   90.0  150.0  154.0   NaN  73.0  0.0   \n",
       "23760  260 2023-01-01  220.0   80.0  100.0  160.0  155.0   NaN  75.0  0.0   \n",
       "92880  377 2023-01-01  210.0   90.0   80.0  160.0  155.0   NaN  53.0  0.0   \n",
       "90720  375 2023-01-01  220.0  110.0  110.0  160.0  162.0   NaN  66.0  0.0   \n",
       "88560  370 2023-01-01  220.0  110.0  120.0  190.0  163.0   NaN  59.0  0.0   \n",
       "97200  391 2023-01-01  220.0   50.0   50.0  120.0  163.0   NaN  56.0  0.0   \n",
       "\n",
       "       ...    VV    N     U    WW  IX    M    R    S    O    Y  \n",
       "17280  ...  58.0  NaN  87.0  10.0   7  0.0  0.0  0.0  0.0  0.0  \n",
       "6480   ...  56.0  8.0  89.0  52.0   7  0.0  1.0  0.0  0.0  0.0  \n",
       "10800  ...  57.0  8.0  86.0  10.0   7  0.0  0.0  0.0  0.0  0.0  \n",
       "25920  ...  64.0  8.0  81.0  57.0   7  0.0  1.0  0.0  0.0  0.0  \n",
       "19440  ...   NaN  NaN  76.0   NaN   6  NaN  NaN  NaN  NaN  NaN  \n",
       "49680  ...   NaN  NaN  82.0   NaN   6  NaN  NaN  NaN  NaN  NaN  \n",
       "36720  ...   NaN  NaN  78.0   NaN   6  NaN  NaN  NaN  NaN  NaN  \n",
       "32400  ...  64.0  NaN  77.0  23.0   7  0.0  1.0  0.0  0.0  0.0  \n",
       "56160  ...  75.0  8.0  70.0   NaN   5  0.0  0.0  0.0  0.0  0.0  \n",
       "30240  ...  74.0  8.0  78.0  23.0   7  0.0  1.0  0.0  0.0  0.0  \n",
       "43200  ...  71.0  8.0  77.0  23.0   7  0.0  1.0  0.0  0.0  0.0  \n",
       "73440  ...   NaN  NaN  68.0   NaN   6  NaN  NaN  NaN  NaN  NaN  \n",
       "15120  ...  63.0  NaN  77.0  81.0   7  0.0  1.0  0.0  0.0  0.0  \n",
       "8640   ...  69.0  8.0  73.0  81.0   7  0.0  1.0  0.0  0.0  0.0  \n",
       "41040  ...  75.0  8.0  73.0  51.0   7  0.0  1.0  0.0  0.0  0.0  \n",
       "28080  ...  67.0  8.0  71.0  23.0   7  0.0  1.0  0.0  0.0  0.0  \n",
       "2160   ...  66.0  8.0  68.0   NaN   5  0.0  0.0  0.0  0.0  0.0  \n",
       "79920  ...  79.0  8.0  69.0   NaN   5  0.0  0.0  0.0  0.0  0.0  \n",
       "66960  ...  81.0  NaN  62.0   NaN   5  0.0  0.0  0.0  0.0  0.0  \n",
       "69120  ...   NaN  NaN  65.0   NaN   6  NaN  NaN  NaN  NaN  NaN  \n",
       "95040  ...  83.0  8.0  49.0   NaN   5  0.0  0.0  0.0  0.0  0.0  \n",
       "82080  ...  76.0  NaN  64.0   NaN   5  0.0  0.0  0.0  0.0  0.0  \n",
       "75600  ...  83.0  8.0  60.0  23.0   7  0.0  1.0  0.0  0.0  0.0  \n",
       "38880  ...   NaN  NaN  64.0   NaN   6  NaN  NaN  NaN  NaN  NaN  \n",
       "86400  ...   NaN  NaN  62.0   NaN   6  NaN  NaN  NaN  NaN  NaN  \n",
       "51840  ...  78.0  8.0  58.0  23.0   7  0.0  1.0  0.0  0.0  0.0  \n",
       "34560  ...  82.0  8.0  59.0  23.0   7  0.0  1.0  0.0  0.0  0.0  \n",
       "45360  ...   NaN  NaN  58.0   NaN   6  NaN  NaN  NaN  NaN  NaN  \n",
       "84240  ...  83.0  8.0  58.0  51.0   7  0.0  1.0  0.0  0.0  0.0  \n",
       "23760  ...  81.0  8.0  58.0   NaN   5  0.0  0.0  0.0  0.0  0.0  \n",
       "92880  ...  84.0  8.0  50.0   NaN   5  0.0  0.0  0.0  0.0  0.0  \n",
       "90720  ...  81.0  8.0  52.0   NaN   5  0.0  0.0  0.0  0.0  0.0  \n",
       "88560  ...  82.0  8.0  49.0  23.0   7  0.0  1.0  0.0  0.0  0.0  \n",
       "97200  ...   NaN  NaN  49.0   NaN   6  NaN  NaN  NaN  NaN  NaN  \n",
       "\n",
       "[34 rows x 24 columns]"
      ]
     },
     "metadata": {},
     "output_type": "display_data"
    }
   ],
   "source": [
    "grouped = weather_2023.groupby(by=['start_time']).mean()\n",
    "\n",
    "db_weather_single_day = grouped.reset_index()\n",
    "\n",
    "db_weather_single_day = db_weather_single_day.drop(columns=['STN'])\n",
    "\n",
    "display(db_weather_single_day.head(24))\n",
    "\n",
    "df_first_date = weather_2023[weather_2023['start_time'] == weather_2023['start_time'].min()]\n",
    "\n",
    "display(df_first_date[df_first_date['temp'].notna()].sort_values('temp'))\n"
   ]
  },
  {
   "cell_type": "markdown",
   "metadata": {},
   "source": [
    "het ziet er naar out dat met de temperatuur het ziet er uit dat er een ~4 grade verschil tussen de hoogste en laagste temperatuur. en wel 4 grade verschill niet veel is het kan er tot leiden dat mijn data niet meer klopt. dus het ziet er naar uit dat ik toch het verschill tussen de stations moet vinden en de dichtsbijzijnde weer station."
   ]
  },
  {
   "cell_type": "markdown",
   "metadata": {},
   "source": [
    "### 🏟️ trein station \n",
    "\n",
    "ik moet als eers erachter komen welke trein stations ik nodig heb voor mijn datasets. en dat is wat ik hieronder doe."
   ]
  },
  {
   "cell_type": "code",
   "execution_count": 38,
   "metadata": {},
   "outputs": [
    {
     "data": {
      "text/html": [
       "<div>\n",
       "<style scoped>\n",
       "    .dataframe tbody tr th:only-of-type {\n",
       "        vertical-align: middle;\n",
       "    }\n",
       "\n",
       "    .dataframe tbody tr th {\n",
       "        vertical-align: top;\n",
       "    }\n",
       "\n",
       "    .dataframe thead th {\n",
       "        text-align: right;\n",
       "    }\n",
       "</style>\n",
       "<table border=\"1\" class=\"dataframe\">\n",
       "  <thead>\n",
       "    <tr style=\"text-align: right;\">\n",
       "      <th></th>\n",
       "      <th>name</th>\n",
       "      <th>name_norm</th>\n",
       "      <th>latitude</th>\n",
       "      <th>longitude</th>\n",
       "      <th>country</th>\n",
       "    </tr>\n",
       "  </thead>\n",
       "  <tbody>\n",
       "    <tr>\n",
       "      <th>0</th>\n",
       "      <td>amsterdam centraal</td>\n",
       "      <td>Amsterdam Centraal</td>\n",
       "      <td>52.379190</td>\n",
       "      <td>4.899426</td>\n",
       "      <td>NL</td>\n",
       "    </tr>\n",
       "    <tr>\n",
       "      <th>1</th>\n",
       "      <td>antwerpen-centraal</td>\n",
       "      <td>Antwerpen-Centraal</td>\n",
       "      <td>51.215527</td>\n",
       "      <td>4.421005</td>\n",
       "      <td>BE</td>\n",
       "    </tr>\n",
       "    <tr>\n",
       "      <th>2</th>\n",
       "      <td>liège-guillemins</td>\n",
       "      <td>Liege-Guillemins</td>\n",
       "      <td>50.624297</td>\n",
       "      <td>5.566667</td>\n",
       "      <td>BE</td>\n",
       "    </tr>\n",
       "    <tr>\n",
       "      <th>3</th>\n",
       "      <td>aachen hbf</td>\n",
       "      <td>Aachen Hbf</td>\n",
       "      <td>50.767802</td>\n",
       "      <td>6.091495</td>\n",
       "      <td>DE</td>\n",
       "    </tr>\n",
       "    <tr>\n",
       "      <th>4</th>\n",
       "      <td>aachen west</td>\n",
       "      <td>Aachen West</td>\n",
       "      <td>50.780360</td>\n",
       "      <td>6.070712</td>\n",
       "      <td>DE</td>\n",
       "    </tr>\n",
       "    <tr>\n",
       "      <th>...</th>\n",
       "      <td>...</td>\n",
       "      <td>...</td>\n",
       "      <td>...</td>\n",
       "      <td>...</td>\n",
       "      <td>...</td>\n",
       "    </tr>\n",
       "    <tr>\n",
       "      <th>550</th>\n",
       "      <td>zevenaar</td>\n",
       "      <td>Zevenaar</td>\n",
       "      <td>51.923054</td>\n",
       "      <td>6.071944</td>\n",
       "      <td>NL</td>\n",
       "    </tr>\n",
       "    <tr>\n",
       "      <th>551</th>\n",
       "      <td>zuidbroek</td>\n",
       "      <td>Zuidbroek</td>\n",
       "      <td>53.159612</td>\n",
       "      <td>6.867914</td>\n",
       "      <td>NL</td>\n",
       "    </tr>\n",
       "    <tr>\n",
       "      <th>552</th>\n",
       "      <td>zuidhorn</td>\n",
       "      <td>Zuidhorn</td>\n",
       "      <td>53.248629</td>\n",
       "      <td>6.406236</td>\n",
       "      <td>NL</td>\n",
       "    </tr>\n",
       "    <tr>\n",
       "      <th>553</th>\n",
       "      <td>utrecht vaartsche rijn</td>\n",
       "      <td>Utrecht Vaartsche Rijn</td>\n",
       "      <td>52.078611</td>\n",
       "      <td>5.122500</td>\n",
       "      <td>NL</td>\n",
       "    </tr>\n",
       "    <tr>\n",
       "      <th>554</th>\n",
       "      <td>eemshaven</td>\n",
       "      <td>Eemshaven</td>\n",
       "      <td>53.433056</td>\n",
       "      <td>6.766389</td>\n",
       "      <td>NL</td>\n",
       "    </tr>\n",
       "  </tbody>\n",
       "</table>\n",
       "<p>555 rows × 5 columns</p>\n",
       "</div>"
      ],
      "text/plain": [
       "                       name               name_norm   latitude  longitude  \\\n",
       "0        amsterdam centraal      Amsterdam Centraal  52.379190   4.899426   \n",
       "1        antwerpen-centraal      Antwerpen-Centraal  51.215527   4.421005   \n",
       "2          liège-guillemins        Liege-Guillemins  50.624297   5.566667   \n",
       "3                aachen hbf              Aachen Hbf  50.767802   6.091495   \n",
       "4               aachen west             Aachen West  50.780360   6.070712   \n",
       "..                      ...                     ...        ...        ...   \n",
       "550                zevenaar                Zevenaar  51.923054   6.071944   \n",
       "551               zuidbroek               Zuidbroek  53.159612   6.867914   \n",
       "552                zuidhorn                Zuidhorn  53.248629   6.406236   \n",
       "553  utrecht vaartsche rijn  Utrecht Vaartsche Rijn  52.078611   5.122500   \n",
       "554               eemshaven               Eemshaven  53.433056   6.766389   \n",
       "\n",
       "    country  \n",
       "0        NL  \n",
       "1        BE  \n",
       "2        BE  \n",
       "3        DE  \n",
       "4        DE  \n",
       "..      ...  \n",
       "550      NL  \n",
       "551      NL  \n",
       "552      NL  \n",
       "553      NL  \n",
       "554      NL  \n",
       "\n",
       "[555 rows x 5 columns]"
      ]
     },
     "metadata": {},
     "output_type": "display_data"
    }
   ],
   "source": [
    "europa_train_station_locations = europa_train_station_locations[europa_train_station_locations['name'].isin(Train_trafic_2023['Stop:Station name'])]\n",
    "\n",
    "display(europa_train_station_locations)"
   ]
  },
  {
   "cell_type": "markdown",
   "metadata": {},
   "source": [
    "met deze informatie kan ik mijn trein stations coördinaten geven zodat ik de dichtsbijzijnde weer station kan gebruiken.\n",
    "\n",
    "maar om dat te testen doe ik hier eerst een test gebaseerd op 1 meetpunt moment.\n",
    "\n",
    "hier gebrouk ik de BellTree funktie van de neighbor funkries van sklearn.neighbors. hiermee probeer ik de tempraturen van de stations te ontdekken.\n",
    "\n",
    "dit doe ik om een zo dicht mogelijk weer station te krijgen. want dit heb ik nodig om te bepalen of de trein verkeer vertragingen een verbinding hebben met het weer."
   ]
  },
  {
   "cell_type": "code",
   "execution_count": 37,
   "metadata": {},
   "outputs": [
    {
     "data": {
      "text/html": [
       "<div>\n",
       "<style scoped>\n",
       "    .dataframe tbody tr th:only-of-type {\n",
       "        vertical-align: middle;\n",
       "    }\n",
       "\n",
       "    .dataframe tbody tr th {\n",
       "        vertical-align: top;\n",
       "    }\n",
       "\n",
       "    .dataframe thead th {\n",
       "        text-align: right;\n",
       "    }\n",
       "</style>\n",
       "<table border=\"1\" class=\"dataframe\">\n",
       "  <thead>\n",
       "    <tr style=\"text-align: right;\">\n",
       "      <th></th>\n",
       "      <th>STN</th>\n",
       "      <th>start_time</th>\n",
       "      <th>DD</th>\n",
       "      <th>FH</th>\n",
       "      <th>FF</th>\n",
       "      <th>FX</th>\n",
       "      <th>temp</th>\n",
       "      <th>T10N</th>\n",
       "      <th>TD</th>\n",
       "      <th>SQ</th>\n",
       "      <th>...</th>\n",
       "      <th>IX</th>\n",
       "      <th>M</th>\n",
       "      <th>R</th>\n",
       "      <th>S</th>\n",
       "      <th>O</th>\n",
       "      <th>Y</th>\n",
       "      <th>LON(east)</th>\n",
       "      <th>LAT(north)</th>\n",
       "      <th>ALT(m)</th>\n",
       "      <th>NAME</th>\n",
       "    </tr>\n",
       "  </thead>\n",
       "  <tbody>\n",
       "    <tr>\n",
       "      <th>0</th>\n",
       "      <td>209</td>\n",
       "      <td>2023-01-01</td>\n",
       "      <td>220.0</td>\n",
       "      <td>140.0</td>\n",
       "      <td>150.0</td>\n",
       "      <td>170.0</td>\n",
       "      <td>NaN</td>\n",
       "      <td>NaN</td>\n",
       "      <td>NaN</td>\n",
       "      <td>NaN</td>\n",
       "      <td>...</td>\n",
       "      <td>6</td>\n",
       "      <td>NaN</td>\n",
       "      <td>NaN</td>\n",
       "      <td>NaN</td>\n",
       "      <td>NaN</td>\n",
       "      <td>NaN</td>\n",
       "      <td>4.518</td>\n",
       "      <td>52.465</td>\n",
       "      <td>0.0</td>\n",
       "      <td>IJmond</td>\n",
       "    </tr>\n",
       "    <tr>\n",
       "      <th>1</th>\n",
       "      <td>215</td>\n",
       "      <td>2023-01-01</td>\n",
       "      <td>220.0</td>\n",
       "      <td>110.0</td>\n",
       "      <td>130.0</td>\n",
       "      <td>200.0</td>\n",
       "      <td>142.0</td>\n",
       "      <td>NaN</td>\n",
       "      <td>84.0</td>\n",
       "      <td>0.0</td>\n",
       "      <td>...</td>\n",
       "      <td>5</td>\n",
       "      <td>0.0</td>\n",
       "      <td>0.0</td>\n",
       "      <td>0.0</td>\n",
       "      <td>0.0</td>\n",
       "      <td>0.0</td>\n",
       "      <td>4.437</td>\n",
       "      <td>52.141</td>\n",
       "      <td>-1.1</td>\n",
       "      <td>Voorschoten</td>\n",
       "    </tr>\n",
       "    <tr>\n",
       "      <th>2</th>\n",
       "      <td>225</td>\n",
       "      <td>2023-01-01</td>\n",
       "      <td>210.0</td>\n",
       "      <td>150.0</td>\n",
       "      <td>160.0</td>\n",
       "      <td>180.0</td>\n",
       "      <td>NaN</td>\n",
       "      <td>NaN</td>\n",
       "      <td>NaN</td>\n",
       "      <td>NaN</td>\n",
       "      <td>...</td>\n",
       "      <td>6</td>\n",
       "      <td>NaN</td>\n",
       "      <td>NaN</td>\n",
       "      <td>NaN</td>\n",
       "      <td>NaN</td>\n",
       "      <td>NaN</td>\n",
       "      <td>4.555</td>\n",
       "      <td>52.463</td>\n",
       "      <td>4.4</td>\n",
       "      <td>IJmuiden</td>\n",
       "    </tr>\n",
       "    <tr>\n",
       "      <th>3</th>\n",
       "      <td>235</td>\n",
       "      <td>2023-01-01</td>\n",
       "      <td>220.0</td>\n",
       "      <td>120.0</td>\n",
       "      <td>120.0</td>\n",
       "      <td>180.0</td>\n",
       "      <td>112.0</td>\n",
       "      <td>NaN</td>\n",
       "      <td>95.0</td>\n",
       "      <td>0.0</td>\n",
       "      <td>...</td>\n",
       "      <td>7</td>\n",
       "      <td>0.0</td>\n",
       "      <td>1.0</td>\n",
       "      <td>0.0</td>\n",
       "      <td>0.0</td>\n",
       "      <td>0.0</td>\n",
       "      <td>4.781</td>\n",
       "      <td>52.928</td>\n",
       "      <td>1.2</td>\n",
       "      <td>DeKooy</td>\n",
       "    </tr>\n",
       "    <tr>\n",
       "      <th>4</th>\n",
       "      <td>240</td>\n",
       "      <td>2023-01-01</td>\n",
       "      <td>220.0</td>\n",
       "      <td>110.0</td>\n",
       "      <td>110.0</td>\n",
       "      <td>150.0</td>\n",
       "      <td>138.0</td>\n",
       "      <td>NaN</td>\n",
       "      <td>92.0</td>\n",
       "      <td>0.0</td>\n",
       "      <td>...</td>\n",
       "      <td>7</td>\n",
       "      <td>0.0</td>\n",
       "      <td>1.0</td>\n",
       "      <td>0.0</td>\n",
       "      <td>0.0</td>\n",
       "      <td>0.0</td>\n",
       "      <td>4.790</td>\n",
       "      <td>52.318</td>\n",
       "      <td>-3.3</td>\n",
       "      <td>Schiphol</td>\n",
       "    </tr>\n",
       "    <tr>\n",
       "      <th>5</th>\n",
       "      <td>242</td>\n",
       "      <td>2023-01-01</td>\n",
       "      <td>220.0</td>\n",
       "      <td>160.0</td>\n",
       "      <td>150.0</td>\n",
       "      <td>210.0</td>\n",
       "      <td>114.0</td>\n",
       "      <td>NaN</td>\n",
       "      <td>91.0</td>\n",
       "      <td>NaN</td>\n",
       "      <td>...</td>\n",
       "      <td>7</td>\n",
       "      <td>0.0</td>\n",
       "      <td>0.0</td>\n",
       "      <td>0.0</td>\n",
       "      <td>0.0</td>\n",
       "      <td>0.0</td>\n",
       "      <td>4.921</td>\n",
       "      <td>53.241</td>\n",
       "      <td>10.8</td>\n",
       "      <td>Vlieland</td>\n",
       "    </tr>\n",
       "    <tr>\n",
       "      <th>6</th>\n",
       "      <td>248</td>\n",
       "      <td>2023-01-01</td>\n",
       "      <td>230.0</td>\n",
       "      <td>120.0</td>\n",
       "      <td>110.0</td>\n",
       "      <td>210.0</td>\n",
       "      <td>NaN</td>\n",
       "      <td>NaN</td>\n",
       "      <td>NaN</td>\n",
       "      <td>NaN</td>\n",
       "      <td>...</td>\n",
       "      <td>6</td>\n",
       "      <td>NaN</td>\n",
       "      <td>NaN</td>\n",
       "      <td>NaN</td>\n",
       "      <td>NaN</td>\n",
       "      <td>NaN</td>\n",
       "      <td>5.174</td>\n",
       "      <td>52.634</td>\n",
       "      <td>0.8</td>\n",
       "      <td>Wijdenes</td>\n",
       "    </tr>\n",
       "    <tr>\n",
       "      <th>7</th>\n",
       "      <td>249</td>\n",
       "      <td>2023-01-01</td>\n",
       "      <td>230.0</td>\n",
       "      <td>140.0</td>\n",
       "      <td>130.0</td>\n",
       "      <td>230.0</td>\n",
       "      <td>136.0</td>\n",
       "      <td>NaN</td>\n",
       "      <td>98.0</td>\n",
       "      <td>0.0</td>\n",
       "      <td>...</td>\n",
       "      <td>7</td>\n",
       "      <td>0.0</td>\n",
       "      <td>1.0</td>\n",
       "      <td>0.0</td>\n",
       "      <td>0.0</td>\n",
       "      <td>0.0</td>\n",
       "      <td>4.979</td>\n",
       "      <td>52.644</td>\n",
       "      <td>-2.4</td>\n",
       "      <td>Berkhout</td>\n",
       "    </tr>\n",
       "    <tr>\n",
       "      <th>8</th>\n",
       "      <td>251</td>\n",
       "      <td>2023-01-01</td>\n",
       "      <td>220.0</td>\n",
       "      <td>140.0</td>\n",
       "      <td>130.0</td>\n",
       "      <td>190.0</td>\n",
       "      <td>108.0</td>\n",
       "      <td>NaN</td>\n",
       "      <td>88.0</td>\n",
       "      <td>0.0</td>\n",
       "      <td>...</td>\n",
       "      <td>7</td>\n",
       "      <td>0.0</td>\n",
       "      <td>0.0</td>\n",
       "      <td>0.0</td>\n",
       "      <td>0.0</td>\n",
       "      <td>0.0</td>\n",
       "      <td>5.346</td>\n",
       "      <td>53.392</td>\n",
       "      <td>0.7</td>\n",
       "      <td>HoornTerschelling</td>\n",
       "    </tr>\n",
       "    <tr>\n",
       "      <th>9</th>\n",
       "      <td>257</td>\n",
       "      <td>2023-01-01</td>\n",
       "      <td>NaN</td>\n",
       "      <td>NaN</td>\n",
       "      <td>NaN</td>\n",
       "      <td>NaN</td>\n",
       "      <td>123.0</td>\n",
       "      <td>NaN</td>\n",
       "      <td>83.0</td>\n",
       "      <td>0.0</td>\n",
       "      <td>...</td>\n",
       "      <td>6</td>\n",
       "      <td>NaN</td>\n",
       "      <td>NaN</td>\n",
       "      <td>NaN</td>\n",
       "      <td>NaN</td>\n",
       "      <td>NaN</td>\n",
       "      <td>4.603</td>\n",
       "      <td>52.506</td>\n",
       "      <td>8.5</td>\n",
       "      <td>WijkaanZee</td>\n",
       "    </tr>\n",
       "    <tr>\n",
       "      <th>10</th>\n",
       "      <td>258</td>\n",
       "      <td>2023-01-01</td>\n",
       "      <td>220.0</td>\n",
       "      <td>120.0</td>\n",
       "      <td>120.0</td>\n",
       "      <td>170.0</td>\n",
       "      <td>NaN</td>\n",
       "      <td>NaN</td>\n",
       "      <td>NaN</td>\n",
       "      <td>NaN</td>\n",
       "      <td>...</td>\n",
       "      <td>6</td>\n",
       "      <td>NaN</td>\n",
       "      <td>NaN</td>\n",
       "      <td>NaN</td>\n",
       "      <td>NaN</td>\n",
       "      <td>NaN</td>\n",
       "      <td>5.401</td>\n",
       "      <td>52.649</td>\n",
       "      <td>7.3</td>\n",
       "      <td>Houtribdijk</td>\n",
       "    </tr>\n",
       "    <tr>\n",
       "      <th>11</th>\n",
       "      <td>260</td>\n",
       "      <td>2023-01-01</td>\n",
       "      <td>220.0</td>\n",
       "      <td>80.0</td>\n",
       "      <td>100.0</td>\n",
       "      <td>160.0</td>\n",
       "      <td>155.0</td>\n",
       "      <td>NaN</td>\n",
       "      <td>75.0</td>\n",
       "      <td>0.0</td>\n",
       "      <td>...</td>\n",
       "      <td>5</td>\n",
       "      <td>0.0</td>\n",
       "      <td>0.0</td>\n",
       "      <td>0.0</td>\n",
       "      <td>0.0</td>\n",
       "      <td>0.0</td>\n",
       "      <td>5.180</td>\n",
       "      <td>52.100</td>\n",
       "      <td>1.9</td>\n",
       "      <td>DeBilt</td>\n",
       "    </tr>\n",
       "    <tr>\n",
       "      <th>12</th>\n",
       "      <td>267</td>\n",
       "      <td>2023-01-01</td>\n",
       "      <td>220.0</td>\n",
       "      <td>130.0</td>\n",
       "      <td>130.0</td>\n",
       "      <td>200.0</td>\n",
       "      <td>121.0</td>\n",
       "      <td>NaN</td>\n",
       "      <td>89.0</td>\n",
       "      <td>0.0</td>\n",
       "      <td>...</td>\n",
       "      <td>7</td>\n",
       "      <td>0.0</td>\n",
       "      <td>1.0</td>\n",
       "      <td>0.0</td>\n",
       "      <td>0.0</td>\n",
       "      <td>0.0</td>\n",
       "      <td>5.384</td>\n",
       "      <td>52.898</td>\n",
       "      <td>-1.3</td>\n",
       "      <td>Stavoren</td>\n",
       "    </tr>\n",
       "    <tr>\n",
       "      <th>13</th>\n",
       "      <td>269</td>\n",
       "      <td>2023-01-01</td>\n",
       "      <td>220.0</td>\n",
       "      <td>100.0</td>\n",
       "      <td>110.0</td>\n",
       "      <td>170.0</td>\n",
       "      <td>141.0</td>\n",
       "      <td>NaN</td>\n",
       "      <td>90.0</td>\n",
       "      <td>0.0</td>\n",
       "      <td>...</td>\n",
       "      <td>7</td>\n",
       "      <td>0.0</td>\n",
       "      <td>1.0</td>\n",
       "      <td>0.0</td>\n",
       "      <td>0.0</td>\n",
       "      <td>0.0</td>\n",
       "      <td>5.520</td>\n",
       "      <td>52.458</td>\n",
       "      <td>-3.7</td>\n",
       "      <td>Lelystad</td>\n",
       "    </tr>\n",
       "    <tr>\n",
       "      <th>14</th>\n",
       "      <td>270</td>\n",
       "      <td>2023-01-01</td>\n",
       "      <td>230.0</td>\n",
       "      <td>140.0</td>\n",
       "      <td>140.0</td>\n",
       "      <td>230.0</td>\n",
       "      <td>132.0</td>\n",
       "      <td>NaN</td>\n",
       "      <td>94.0</td>\n",
       "      <td>0.0</td>\n",
       "      <td>...</td>\n",
       "      <td>7</td>\n",
       "      <td>0.0</td>\n",
       "      <td>1.0</td>\n",
       "      <td>0.0</td>\n",
       "      <td>0.0</td>\n",
       "      <td>0.0</td>\n",
       "      <td>5.752</td>\n",
       "      <td>53.224</td>\n",
       "      <td>1.2</td>\n",
       "      <td>Leeuwarden</td>\n",
       "    </tr>\n",
       "    <tr>\n",
       "      <th>15</th>\n",
       "      <td>273</td>\n",
       "      <td>2023-01-01</td>\n",
       "      <td>220.0</td>\n",
       "      <td>80.0</td>\n",
       "      <td>70.0</td>\n",
       "      <td>130.0</td>\n",
       "      <td>131.0</td>\n",
       "      <td>NaN</td>\n",
       "      <td>93.0</td>\n",
       "      <td>0.0</td>\n",
       "      <td>...</td>\n",
       "      <td>7</td>\n",
       "      <td>0.0</td>\n",
       "      <td>1.0</td>\n",
       "      <td>0.0</td>\n",
       "      <td>0.0</td>\n",
       "      <td>0.0</td>\n",
       "      <td>5.888</td>\n",
       "      <td>52.703</td>\n",
       "      <td>-3.3</td>\n",
       "      <td>Marknesse</td>\n",
       "    </tr>\n",
       "    <tr>\n",
       "      <th>16</th>\n",
       "      <td>275</td>\n",
       "      <td>2023-01-01</td>\n",
       "      <td>220.0</td>\n",
       "      <td>100.0</td>\n",
       "      <td>90.0</td>\n",
       "      <td>150.0</td>\n",
       "      <td>153.0</td>\n",
       "      <td>NaN</td>\n",
       "      <td>76.0</td>\n",
       "      <td>0.0</td>\n",
       "      <td>...</td>\n",
       "      <td>7</td>\n",
       "      <td>0.0</td>\n",
       "      <td>1.0</td>\n",
       "      <td>0.0</td>\n",
       "      <td>0.0</td>\n",
       "      <td>0.0</td>\n",
       "      <td>5.873</td>\n",
       "      <td>52.056</td>\n",
       "      <td>48.2</td>\n",
       "      <td>Deelen</td>\n",
       "    </tr>\n",
       "    <tr>\n",
       "      <th>17</th>\n",
       "      <td>277</td>\n",
       "      <td>2023-01-01</td>\n",
       "      <td>220.0</td>\n",
       "      <td>120.0</td>\n",
       "      <td>130.0</td>\n",
       "      <td>200.0</td>\n",
       "      <td>130.0</td>\n",
       "      <td>NaN</td>\n",
       "      <td>92.0</td>\n",
       "      <td>0.0</td>\n",
       "      <td>...</td>\n",
       "      <td>6</td>\n",
       "      <td>NaN</td>\n",
       "      <td>NaN</td>\n",
       "      <td>NaN</td>\n",
       "      <td>NaN</td>\n",
       "      <td>NaN</td>\n",
       "      <td>6.200</td>\n",
       "      <td>53.413</td>\n",
       "      <td>2.9</td>\n",
       "      <td>Lauwersoog</td>\n",
       "    </tr>\n",
       "    <tr>\n",
       "      <th>18</th>\n",
       "      <td>278</td>\n",
       "      <td>2023-01-01</td>\n",
       "      <td>220.0</td>\n",
       "      <td>70.0</td>\n",
       "      <td>60.0</td>\n",
       "      <td>130.0</td>\n",
       "      <td>150.0</td>\n",
       "      <td>NaN</td>\n",
       "      <td>83.0</td>\n",
       "      <td>0.0</td>\n",
       "      <td>...</td>\n",
       "      <td>6</td>\n",
       "      <td>NaN</td>\n",
       "      <td>NaN</td>\n",
       "      <td>NaN</td>\n",
       "      <td>NaN</td>\n",
       "      <td>NaN</td>\n",
       "      <td>6.259</td>\n",
       "      <td>52.435</td>\n",
       "      <td>3.6</td>\n",
       "      <td>Heino</td>\n",
       "    </tr>\n",
       "    <tr>\n",
       "      <th>19</th>\n",
       "      <td>279</td>\n",
       "      <td>2023-01-01</td>\n",
       "      <td>220.0</td>\n",
       "      <td>90.0</td>\n",
       "      <td>90.0</td>\n",
       "      <td>150.0</td>\n",
       "      <td>139.0</td>\n",
       "      <td>NaN</td>\n",
       "      <td>92.0</td>\n",
       "      <td>0.0</td>\n",
       "      <td>...</td>\n",
       "      <td>7</td>\n",
       "      <td>0.0</td>\n",
       "      <td>1.0</td>\n",
       "      <td>0.0</td>\n",
       "      <td>0.0</td>\n",
       "      <td>0.0</td>\n",
       "      <td>6.574</td>\n",
       "      <td>52.750</td>\n",
       "      <td>15.8</td>\n",
       "      <td>Hoogeveen</td>\n",
       "    </tr>\n",
       "    <tr>\n",
       "      <th>20</th>\n",
       "      <td>280</td>\n",
       "      <td>2023-01-01</td>\n",
       "      <td>210.0</td>\n",
       "      <td>110.0</td>\n",
       "      <td>100.0</td>\n",
       "      <td>190.0</td>\n",
       "      <td>133.0</td>\n",
       "      <td>NaN</td>\n",
       "      <td>94.0</td>\n",
       "      <td>0.0</td>\n",
       "      <td>...</td>\n",
       "      <td>7</td>\n",
       "      <td>0.0</td>\n",
       "      <td>1.0</td>\n",
       "      <td>0.0</td>\n",
       "      <td>0.0</td>\n",
       "      <td>0.0</td>\n",
       "      <td>6.585</td>\n",
       "      <td>53.125</td>\n",
       "      <td>5.2</td>\n",
       "      <td>Eelde</td>\n",
       "    </tr>\n",
       "    <tr>\n",
       "      <th>21</th>\n",
       "      <td>283</td>\n",
       "      <td>2023-01-01</td>\n",
       "      <td>210.0</td>\n",
       "      <td>70.0</td>\n",
       "      <td>70.0</td>\n",
       "      <td>130.0</td>\n",
       "      <td>154.0</td>\n",
       "      <td>NaN</td>\n",
       "      <td>72.0</td>\n",
       "      <td>0.0</td>\n",
       "      <td>...</td>\n",
       "      <td>6</td>\n",
       "      <td>NaN</td>\n",
       "      <td>NaN</td>\n",
       "      <td>NaN</td>\n",
       "      <td>NaN</td>\n",
       "      <td>NaN</td>\n",
       "      <td>6.657</td>\n",
       "      <td>52.069</td>\n",
       "      <td>29.1</td>\n",
       "      <td>Hupsel</td>\n",
       "    </tr>\n",
       "    <tr>\n",
       "      <th>22</th>\n",
       "      <td>285</td>\n",
       "      <td>2023-01-01</td>\n",
       "      <td>220.0</td>\n",
       "      <td>170.0</td>\n",
       "      <td>170.0</td>\n",
       "      <td>240.0</td>\n",
       "      <td>NaN</td>\n",
       "      <td>NaN</td>\n",
       "      <td>NaN</td>\n",
       "      <td>NaN</td>\n",
       "      <td>...</td>\n",
       "      <td>6</td>\n",
       "      <td>NaN</td>\n",
       "      <td>NaN</td>\n",
       "      <td>NaN</td>\n",
       "      <td>NaN</td>\n",
       "      <td>NaN</td>\n",
       "      <td>6.399</td>\n",
       "      <td>53.575</td>\n",
       "      <td>0.0</td>\n",
       "      <td>Huibertgat</td>\n",
       "    </tr>\n",
       "    <tr>\n",
       "      <th>23</th>\n",
       "      <td>286</td>\n",
       "      <td>2023-01-01</td>\n",
       "      <td>210.0</td>\n",
       "      <td>110.0</td>\n",
       "      <td>100.0</td>\n",
       "      <td>170.0</td>\n",
       "      <td>128.0</td>\n",
       "      <td>NaN</td>\n",
       "      <td>98.0</td>\n",
       "      <td>0.0</td>\n",
       "      <td>...</td>\n",
       "      <td>6</td>\n",
       "      <td>NaN</td>\n",
       "      <td>NaN</td>\n",
       "      <td>NaN</td>\n",
       "      <td>NaN</td>\n",
       "      <td>NaN</td>\n",
       "      <td>7.150</td>\n",
       "      <td>53.196</td>\n",
       "      <td>-0.2</td>\n",
       "      <td>NieuwBeerta</td>\n",
       "    </tr>\n",
       "    <tr>\n",
       "      <th>24</th>\n",
       "      <td>290</td>\n",
       "      <td>2023-01-01</td>\n",
       "      <td>210.0</td>\n",
       "      <td>80.0</td>\n",
       "      <td>70.0</td>\n",
       "      <td>150.0</td>\n",
       "      <td>152.0</td>\n",
       "      <td>NaN</td>\n",
       "      <td>72.0</td>\n",
       "      <td>0.0</td>\n",
       "      <td>...</td>\n",
       "      <td>7</td>\n",
       "      <td>0.0</td>\n",
       "      <td>1.0</td>\n",
       "      <td>0.0</td>\n",
       "      <td>0.0</td>\n",
       "      <td>0.0</td>\n",
       "      <td>6.891</td>\n",
       "      <td>52.274</td>\n",
       "      <td>34.8</td>\n",
       "      <td>Twenthe</td>\n",
       "    </tr>\n",
       "    <tr>\n",
       "      <th>25</th>\n",
       "      <td>308</td>\n",
       "      <td>2023-01-01</td>\n",
       "      <td>200.0</td>\n",
       "      <td>100.0</td>\n",
       "      <td>100.0</td>\n",
       "      <td>170.0</td>\n",
       "      <td>NaN</td>\n",
       "      <td>NaN</td>\n",
       "      <td>NaN</td>\n",
       "      <td>NaN</td>\n",
       "      <td>...</td>\n",
       "      <td>6</td>\n",
       "      <td>NaN</td>\n",
       "      <td>NaN</td>\n",
       "      <td>NaN</td>\n",
       "      <td>NaN</td>\n",
       "      <td>NaN</td>\n",
       "      <td>3.379</td>\n",
       "      <td>51.381</td>\n",
       "      <td>0.0</td>\n",
       "      <td>Cadzand</td>\n",
       "    </tr>\n",
       "    <tr>\n",
       "      <th>26</th>\n",
       "      <td>310</td>\n",
       "      <td>2023-01-01</td>\n",
       "      <td>200.0</td>\n",
       "      <td>140.0</td>\n",
       "      <td>140.0</td>\n",
       "      <td>180.0</td>\n",
       "      <td>131.0</td>\n",
       "      <td>NaN</td>\n",
       "      <td>79.0</td>\n",
       "      <td>0.0</td>\n",
       "      <td>...</td>\n",
       "      <td>5</td>\n",
       "      <td>0.0</td>\n",
       "      <td>0.0</td>\n",
       "      <td>0.0</td>\n",
       "      <td>0.0</td>\n",
       "      <td>0.0</td>\n",
       "      <td>3.596</td>\n",
       "      <td>51.442</td>\n",
       "      <td>8.0</td>\n",
       "      <td>Vlissingen</td>\n",
       "    </tr>\n",
       "    <tr>\n",
       "      <th>27</th>\n",
       "      <td>312</td>\n",
       "      <td>2023-01-01</td>\n",
       "      <td>200.0</td>\n",
       "      <td>130.0</td>\n",
       "      <td>130.0</td>\n",
       "      <td>160.0</td>\n",
       "      <td>NaN</td>\n",
       "      <td>NaN</td>\n",
       "      <td>NaN</td>\n",
       "      <td>NaN</td>\n",
       "      <td>...</td>\n",
       "      <td>6</td>\n",
       "      <td>NaN</td>\n",
       "      <td>NaN</td>\n",
       "      <td>NaN</td>\n",
       "      <td>NaN</td>\n",
       "      <td>NaN</td>\n",
       "      <td>3.622</td>\n",
       "      <td>51.768</td>\n",
       "      <td>0.0</td>\n",
       "      <td>Oosterschelde</td>\n",
       "    </tr>\n",
       "    <tr>\n",
       "      <th>28</th>\n",
       "      <td>313</td>\n",
       "      <td>2023-01-01</td>\n",
       "      <td>200.0</td>\n",
       "      <td>120.0</td>\n",
       "      <td>120.0</td>\n",
       "      <td>140.0</td>\n",
       "      <td>NaN</td>\n",
       "      <td>NaN</td>\n",
       "      <td>NaN</td>\n",
       "      <td>NaN</td>\n",
       "      <td>...</td>\n",
       "      <td>6</td>\n",
       "      <td>NaN</td>\n",
       "      <td>NaN</td>\n",
       "      <td>NaN</td>\n",
       "      <td>NaN</td>\n",
       "      <td>NaN</td>\n",
       "      <td>3.242</td>\n",
       "      <td>51.505</td>\n",
       "      <td>0.0</td>\n",
       "      <td>VlaktevanDeRaan</td>\n",
       "    </tr>\n",
       "    <tr>\n",
       "      <th>29</th>\n",
       "      <td>315</td>\n",
       "      <td>2023-01-01</td>\n",
       "      <td>210.0</td>\n",
       "      <td>120.0</td>\n",
       "      <td>120.0</td>\n",
       "      <td>150.0</td>\n",
       "      <td>NaN</td>\n",
       "      <td>NaN</td>\n",
       "      <td>NaN</td>\n",
       "      <td>NaN</td>\n",
       "      <td>...</td>\n",
       "      <td>6</td>\n",
       "      <td>NaN</td>\n",
       "      <td>NaN</td>\n",
       "      <td>NaN</td>\n",
       "      <td>NaN</td>\n",
       "      <td>NaN</td>\n",
       "      <td>3.998</td>\n",
       "      <td>51.447</td>\n",
       "      <td>0.0</td>\n",
       "      <td>Hansweert</td>\n",
       "    </tr>\n",
       "    <tr>\n",
       "      <th>30</th>\n",
       "      <td>316</td>\n",
       "      <td>2023-01-01</td>\n",
       "      <td>210.0</td>\n",
       "      <td>120.0</td>\n",
       "      <td>120.0</td>\n",
       "      <td>170.0</td>\n",
       "      <td>NaN</td>\n",
       "      <td>NaN</td>\n",
       "      <td>NaN</td>\n",
       "      <td>NaN</td>\n",
       "      <td>...</td>\n",
       "      <td>6</td>\n",
       "      <td>NaN</td>\n",
       "      <td>NaN</td>\n",
       "      <td>NaN</td>\n",
       "      <td>NaN</td>\n",
       "      <td>NaN</td>\n",
       "      <td>3.694</td>\n",
       "      <td>51.657</td>\n",
       "      <td>0.0</td>\n",
       "      <td>Schaar</td>\n",
       "    </tr>\n",
       "    <tr>\n",
       "      <th>31</th>\n",
       "      <td>319</td>\n",
       "      <td>2023-01-01</td>\n",
       "      <td>210.0</td>\n",
       "      <td>100.0</td>\n",
       "      <td>90.0</td>\n",
       "      <td>180.0</td>\n",
       "      <td>145.0</td>\n",
       "      <td>NaN</td>\n",
       "      <td>74.0</td>\n",
       "      <td>0.0</td>\n",
       "      <td>...</td>\n",
       "      <td>5</td>\n",
       "      <td>0.0</td>\n",
       "      <td>0.0</td>\n",
       "      <td>0.0</td>\n",
       "      <td>0.0</td>\n",
       "      <td>0.0</td>\n",
       "      <td>3.861</td>\n",
       "      <td>51.226</td>\n",
       "      <td>1.7</td>\n",
       "      <td>Westdorpe</td>\n",
       "    </tr>\n",
       "    <tr>\n",
       "      <th>32</th>\n",
       "      <td>323</td>\n",
       "      <td>2023-01-01</td>\n",
       "      <td>210.0</td>\n",
       "      <td>90.0</td>\n",
       "      <td>90.0</td>\n",
       "      <td>160.0</td>\n",
       "      <td>145.0</td>\n",
       "      <td>NaN</td>\n",
       "      <td>80.0</td>\n",
       "      <td>0.0</td>\n",
       "      <td>...</td>\n",
       "      <td>6</td>\n",
       "      <td>NaN</td>\n",
       "      <td>NaN</td>\n",
       "      <td>NaN</td>\n",
       "      <td>NaN</td>\n",
       "      <td>NaN</td>\n",
       "      <td>3.884</td>\n",
       "      <td>51.527</td>\n",
       "      <td>1.4</td>\n",
       "      <td>Wilhelminadorp</td>\n",
       "    </tr>\n",
       "    <tr>\n",
       "      <th>33</th>\n",
       "      <td>324</td>\n",
       "      <td>2023-01-01</td>\n",
       "      <td>210.0</td>\n",
       "      <td>110.0</td>\n",
       "      <td>100.0</td>\n",
       "      <td>160.0</td>\n",
       "      <td>NaN</td>\n",
       "      <td>NaN</td>\n",
       "      <td>NaN</td>\n",
       "      <td>NaN</td>\n",
       "      <td>...</td>\n",
       "      <td>6</td>\n",
       "      <td>NaN</td>\n",
       "      <td>NaN</td>\n",
       "      <td>NaN</td>\n",
       "      <td>NaN</td>\n",
       "      <td>NaN</td>\n",
       "      <td>4.006</td>\n",
       "      <td>51.596</td>\n",
       "      <td>0.0</td>\n",
       "      <td>Stavenisse</td>\n",
       "    </tr>\n",
       "    <tr>\n",
       "      <th>34</th>\n",
       "      <td>330</td>\n",
       "      <td>2023-01-01</td>\n",
       "      <td>210.0</td>\n",
       "      <td>130.0</td>\n",
       "      <td>120.0</td>\n",
       "      <td>210.0</td>\n",
       "      <td>135.0</td>\n",
       "      <td>NaN</td>\n",
       "      <td>78.0</td>\n",
       "      <td>0.0</td>\n",
       "      <td>...</td>\n",
       "      <td>6</td>\n",
       "      <td>NaN</td>\n",
       "      <td>NaN</td>\n",
       "      <td>NaN</td>\n",
       "      <td>NaN</td>\n",
       "      <td>NaN</td>\n",
       "      <td>4.122</td>\n",
       "      <td>51.992</td>\n",
       "      <td>11.9</td>\n",
       "      <td>HoekvanHolland</td>\n",
       "    </tr>\n",
       "    <tr>\n",
       "      <th>35</th>\n",
       "      <td>340</td>\n",
       "      <td>2023-01-01</td>\n",
       "      <td>220.0</td>\n",
       "      <td>70.0</td>\n",
       "      <td>80.0</td>\n",
       "      <td>140.0</td>\n",
       "      <td>148.0</td>\n",
       "      <td>NaN</td>\n",
       "      <td>72.0</td>\n",
       "      <td>NaN</td>\n",
       "      <td>...</td>\n",
       "      <td>7</td>\n",
       "      <td>0.0</td>\n",
       "      <td>1.0</td>\n",
       "      <td>0.0</td>\n",
       "      <td>0.0</td>\n",
       "      <td>0.0</td>\n",
       "      <td>4.342</td>\n",
       "      <td>51.449</td>\n",
       "      <td>19.2</td>\n",
       "      <td>Woensdrecht</td>\n",
       "    </tr>\n",
       "    <tr>\n",
       "      <th>36</th>\n",
       "      <td>343</td>\n",
       "      <td>2023-01-01</td>\n",
       "      <td>220.0</td>\n",
       "      <td>110.0</td>\n",
       "      <td>110.0</td>\n",
       "      <td>180.0</td>\n",
       "      <td>NaN</td>\n",
       "      <td>NaN</td>\n",
       "      <td>NaN</td>\n",
       "      <td>NaN</td>\n",
       "      <td>...</td>\n",
       "      <td>6</td>\n",
       "      <td>NaN</td>\n",
       "      <td>NaN</td>\n",
       "      <td>NaN</td>\n",
       "      <td>NaN</td>\n",
       "      <td>NaN</td>\n",
       "      <td>4.313</td>\n",
       "      <td>51.893</td>\n",
       "      <td>3.5</td>\n",
       "      <td>RotterdamGeulhaven</td>\n",
       "    </tr>\n",
       "    <tr>\n",
       "      <th>37</th>\n",
       "      <td>344</td>\n",
       "      <td>2023-01-01</td>\n",
       "      <td>210.0</td>\n",
       "      <td>100.0</td>\n",
       "      <td>110.0</td>\n",
       "      <td>180.0</td>\n",
       "      <td>143.0</td>\n",
       "      <td>NaN</td>\n",
       "      <td>88.0</td>\n",
       "      <td>0.0</td>\n",
       "      <td>...</td>\n",
       "      <td>5</td>\n",
       "      <td>0.0</td>\n",
       "      <td>0.0</td>\n",
       "      <td>0.0</td>\n",
       "      <td>0.0</td>\n",
       "      <td>0.0</td>\n",
       "      <td>4.447</td>\n",
       "      <td>51.962</td>\n",
       "      <td>-4.3</td>\n",
       "      <td>Rotterdam</td>\n",
       "    </tr>\n",
       "    <tr>\n",
       "      <th>38</th>\n",
       "      <td>348</td>\n",
       "      <td>2023-01-01</td>\n",
       "      <td>220.0</td>\n",
       "      <td>120.0</td>\n",
       "      <td>130.0</td>\n",
       "      <td>180.0</td>\n",
       "      <td>147.0</td>\n",
       "      <td>NaN</td>\n",
       "      <td>82.0</td>\n",
       "      <td>0.0</td>\n",
       "      <td>...</td>\n",
       "      <td>5</td>\n",
       "      <td>0.0</td>\n",
       "      <td>0.0</td>\n",
       "      <td>0.0</td>\n",
       "      <td>0.0</td>\n",
       "      <td>0.0</td>\n",
       "      <td>4.926</td>\n",
       "      <td>51.970</td>\n",
       "      <td>-0.7</td>\n",
       "      <td>CabauwMast</td>\n",
       "    </tr>\n",
       "    <tr>\n",
       "      <th>39</th>\n",
       "      <td>350</td>\n",
       "      <td>2023-01-01</td>\n",
       "      <td>210.0</td>\n",
       "      <td>90.0</td>\n",
       "      <td>90.0</td>\n",
       "      <td>150.0</td>\n",
       "      <td>154.0</td>\n",
       "      <td>NaN</td>\n",
       "      <td>73.0</td>\n",
       "      <td>0.0</td>\n",
       "      <td>...</td>\n",
       "      <td>7</td>\n",
       "      <td>0.0</td>\n",
       "      <td>1.0</td>\n",
       "      <td>0.0</td>\n",
       "      <td>0.0</td>\n",
       "      <td>0.0</td>\n",
       "      <td>4.936</td>\n",
       "      <td>51.566</td>\n",
       "      <td>14.9</td>\n",
       "      <td>Gilze-Rijen</td>\n",
       "    </tr>\n",
       "    <tr>\n",
       "      <th>40</th>\n",
       "      <td>356</td>\n",
       "      <td>2023-01-01</td>\n",
       "      <td>220.0</td>\n",
       "      <td>110.0</td>\n",
       "      <td>110.0</td>\n",
       "      <td>170.0</td>\n",
       "      <td>151.0</td>\n",
       "      <td>NaN</td>\n",
       "      <td>80.0</td>\n",
       "      <td>0.0</td>\n",
       "      <td>...</td>\n",
       "      <td>6</td>\n",
       "      <td>NaN</td>\n",
       "      <td>NaN</td>\n",
       "      <td>NaN</td>\n",
       "      <td>NaN</td>\n",
       "      <td>NaN</td>\n",
       "      <td>5.146</td>\n",
       "      <td>51.859</td>\n",
       "      <td>0.7</td>\n",
       "      <td>Herwijnen</td>\n",
       "    </tr>\n",
       "    <tr>\n",
       "      <th>41</th>\n",
       "      <td>370</td>\n",
       "      <td>2023-01-01</td>\n",
       "      <td>220.0</td>\n",
       "      <td>110.0</td>\n",
       "      <td>120.0</td>\n",
       "      <td>190.0</td>\n",
       "      <td>163.0</td>\n",
       "      <td>NaN</td>\n",
       "      <td>59.0</td>\n",
       "      <td>0.0</td>\n",
       "      <td>...</td>\n",
       "      <td>7</td>\n",
       "      <td>0.0</td>\n",
       "      <td>1.0</td>\n",
       "      <td>0.0</td>\n",
       "      <td>0.0</td>\n",
       "      <td>0.0</td>\n",
       "      <td>5.377</td>\n",
       "      <td>51.451</td>\n",
       "      <td>22.6</td>\n",
       "      <td>Eindhoven</td>\n",
       "    </tr>\n",
       "    <tr>\n",
       "      <th>42</th>\n",
       "      <td>375</td>\n",
       "      <td>2023-01-01</td>\n",
       "      <td>220.0</td>\n",
       "      <td>110.0</td>\n",
       "      <td>110.0</td>\n",
       "      <td>160.0</td>\n",
       "      <td>162.0</td>\n",
       "      <td>NaN</td>\n",
       "      <td>66.0</td>\n",
       "      <td>0.0</td>\n",
       "      <td>...</td>\n",
       "      <td>5</td>\n",
       "      <td>0.0</td>\n",
       "      <td>0.0</td>\n",
       "      <td>0.0</td>\n",
       "      <td>0.0</td>\n",
       "      <td>0.0</td>\n",
       "      <td>5.707</td>\n",
       "      <td>51.659</td>\n",
       "      <td>22.0</td>\n",
       "      <td>Volkel</td>\n",
       "    </tr>\n",
       "    <tr>\n",
       "      <th>43</th>\n",
       "      <td>377</td>\n",
       "      <td>2023-01-01</td>\n",
       "      <td>210.0</td>\n",
       "      <td>90.0</td>\n",
       "      <td>80.0</td>\n",
       "      <td>160.0</td>\n",
       "      <td>155.0</td>\n",
       "      <td>NaN</td>\n",
       "      <td>53.0</td>\n",
       "      <td>0.0</td>\n",
       "      <td>...</td>\n",
       "      <td>5</td>\n",
       "      <td>0.0</td>\n",
       "      <td>0.0</td>\n",
       "      <td>0.0</td>\n",
       "      <td>0.0</td>\n",
       "      <td>0.0</td>\n",
       "      <td>5.763</td>\n",
       "      <td>51.198</td>\n",
       "      <td>30.0</td>\n",
       "      <td>Ell</td>\n",
       "    </tr>\n",
       "    <tr>\n",
       "      <th>44</th>\n",
       "      <td>380</td>\n",
       "      <td>2023-01-01</td>\n",
       "      <td>210.0</td>\n",
       "      <td>100.0</td>\n",
       "      <td>90.0</td>\n",
       "      <td>150.0</td>\n",
       "      <td>147.0</td>\n",
       "      <td>NaN</td>\n",
       "      <td>42.0</td>\n",
       "      <td>0.0</td>\n",
       "      <td>...</td>\n",
       "      <td>5</td>\n",
       "      <td>0.0</td>\n",
       "      <td>0.0</td>\n",
       "      <td>0.0</td>\n",
       "      <td>0.0</td>\n",
       "      <td>0.0</td>\n",
       "      <td>5.762</td>\n",
       "      <td>50.906</td>\n",
       "      <td>114.3</td>\n",
       "      <td>Maastricht</td>\n",
       "    </tr>\n",
       "    <tr>\n",
       "      <th>45</th>\n",
       "      <td>391</td>\n",
       "      <td>2023-01-01</td>\n",
       "      <td>220.0</td>\n",
       "      <td>50.0</td>\n",
       "      <td>50.0</td>\n",
       "      <td>120.0</td>\n",
       "      <td>163.0</td>\n",
       "      <td>NaN</td>\n",
       "      <td>56.0</td>\n",
       "      <td>0.0</td>\n",
       "      <td>...</td>\n",
       "      <td>6</td>\n",
       "      <td>NaN</td>\n",
       "      <td>NaN</td>\n",
       "      <td>NaN</td>\n",
       "      <td>NaN</td>\n",
       "      <td>NaN</td>\n",
       "      <td>6.197</td>\n",
       "      <td>51.498</td>\n",
       "      <td>19.5</td>\n",
       "      <td>Arcen</td>\n",
       "    </tr>\n",
       "  </tbody>\n",
       "</table>\n",
       "<p>46 rows × 28 columns</p>\n",
       "</div>"
      ],
      "text/plain": [
       "    STN start_time     DD     FH     FF     FX   temp  T10N    TD   SQ  ...  \\\n",
       "0   209 2023-01-01  220.0  140.0  150.0  170.0    NaN   NaN   NaN  NaN  ...   \n",
       "1   215 2023-01-01  220.0  110.0  130.0  200.0  142.0   NaN  84.0  0.0  ...   \n",
       "2   225 2023-01-01  210.0  150.0  160.0  180.0    NaN   NaN   NaN  NaN  ...   \n",
       "3   235 2023-01-01  220.0  120.0  120.0  180.0  112.0   NaN  95.0  0.0  ...   \n",
       "4   240 2023-01-01  220.0  110.0  110.0  150.0  138.0   NaN  92.0  0.0  ...   \n",
       "5   242 2023-01-01  220.0  160.0  150.0  210.0  114.0   NaN  91.0  NaN  ...   \n",
       "6   248 2023-01-01  230.0  120.0  110.0  210.0    NaN   NaN   NaN  NaN  ...   \n",
       "7   249 2023-01-01  230.0  140.0  130.0  230.0  136.0   NaN  98.0  0.0  ...   \n",
       "8   251 2023-01-01  220.0  140.0  130.0  190.0  108.0   NaN  88.0  0.0  ...   \n",
       "9   257 2023-01-01    NaN    NaN    NaN    NaN  123.0   NaN  83.0  0.0  ...   \n",
       "10  258 2023-01-01  220.0  120.0  120.0  170.0    NaN   NaN   NaN  NaN  ...   \n",
       "11  260 2023-01-01  220.0   80.0  100.0  160.0  155.0   NaN  75.0  0.0  ...   \n",
       "12  267 2023-01-01  220.0  130.0  130.0  200.0  121.0   NaN  89.0  0.0  ...   \n",
       "13  269 2023-01-01  220.0  100.0  110.0  170.0  141.0   NaN  90.0  0.0  ...   \n",
       "14  270 2023-01-01  230.0  140.0  140.0  230.0  132.0   NaN  94.0  0.0  ...   \n",
       "15  273 2023-01-01  220.0   80.0   70.0  130.0  131.0   NaN  93.0  0.0  ...   \n",
       "16  275 2023-01-01  220.0  100.0   90.0  150.0  153.0   NaN  76.0  0.0  ...   \n",
       "17  277 2023-01-01  220.0  120.0  130.0  200.0  130.0   NaN  92.0  0.0  ...   \n",
       "18  278 2023-01-01  220.0   70.0   60.0  130.0  150.0   NaN  83.0  0.0  ...   \n",
       "19  279 2023-01-01  220.0   90.0   90.0  150.0  139.0   NaN  92.0  0.0  ...   \n",
       "20  280 2023-01-01  210.0  110.0  100.0  190.0  133.0   NaN  94.0  0.0  ...   \n",
       "21  283 2023-01-01  210.0   70.0   70.0  130.0  154.0   NaN  72.0  0.0  ...   \n",
       "22  285 2023-01-01  220.0  170.0  170.0  240.0    NaN   NaN   NaN  NaN  ...   \n",
       "23  286 2023-01-01  210.0  110.0  100.0  170.0  128.0   NaN  98.0  0.0  ...   \n",
       "24  290 2023-01-01  210.0   80.0   70.0  150.0  152.0   NaN  72.0  0.0  ...   \n",
       "25  308 2023-01-01  200.0  100.0  100.0  170.0    NaN   NaN   NaN  NaN  ...   \n",
       "26  310 2023-01-01  200.0  140.0  140.0  180.0  131.0   NaN  79.0  0.0  ...   \n",
       "27  312 2023-01-01  200.0  130.0  130.0  160.0    NaN   NaN   NaN  NaN  ...   \n",
       "28  313 2023-01-01  200.0  120.0  120.0  140.0    NaN   NaN   NaN  NaN  ...   \n",
       "29  315 2023-01-01  210.0  120.0  120.0  150.0    NaN   NaN   NaN  NaN  ...   \n",
       "30  316 2023-01-01  210.0  120.0  120.0  170.0    NaN   NaN   NaN  NaN  ...   \n",
       "31  319 2023-01-01  210.0  100.0   90.0  180.0  145.0   NaN  74.0  0.0  ...   \n",
       "32  323 2023-01-01  210.0   90.0   90.0  160.0  145.0   NaN  80.0  0.0  ...   \n",
       "33  324 2023-01-01  210.0  110.0  100.0  160.0    NaN   NaN   NaN  NaN  ...   \n",
       "34  330 2023-01-01  210.0  130.0  120.0  210.0  135.0   NaN  78.0  0.0  ...   \n",
       "35  340 2023-01-01  220.0   70.0   80.0  140.0  148.0   NaN  72.0  NaN  ...   \n",
       "36  343 2023-01-01  220.0  110.0  110.0  180.0    NaN   NaN   NaN  NaN  ...   \n",
       "37  344 2023-01-01  210.0  100.0  110.0  180.0  143.0   NaN  88.0  0.0  ...   \n",
       "38  348 2023-01-01  220.0  120.0  130.0  180.0  147.0   NaN  82.0  0.0  ...   \n",
       "39  350 2023-01-01  210.0   90.0   90.0  150.0  154.0   NaN  73.0  0.0  ...   \n",
       "40  356 2023-01-01  220.0  110.0  110.0  170.0  151.0   NaN  80.0  0.0  ...   \n",
       "41  370 2023-01-01  220.0  110.0  120.0  190.0  163.0   NaN  59.0  0.0  ...   \n",
       "42  375 2023-01-01  220.0  110.0  110.0  160.0  162.0   NaN  66.0  0.0  ...   \n",
       "43  377 2023-01-01  210.0   90.0   80.0  160.0  155.0   NaN  53.0  0.0  ...   \n",
       "44  380 2023-01-01  210.0  100.0   90.0  150.0  147.0   NaN  42.0  0.0  ...   \n",
       "45  391 2023-01-01  220.0   50.0   50.0  120.0  163.0   NaN  56.0  0.0  ...   \n",
       "\n",
       "    IX    M    R    S    O    Y  LON(east)  LAT(north)  ALT(m)  \\\n",
       "0    6  NaN  NaN  NaN  NaN  NaN      4.518      52.465     0.0   \n",
       "1    5  0.0  0.0  0.0  0.0  0.0      4.437      52.141    -1.1   \n",
       "2    6  NaN  NaN  NaN  NaN  NaN      4.555      52.463     4.4   \n",
       "3    7  0.0  1.0  0.0  0.0  0.0      4.781      52.928     1.2   \n",
       "4    7  0.0  1.0  0.0  0.0  0.0      4.790      52.318    -3.3   \n",
       "5    7  0.0  0.0  0.0  0.0  0.0      4.921      53.241    10.8   \n",
       "6    6  NaN  NaN  NaN  NaN  NaN      5.174      52.634     0.8   \n",
       "7    7  0.0  1.0  0.0  0.0  0.0      4.979      52.644    -2.4   \n",
       "8    7  0.0  0.0  0.0  0.0  0.0      5.346      53.392     0.7   \n",
       "9    6  NaN  NaN  NaN  NaN  NaN      4.603      52.506     8.5   \n",
       "10   6  NaN  NaN  NaN  NaN  NaN      5.401      52.649     7.3   \n",
       "11   5  0.0  0.0  0.0  0.0  0.0      5.180      52.100     1.9   \n",
       "12   7  0.0  1.0  0.0  0.0  0.0      5.384      52.898    -1.3   \n",
       "13   7  0.0  1.0  0.0  0.0  0.0      5.520      52.458    -3.7   \n",
       "14   7  0.0  1.0  0.0  0.0  0.0      5.752      53.224     1.2   \n",
       "15   7  0.0  1.0  0.0  0.0  0.0      5.888      52.703    -3.3   \n",
       "16   7  0.0  1.0  0.0  0.0  0.0      5.873      52.056    48.2   \n",
       "17   6  NaN  NaN  NaN  NaN  NaN      6.200      53.413     2.9   \n",
       "18   6  NaN  NaN  NaN  NaN  NaN      6.259      52.435     3.6   \n",
       "19   7  0.0  1.0  0.0  0.0  0.0      6.574      52.750    15.8   \n",
       "20   7  0.0  1.0  0.0  0.0  0.0      6.585      53.125     5.2   \n",
       "21   6  NaN  NaN  NaN  NaN  NaN      6.657      52.069    29.1   \n",
       "22   6  NaN  NaN  NaN  NaN  NaN      6.399      53.575     0.0   \n",
       "23   6  NaN  NaN  NaN  NaN  NaN      7.150      53.196    -0.2   \n",
       "24   7  0.0  1.0  0.0  0.0  0.0      6.891      52.274    34.8   \n",
       "25   6  NaN  NaN  NaN  NaN  NaN      3.379      51.381     0.0   \n",
       "26   5  0.0  0.0  0.0  0.0  0.0      3.596      51.442     8.0   \n",
       "27   6  NaN  NaN  NaN  NaN  NaN      3.622      51.768     0.0   \n",
       "28   6  NaN  NaN  NaN  NaN  NaN      3.242      51.505     0.0   \n",
       "29   6  NaN  NaN  NaN  NaN  NaN      3.998      51.447     0.0   \n",
       "30   6  NaN  NaN  NaN  NaN  NaN      3.694      51.657     0.0   \n",
       "31   5  0.0  0.0  0.0  0.0  0.0      3.861      51.226     1.7   \n",
       "32   6  NaN  NaN  NaN  NaN  NaN      3.884      51.527     1.4   \n",
       "33   6  NaN  NaN  NaN  NaN  NaN      4.006      51.596     0.0   \n",
       "34   6  NaN  NaN  NaN  NaN  NaN      4.122      51.992    11.9   \n",
       "35   7  0.0  1.0  0.0  0.0  0.0      4.342      51.449    19.2   \n",
       "36   6  NaN  NaN  NaN  NaN  NaN      4.313      51.893     3.5   \n",
       "37   5  0.0  0.0  0.0  0.0  0.0      4.447      51.962    -4.3   \n",
       "38   5  0.0  0.0  0.0  0.0  0.0      4.926      51.970    -0.7   \n",
       "39   7  0.0  1.0  0.0  0.0  0.0      4.936      51.566    14.9   \n",
       "40   6  NaN  NaN  NaN  NaN  NaN      5.146      51.859     0.7   \n",
       "41   7  0.0  1.0  0.0  0.0  0.0      5.377      51.451    22.6   \n",
       "42   5  0.0  0.0  0.0  0.0  0.0      5.707      51.659    22.0   \n",
       "43   5  0.0  0.0  0.0  0.0  0.0      5.763      51.198    30.0   \n",
       "44   5  0.0  0.0  0.0  0.0  0.0      5.762      50.906   114.3   \n",
       "45   6  NaN  NaN  NaN  NaN  NaN      6.197      51.498    19.5   \n",
       "\n",
       "                  NAME  \n",
       "0               IJmond  \n",
       "1          Voorschoten  \n",
       "2             IJmuiden  \n",
       "3               DeKooy  \n",
       "4             Schiphol  \n",
       "5             Vlieland  \n",
       "6             Wijdenes  \n",
       "7             Berkhout  \n",
       "8    HoornTerschelling  \n",
       "9           WijkaanZee  \n",
       "10         Houtribdijk  \n",
       "11              DeBilt  \n",
       "12            Stavoren  \n",
       "13            Lelystad  \n",
       "14          Leeuwarden  \n",
       "15           Marknesse  \n",
       "16              Deelen  \n",
       "17          Lauwersoog  \n",
       "18               Heino  \n",
       "19           Hoogeveen  \n",
       "20               Eelde  \n",
       "21              Hupsel  \n",
       "22          Huibertgat  \n",
       "23         NieuwBeerta  \n",
       "24             Twenthe  \n",
       "25             Cadzand  \n",
       "26          Vlissingen  \n",
       "27       Oosterschelde  \n",
       "28     VlaktevanDeRaan  \n",
       "29           Hansweert  \n",
       "30              Schaar  \n",
       "31           Westdorpe  \n",
       "32      Wilhelminadorp  \n",
       "33          Stavenisse  \n",
       "34      HoekvanHolland  \n",
       "35         Woensdrecht  \n",
       "36  RotterdamGeulhaven  \n",
       "37           Rotterdam  \n",
       "38          CabauwMast  \n",
       "39         Gilze-Rijen  \n",
       "40           Herwijnen  \n",
       "41           Eindhoven  \n",
       "42              Volkel  \n",
       "43                 Ell  \n",
       "44          Maastricht  \n",
       "45               Arcen  \n",
       "\n",
       "[46 rows x 28 columns]"
      ]
     },
     "metadata": {},
     "output_type": "display_data"
    },
    {
     "data": {
      "text/html": [
       "<div>\n",
       "<style scoped>\n",
       "    .dataframe tbody tr th:only-of-type {\n",
       "        vertical-align: middle;\n",
       "    }\n",
       "\n",
       "    .dataframe tbody tr th {\n",
       "        vertical-align: top;\n",
       "    }\n",
       "\n",
       "    .dataframe thead th {\n",
       "        text-align: right;\n",
       "    }\n",
       "</style>\n",
       "<table border=\"1\" class=\"dataframe\">\n",
       "  <thead>\n",
       "    <tr style=\"text-align: right;\">\n",
       "      <th></th>\n",
       "      <th>name</th>\n",
       "      <th>name_norm</th>\n",
       "      <th>latitude</th>\n",
       "      <th>longitude</th>\n",
       "      <th>country</th>\n",
       "    </tr>\n",
       "  </thead>\n",
       "  <tbody>\n",
       "  </tbody>\n",
       "</table>\n",
       "</div>"
      ],
      "text/plain": [
       "Empty DataFrame\n",
       "Columns: [name, name_norm, latitude, longitude, country]\n",
       "Index: []"
      ]
     },
     "metadata": {},
     "output_type": "display_data"
    },
    {
     "data": {
      "text/html": [
       "<div>\n",
       "<style scoped>\n",
       "    .dataframe tbody tr th:only-of-type {\n",
       "        vertical-align: middle;\n",
       "    }\n",
       "\n",
       "    .dataframe tbody tr th {\n",
       "        vertical-align: top;\n",
       "    }\n",
       "\n",
       "    .dataframe thead th {\n",
       "        text-align: right;\n",
       "    }\n",
       "</style>\n",
       "<table border=\"1\" class=\"dataframe\">\n",
       "  <thead>\n",
       "    <tr style=\"text-align: right;\">\n",
       "      <th></th>\n",
       "      <th>STN</th>\n",
       "      <th>start_time</th>\n",
       "      <th>DD</th>\n",
       "      <th>FH</th>\n",
       "      <th>FF</th>\n",
       "      <th>FX</th>\n",
       "      <th>temp</th>\n",
       "      <th>T10N</th>\n",
       "      <th>TD</th>\n",
       "      <th>SQ</th>\n",
       "      <th>...</th>\n",
       "      <th>Y</th>\n",
       "      <th>LON(east)</th>\n",
       "      <th>LAT(north)</th>\n",
       "      <th>ALT(m)</th>\n",
       "      <th>NAME</th>\n",
       "      <th>name</th>\n",
       "      <th>name_norm</th>\n",
       "      <th>latitude</th>\n",
       "      <th>longitude</th>\n",
       "      <th>country</th>\n",
       "    </tr>\n",
       "  </thead>\n",
       "  <tbody>\n",
       "  </tbody>\n",
       "</table>\n",
       "<p>0 rows × 33 columns</p>\n",
       "</div>"
      ],
      "text/plain": [
       "Empty DataFrame\n",
       "Columns: [STN, start_time, DD, FH, FF, FX, temp, T10N, TD, SQ, Q, DR, RH, P, VV, N, U, WW, IX, M, R, S, O, Y, LON(east), LAT(north), ALT(m), NAME, name, name_norm, latitude, longitude, country]\n",
       "Index: []\n",
       "\n",
       "[0 rows x 33 columns]"
      ]
     },
     "metadata": {},
     "output_type": "display_data"
    }
   ],
   "source": [
    "from sklearn.neighbors import BallTree\n",
    "\n",
    "# europa_train_station_locations['latitude_rad'] = np.radians(europa_train_station_locations['latitude'])\n",
    "# europa_train_station_locations['longitude_rad'] = np.radians(europa_train_station_locations['longitude'])\n",
    "\n",
    "# weather_station_location['latitude_rad'] = np.radians(weather_station_location['LAT(north)'])\n",
    "# weather_station_location['longitude_rad'] = np.radians(weather_station_location['LON(east)'])\n",
    "\n",
    "df_mergid_first_date_stations = df_first_date.merge(weather_station_location, on='STN', how='inner')\n",
    "\n",
    "display(df_mergid_first_date_stations)\n",
    "display(europa_train_station_locations[europa_train_station_locations['name'] == 'eindhoven Centraal'])\n",
    "\n",
    "tree = BallTree(df_mergid_first_date_stations[['LAT(north)', 'LON(east)']].dropna().values, metric='haversine')\n",
    "\n",
    "indices = tree.query(europa_train_station_locations[['latitude', 'longitude']].dropna().values, return_distance=False, k=1)\n",
    "\n",
    "nearest_neighbors_weather_station_location = df_mergid_first_date_stations.iloc[indices.flatten()]\n",
    "\n",
    "europa_train_station_locations.reset_index(drop=True, inplace=True)\n",
    "nearest_neighbors_weather_station_location.reset_index(drop=True, inplace=True)\n",
    "\n",
    "combined_df = pd.concat([nearest_neighbors_weather_station_location, europa_train_station_locations], axis=1)\n",
    "\n",
    "display(combined_df[combined_df['name'] == 'eindhoven Centraal'])\n"
   ]
  }
 ],
 "metadata": {
  "kernelspec": {
   "display_name": "Python 3",
   "language": "python",
   "name": "python3"
  },
  "language_info": {
   "codemirror_mode": {
    "name": "ipython",
    "version": 3
   },
   "file_extension": ".py",
   "mimetype": "text/x-python",
   "name": "python",
   "nbconvert_exporter": "python",
   "pygments_lexer": "ipython3",
   "version": "3.11.9"
  }
 },
 "nbformat": 4,
 "nbformat_minor": 2
}
