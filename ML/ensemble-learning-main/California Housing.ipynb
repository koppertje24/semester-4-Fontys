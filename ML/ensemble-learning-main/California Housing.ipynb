{
 "cells": [
  {
   "attachments": {},
   "cell_type": "markdown",
   "metadata": {
    "collapsed": true
   },
   "source": [
    "# Predicting California housing prices using ensemble learning\n",
    "\n",
    "In this notebook we will use a Random Forest model to predict housing prices of houses in California.\n"
   ]
  },
  {
   "attachments": {},
   "cell_type": "markdown",
   "metadata": {},
   "source": [
    "# 📦 Data provisioning\n",
    "\n",
    "The California housing dataset can be loaded using scikit-learn:"
   ]
  },
  {
   "cell_type": "code",
   "execution_count": 1,
   "metadata": {},
   "outputs": [],
   "source": [
    "from sklearn.datasets import fetch_california_housing\n",
    "dataset = fetch_california_housing()"
   ]
  },
  {
   "attachments": {},
   "cell_type": "markdown",
   "metadata": {},
   "source": [
    "# Inspect the dataset"
   ]
  },
  {
   "attachments": {},
   "cell_type": "markdown",
   "metadata": {},
   "source": [
    "Let's first have a look into the format of the dataset."
   ]
  },
  {
   "cell_type": "code",
   "execution_count": 2,
   "metadata": {},
   "outputs": [
    {
     "data": {
      "text/plain": [
       "{'data': array([[   8.3252    ,   41.        ,    6.98412698, ...,    2.55555556,\n",
       "           37.88      , -122.23      ],\n",
       "        [   8.3014    ,   21.        ,    6.23813708, ...,    2.10984183,\n",
       "           37.86      , -122.22      ],\n",
       "        [   7.2574    ,   52.        ,    8.28813559, ...,    2.80225989,\n",
       "           37.85      , -122.24      ],\n",
       "        ...,\n",
       "        [   1.7       ,   17.        ,    5.20554273, ...,    2.3256351 ,\n",
       "           39.43      , -121.22      ],\n",
       "        [   1.8672    ,   18.        ,    5.32951289, ...,    2.12320917,\n",
       "           39.43      , -121.32      ],\n",
       "        [   2.3886    ,   16.        ,    5.25471698, ...,    2.61698113,\n",
       "           39.37      , -121.24      ]]),\n",
       " 'target': array([4.526, 3.585, 3.521, ..., 0.923, 0.847, 0.894]),\n",
       " 'frame': None,\n",
       " 'target_names': ['MedHouseVal'],\n",
       " 'feature_names': ['MedInc',\n",
       "  'HouseAge',\n",
       "  'AveRooms',\n",
       "  'AveBedrms',\n",
       "  'Population',\n",
       "  'AveOccup',\n",
       "  'Latitude',\n",
       "  'Longitude'],\n",
       " 'DESCR': '.. _california_housing_dataset:\\n\\nCalifornia Housing dataset\\n--------------------------\\n\\n**Data Set Characteristics:**\\n\\n:Number of Instances: 20640\\n\\n:Number of Attributes: 8 numeric, predictive attributes and the target\\n\\n:Attribute Information:\\n    - MedInc        median income in block group\\n    - HouseAge      median house age in block group\\n    - AveRooms      average number of rooms per household\\n    - AveBedrms     average number of bedrooms per household\\n    - Population    block group population\\n    - AveOccup      average number of household members\\n    - Latitude      block group latitude\\n    - Longitude     block group longitude\\n\\n:Missing Attribute Values: None\\n\\nThis dataset was obtained from the StatLib repository.\\nhttps://www.dcc.fc.up.pt/~ltorgo/Regression/cal_housing.html\\n\\nThe target variable is the median house value for California districts,\\nexpressed in hundreds of thousands of dollars ($100,000).\\n\\nThis dataset was derived from the 1990 U.S. census, using one row per census\\nblock group. A block group is the smallest geographical unit for which the U.S.\\nCensus Bureau publishes sample data (a block group typically has a population\\nof 600 to 3,000 people).\\n\\nA household is a group of people residing within a home. Since the average\\nnumber of rooms and bedrooms in this dataset are provided per household, these\\ncolumns may take surprisingly large values for block groups with few households\\nand many empty houses, such as vacation resorts.\\n\\nIt can be downloaded/loaded using the\\n:func:`sklearn.datasets.fetch_california_housing` function.\\n\\n.. topic:: References\\n\\n    - Pace, R. Kelley and Ronald Barry, Sparse Spatial Autoregressions,\\n      Statistics and Probability Letters, 33 (1997) 291-297\\n'}"
      ]
     },
     "execution_count": 2,
     "metadata": {},
     "output_type": "execute_result"
    }
   ],
   "source": [
    "dataset"
   ]
  },
  {
   "attachments": {},
   "cell_type": "markdown",
   "metadata": {},
   "source": [
    "We can see that there are 8 features (mentioned under feature names) and one continuous target variable MedHouseVal (median house value)."
   ]
  },
  {
   "attachments": {},
   "cell_type": "markdown",
   "metadata": {},
   "source": [
    "# 📃 Sample the data"
   ]
  },
  {
   "cell_type": "code",
   "execution_count": 3,
   "metadata": {
    "collapsed": true
   },
   "outputs": [],
   "source": [
    "X = dataset.data\n",
    "y = dataset.target"
   ]
  },
  {
   "cell_type": "code",
   "execution_count": 4,
   "metadata": {},
   "outputs": [
    {
     "data": {
      "text/plain": [
       "array([4.526, 3.585, 3.521, 3.413, 3.422, 2.697, 2.992, 2.414, 2.267,\n",
       "       2.611])"
      ]
     },
     "execution_count": 4,
     "metadata": {},
     "output_type": "execute_result"
    }
   ],
   "source": [
    "X[0:10]\n"
   ]
  },
  {
   "cell_type": "code",
   "execution_count": 5,
   "metadata": {},
   "outputs": [
    {
     "data": {
      "text/plain": [
       "array([4.526, 3.585, 3.521, 3.413, 3.422, 2.697, 2.992, 2.414, 2.267,\n",
       "       2.611])"
      ]
     },
     "execution_count": 5,
     "metadata": {},
     "output_type": "execute_result"
    }
   ],
   "source": [
    "y[0:10]"
   ]
  },
  {
   "attachments": {},
   "cell_type": "markdown",
   "metadata": {},
   "source": [
    "# 🛠️ Preprocessing\n",
    "Since all features are already clean, we don't need to do any preprocessing in this case. Do take into account that longitude and latitude are related and mean something in real life (the location of the house). One could argue that these two features mean something in real life and we should treat them differently. However, since this is not the focus of this notebook we will treat them as separate features."
   ]
  },
  {
   "attachments": {},
   "cell_type": "markdown",
   "metadata": {},
   "source": [
    "## 🪓 Splitting into train/test"
   ]
  },
  {
   "cell_type": "code",
   "execution_count": 6,
   "metadata": {},
   "outputs": [
    {
     "name": "stdout",
     "output_type": "stream",
     "text": [
      "There are in total 20640 observations, of which 15480 are now in the train set, and 5160 in the test set.\n"
     ]
    }
   ],
   "source": [
    "from sklearn.model_selection import train_test_split\n",
    "X_train, X_test, y_train, y_test = train_test_split(\n",
    "    X, y, random_state=21\n",
    ")\n",
    "print(\"There are in total\", len(X), \"observations, of which\", len(X_train), \"are now in the train set, and\", len(X_test), \"in the test set.\")"
   ]
  },
  {
   "attachments": {},
   "cell_type": "markdown",
   "metadata": {},
   "source": [
    "## 🧬 Modelling\n",
    "\n",
    "### Decision Tree\n",
    "\n",
    "Let's start by applying a Decision Tree as we have seen before. Since our target variable is continuous, we do not have a classification problem but a regression problem. This means we will have to use the DecisionTreeRegressor from sklearn."
   ]
  },
  {
   "cell_type": "code",
   "execution_count": 7,
   "metadata": {},
   "outputs": [
    {
     "data": {
      "text/plain": [
       "0.6008678894603974"
      ]
     },
     "execution_count": 7,
     "metadata": {},
     "output_type": "execute_result"
    }
   ],
   "source": [
    "from sklearn.tree import DecisionTreeRegressor\n",
    "tree = DecisionTreeRegressor(random_state=21, max_depth=25)\n",
    "tree.fit(X_train, y_train)\n",
    "tree.score(X_test, y_test)"
   ]
  },
  {
   "attachments": {},
   "cell_type": "markdown",
   "metadata": {},
   "source": [
    "The R-squared value is about 0.6. Although this shows that our model can predict something, it is not exactly mind-blowing.\n",
    "\n",
    "This is not the end of the story though. Let's try doing the same with max_depth=10."
   ]
  },
  {
   "cell_type": "code",
   "execution_count": 8,
   "metadata": {},
   "outputs": [
    {
     "data": {
      "text/plain": [
       "0.6885848151723583"
      ]
     },
     "execution_count": 8,
     "metadata": {},
     "output_type": "execute_result"
    }
   ],
   "source": [
    "from sklearn.tree import DecisionTreeRegressor\n",
    "tree = DecisionTreeRegressor(random_state=21, max_depth=10)\n",
    "tree.fit(X_train, y_train)\n",
    "tree.score(X_test, y_test)"
   ]
  },
  {
   "attachments": {},
   "cell_type": "markdown",
   "metadata": {},
   "source": [
    "The R-squared just went up almost by 0.09! How would you explain this?\n",
    "\n",
    "The next question is what would be the best value for the parameter max_depth. In the exercise we will find this by applying grid search."
   ]
  },
  {
   "attachments": {},
   "cell_type": "markdown",
   "metadata": {},
   "source": [
    "## Random Forest\n",
    "\n",
    "Now let's see whether we can improve our model by applying a Random Forest. This is an example of a bagging ensemble algorithm, since we construct trees based on different (random) samples of the input data."
   ]
  },
  {
   "cell_type": "code",
   "execution_count": 9,
   "metadata": {},
   "outputs": [
    {
     "data": {
      "text/plain": [
       "0.8050417860881305"
      ]
     },
     "execution_count": 9,
     "metadata": {},
     "output_type": "execute_result"
    }
   ],
   "source": [
    "from sklearn.ensemble import RandomForestRegressor\n",
    "random_forest = RandomForestRegressor(n_estimators = 50, max_depth=25, n_jobs=-1)\n",
    "random_forest.fit(X_train, y_train)\n",
    "random_forest.score(X_test, y_test)"
   ]
  },
  {
   "attachments": {},
   "cell_type": "markdown",
   "metadata": {},
   "source": [
    "There is some randomness in the model, so we find different accuracies every time we run it. We tend to find R-squared values of around 0.8 which is quite an improvement with using a single decision tree! Let's see whether we can do better by optimizing the n_estimators parameter."
   ]
  },
  {
   "cell_type": "code",
   "execution_count": 10,
   "metadata": {},
   "outputs": [
    {
     "data": {
      "text/plain": [
       "0.8093268104631148"
      ]
     },
     "execution_count": 10,
     "metadata": {},
     "output_type": "execute_result"
    }
   ],
   "source": [
    "from sklearn.ensemble import RandomForestRegressor\n",
    "random_forest = RandomForestRegressor(n_estimators = 100, max_depth=25, n_jobs=-1)\n",
    "random_forest.fit(X_train, y_train)\n",
    "random_forest.score(X_test, y_test)"
   ]
  },
  {
   "attachments": {},
   "cell_type": "markdown",
   "metadata": {},
   "source": [
    "Our result got a little bit better, but we would have to validate this using cross-validation to make proper conclusions. We will do so in the exercise, while finding a good value for the parameter n_estimators."
   ]
  },
  {
   "attachments": {},
   "cell_type": "markdown",
   "metadata": {},
   "source": [
    "## Feature importance\n",
    "\n",
    "An important benefit of using random forests is that we can get some idea what features were important when determining the target variables (median house price)."
   ]
  },
  {
   "cell_type": "code",
   "execution_count": 11,
   "metadata": {},
   "outputs": [
    {
     "data": {
      "image/png": "[encoded data removed]",
      "text/plain": [
       "<Figure size 640x480 with 1 Axes>"
      ]
     },
     "metadata": {},
     "output_type": "display_data"
    }
   ],
   "source": [
    "import pandas as pd\n",
    "import numpy as np\n",
    "import matplotlib.pyplot as plt\n",
    "\n",
    "forest_importances = pd.Series(random_forest.feature_importances_, index=dataset.feature_names)\n",
    "\n",
    "standard_deviation = np.std([tree.feature_importances_ for tree in random_forest.estimators_], axis=0)\n",
    "\n",
    "plt.figure()\n",
    "forest_importances.plot.bar(yerr=standard_deviation)\n",
    "plt.show()"
   ]
  },
  {
   "attachments": {},
   "cell_type": "markdown",
   "metadata": {},
   "source": [
    "We observe that the MedInc (median income) seems to be the most important variable in predicting the median house price. The second most important feature is AveOccup (average occupation), then the latitude and longitude. Does this match your expectations?"
   ]
  },
  {
   "cell_type": "code",
   "execution_count": 12,
   "metadata": {},
   "outputs": [
    {
     "name": "stderr",
     "output_type": "stream",
     "text": [
      "C:\\Users\\Anne\\AppData\\Local\\Packages\\PythonSoftwareFoundation.Python.3.11_qbz5n2kfra8p0\\LocalCache\\local-packages\\Python311\\site-packages\\sklearn\\svm\\_base.py:1237: ConvergenceWarning: Liblinear failed to converge, increase the number of iterations.\n",
      "  warnings.warn(\n",
      "C:\\Users\\Anne\\AppData\\Local\\Packages\\PythonSoftwareFoundation.Python.3.11_qbz5n2kfra8p0\\LocalCache\\local-packages\\Python311\\site-packages\\sklearn\\svm\\_base.py:1237: ConvergenceWarning: Liblinear failed to converge, increase the number of iterations.\n",
      "  warnings.warn(\n",
      "C:\\Users\\Anne\\AppData\\Local\\Packages\\PythonSoftwareFoundation.Python.3.11_qbz5n2kfra8p0\\LocalCache\\local-packages\\Python311\\site-packages\\sklearn\\svm\\_base.py:1237: ConvergenceWarning: Liblinear failed to converge, increase the number of iterations.\n",
      "  warnings.warn(\n",
      "C:\\Users\\Anne\\AppData\\Local\\Packages\\PythonSoftwareFoundation.Python.3.11_qbz5n2kfra8p0\\LocalCache\\local-packages\\Python311\\site-packages\\sklearn\\svm\\_base.py:1237: ConvergenceWarning: Liblinear failed to converge, increase the number of iterations.\n",
      "  warnings.warn(\n",
      "C:\\Users\\Anne\\AppData\\Local\\Packages\\PythonSoftwareFoundation.Python.3.11_qbz5n2kfra8p0\\LocalCache\\local-packages\\Python311\\site-packages\\sklearn\\svm\\_base.py:1237: ConvergenceWarning: Liblinear failed to converge, increase the number of iterations.\n",
      "  warnings.warn(\n",
      "C:\\Users\\Anne\\AppData\\Local\\Packages\\PythonSoftwareFoundation.Python.3.11_qbz5n2kfra8p0\\LocalCache\\local-packages\\Python311\\site-packages\\sklearn\\svm\\_base.py:1237: ConvergenceWarning: Liblinear failed to converge, increase the number of iterations.\n",
      "  warnings.warn(\n"
     ]
    },
    {
     "data": {
      "text/plain": [
       "0.7814795740178104"
      ]
     },
     "execution_count": 12,
     "metadata": {},
     "output_type": "execute_result"
    }
   ],
   "source": [
    "from sklearn.ensemble import StackingRegressor\n",
    "from sklearn.linear_model import RidgeCV\n",
    "from sklearn.svm import LinearSVR\n",
    "\n",
    "\n",
    "\n",
    "# Now you can use these boosted estimators in your ensemble\n",
    "estimators = [ \n",
    "    ('ridge', RidgeCV()),  \n",
    "    ('svr', LinearSVR(dual=\"auto\", random_state=21)), \n",
    "    ('dtr', DecisionTreeRegressor(random_state=21, max_depth=15))\n",
    "]\n",
    "\n",
    "reg = StackingRegressor( estimators=estimators, final_estimator=RandomForestRegressor(n_estimators=10, random_state=21, max_depth=12) )\n",
    "\n",
    "reg.fit(X_train, y_train).score(X_test, y_test)"
   ]
  },
  {
   "cell_type": "code",
   "execution_count": 13,
   "metadata": {},
   "outputs": [
    {
     "name": "stderr",
     "output_type": "stream",
     "text": [
      "C:\\Users\\Anne\\AppData\\Local\\Packages\\PythonSoftwareFoundation.Python.3.11_qbz5n2kfra8p0\\LocalCache\\local-packages\\Python311\\site-packages\\sklearn\\svm\\_base.py:1237: ConvergenceWarning: Liblinear failed to converge, increase the number of iterations.\n",
      "  warnings.warn(\n",
      "C:\\Users\\Anne\\AppData\\Local\\Packages\\PythonSoftwareFoundation.Python.3.11_qbz5n2kfra8p0\\LocalCache\\local-packages\\Python311\\site-packages\\sklearn\\svm\\_base.py:1237: ConvergenceWarning: Liblinear failed to converge, increase the number of iterations.\n",
      "  warnings.warn(\n",
      "C:\\Users\\Anne\\AppData\\Local\\Packages\\PythonSoftwareFoundation.Python.3.11_qbz5n2kfra8p0\\LocalCache\\local-packages\\Python311\\site-packages\\sklearn\\svm\\_base.py:1237: ConvergenceWarning: Liblinear failed to converge, increase the number of iterations.\n",
      "  warnings.warn(\n",
      "C:\\Users\\Anne\\AppData\\Local\\Packages\\PythonSoftwareFoundation.Python.3.11_qbz5n2kfra8p0\\LocalCache\\local-packages\\Python311\\site-packages\\sklearn\\svm\\_base.py:1237: ConvergenceWarning: Liblinear failed to converge, increase the number of iterations.\n",
      "  warnings.warn(\n",
      "C:\\Users\\Anne\\AppData\\Local\\Packages\\PythonSoftwareFoundation.Python.3.11_qbz5n2kfra8p0\\LocalCache\\local-packages\\Python311\\site-packages\\sklearn\\svm\\_base.py:1237: ConvergenceWarning: Liblinear failed to converge, increase the number of iterations.\n",
      "  warnings.warn(\n",
      "C:\\Users\\Anne\\AppData\\Local\\Packages\\PythonSoftwareFoundation.Python.3.11_qbz5n2kfra8p0\\LocalCache\\local-packages\\Python311\\site-packages\\sklearn\\svm\\_base.py:1237: ConvergenceWarning: Liblinear failed to converge, increase the number of iterations.\n",
      "  warnings.warn(\n",
      "C:\\Users\\Anne\\AppData\\Local\\Packages\\PythonSoftwareFoundation.Python.3.11_qbz5n2kfra8p0\\LocalCache\\local-packages\\Python311\\site-packages\\sklearn\\svm\\_base.py:1237: ConvergenceWarning: Liblinear failed to converge, increase the number of iterations.\n",
      "  warnings.warn(\n",
      "C:\\Users\\Anne\\AppData\\Local\\Packages\\PythonSoftwareFoundation.Python.3.11_qbz5n2kfra8p0\\LocalCache\\local-packages\\Python311\\site-packages\\sklearn\\svm\\_base.py:1237: ConvergenceWarning: Liblinear failed to converge, increase the number of iterations.\n",
      "  warnings.warn(\n",
      "C:\\Users\\Anne\\AppData\\Local\\Packages\\PythonSoftwareFoundation.Python.3.11_qbz5n2kfra8p0\\LocalCache\\local-packages\\Python311\\site-packages\\sklearn\\svm\\_base.py:1237: ConvergenceWarning: Liblinear failed to converge, increase the number of iterations.\n",
      "  warnings.warn(\n",
      "C:\\Users\\Anne\\AppData\\Local\\Packages\\PythonSoftwareFoundation.Python.3.11_qbz5n2kfra8p0\\LocalCache\\local-packages\\Python311\\site-packages\\sklearn\\svm\\_base.py:1237: ConvergenceWarning: Liblinear failed to converge, increase the number of iterations.\n",
      "  warnings.warn(\n",
      "C:\\Users\\Anne\\AppData\\Local\\Packages\\PythonSoftwareFoundation.Python.3.11_qbz5n2kfra8p0\\LocalCache\\local-packages\\Python311\\site-packages\\sklearn\\svm\\_base.py:1237: ConvergenceWarning: Liblinear failed to converge, increase the number of iterations.\n",
      "  warnings.warn(\n",
      "C:\\Users\\Anne\\AppData\\Local\\Packages\\PythonSoftwareFoundation.Python.3.11_qbz5n2kfra8p0\\LocalCache\\local-packages\\Python311\\site-packages\\sklearn\\svm\\_base.py:1237: ConvergenceWarning: Liblinear failed to converge, increase the number of iterations.\n",
      "  warnings.warn(\n",
      "C:\\Users\\Anne\\AppData\\Local\\Packages\\PythonSoftwareFoundation.Python.3.11_qbz5n2kfra8p0\\LocalCache\\local-packages\\Python311\\site-packages\\sklearn\\svm\\_base.py:1237: ConvergenceWarning: Liblinear failed to converge, increase the number of iterations.\n",
      "  warnings.warn(\n",
      "C:\\Users\\Anne\\AppData\\Local\\Packages\\PythonSoftwareFoundation.Python.3.11_qbz5n2kfra8p0\\LocalCache\\local-packages\\Python311\\site-packages\\sklearn\\svm\\_base.py:1237: ConvergenceWarning: Liblinear failed to converge, increase the number of iterations.\n",
      "  warnings.warn(\n",
      "C:\\Users\\Anne\\AppData\\Local\\Packages\\PythonSoftwareFoundation.Python.3.11_qbz5n2kfra8p0\\LocalCache\\local-packages\\Python311\\site-packages\\sklearn\\svm\\_base.py:1237: ConvergenceWarning: Liblinear failed to converge, increase the number of iterations.\n",
      "  warnings.warn(\n",
      "C:\\Users\\Anne\\AppData\\Local\\Packages\\PythonSoftwareFoundation.Python.3.11_qbz5n2kfra8p0\\LocalCache\\local-packages\\Python311\\site-packages\\sklearn\\svm\\_base.py:1237: ConvergenceWarning: Liblinear failed to converge, increase the number of iterations.\n",
      "  warnings.warn(\n",
      "C:\\Users\\Anne\\AppData\\Local\\Packages\\PythonSoftwareFoundation.Python.3.11_qbz5n2kfra8p0\\LocalCache\\local-packages\\Python311\\site-packages\\sklearn\\svm\\_base.py:1237: ConvergenceWarning: Liblinear failed to converge, increase the number of iterations.\n",
      "  warnings.warn(\n",
      "C:\\Users\\Anne\\AppData\\Local\\Packages\\PythonSoftwareFoundation.Python.3.11_qbz5n2kfra8p0\\LocalCache\\local-packages\\Python311\\site-packages\\sklearn\\svm\\_base.py:1237: ConvergenceWarning: Liblinear failed to converge, increase the number of iterations.\n",
      "  warnings.warn(\n",
      "C:\\Users\\Anne\\AppData\\Local\\Packages\\PythonSoftwareFoundation.Python.3.11_qbz5n2kfra8p0\\LocalCache\\local-packages\\Python311\\site-packages\\sklearn\\svm\\_base.py:1237: ConvergenceWarning: Liblinear failed to converge, increase the number of iterations.\n",
      "  warnings.warn(\n",
      "C:\\Users\\Anne\\AppData\\Local\\Packages\\PythonSoftwareFoundation.Python.3.11_qbz5n2kfra8p0\\LocalCache\\local-packages\\Python311\\site-packages\\sklearn\\svm\\_base.py:1237: ConvergenceWarning: Liblinear failed to converge, increase the number of iterations.\n",
      "  warnings.warn(\n",
      "C:\\Users\\Anne\\AppData\\Local\\Packages\\PythonSoftwareFoundation.Python.3.11_qbz5n2kfra8p0\\LocalCache\\local-packages\\Python311\\site-packages\\sklearn\\svm\\_base.py:1237: ConvergenceWarning: Liblinear failed to converge, increase the number of iterations.\n",
      "  warnings.warn(\n",
      "C:\\Users\\Anne\\AppData\\Local\\Packages\\PythonSoftwareFoundation.Python.3.11_qbz5n2kfra8p0\\LocalCache\\local-packages\\Python311\\site-packages\\sklearn\\svm\\_base.py:1237: ConvergenceWarning: Liblinear failed to converge, increase the number of iterations.\n",
      "  warnings.warn(\n",
      "C:\\Users\\Anne\\AppData\\Local\\Packages\\PythonSoftwareFoundation.Python.3.11_qbz5n2kfra8p0\\LocalCache\\local-packages\\Python311\\site-packages\\sklearn\\svm\\_base.py:1237: ConvergenceWarning: Liblinear failed to converge, increase the number of iterations.\n",
      "  warnings.warn(\n",
      "C:\\Users\\Anne\\AppData\\Local\\Packages\\PythonSoftwareFoundation.Python.3.11_qbz5n2kfra8p0\\LocalCache\\local-packages\\Python311\\site-packages\\sklearn\\svm\\_base.py:1237: ConvergenceWarning: Liblinear failed to converge, increase the number of iterations.\n",
      "  warnings.warn(\n",
      "C:\\Users\\Anne\\AppData\\Local\\Packages\\PythonSoftwareFoundation.Python.3.11_qbz5n2kfra8p0\\LocalCache\\local-packages\\Python311\\site-packages\\sklearn\\svm\\_base.py:1237: ConvergenceWarning: Liblinear failed to converge, increase the number of iterations.\n",
      "  warnings.warn(\n",
      "C:\\Users\\Anne\\AppData\\Local\\Packages\\PythonSoftwareFoundation.Python.3.11_qbz5n2kfra8p0\\LocalCache\\local-packages\\Python311\\site-packages\\sklearn\\svm\\_base.py:1237: ConvergenceWarning: Liblinear failed to converge, increase the number of iterations.\n",
      "  warnings.warn(\n",
      "C:\\Users\\Anne\\AppData\\Local\\Packages\\PythonSoftwareFoundation.Python.3.11_qbz5n2kfra8p0\\LocalCache\\local-packages\\Python311\\site-packages\\sklearn\\svm\\_base.py:1237: ConvergenceWarning: Liblinear failed to converge, increase the number of iterations.\n",
      "  warnings.warn(\n",
      "C:\\Users\\Anne\\AppData\\Local\\Packages\\PythonSoftwareFoundation.Python.3.11_qbz5n2kfra8p0\\LocalCache\\local-packages\\Python311\\site-packages\\sklearn\\svm\\_base.py:1237: ConvergenceWarning: Liblinear failed to converge, increase the number of iterations.\n",
      "  warnings.warn(\n",
      "C:\\Users\\Anne\\AppData\\Local\\Packages\\PythonSoftwareFoundation.Python.3.11_qbz5n2kfra8p0\\LocalCache\\local-packages\\Python311\\site-packages\\sklearn\\svm\\_base.py:1237: ConvergenceWarning: Liblinear failed to converge, increase the number of iterations.\n",
      "  warnings.warn(\n",
      "C:\\Users\\Anne\\AppData\\Local\\Packages\\PythonSoftwareFoundation.Python.3.11_qbz5n2kfra8p0\\LocalCache\\local-packages\\Python311\\site-packages\\sklearn\\svm\\_base.py:1237: ConvergenceWarning: Liblinear failed to converge, increase the number of iterations.\n",
      "  warnings.warn(\n",
      "C:\\Users\\Anne\\AppData\\Local\\Packages\\PythonSoftwareFoundation.Python.3.11_qbz5n2kfra8p0\\LocalCache\\local-packages\\Python311\\site-packages\\sklearn\\svm\\_base.py:1237: ConvergenceWarning: Liblinear failed to converge, increase the number of iterations.\n",
      "  warnings.warn(\n",
      "C:\\Users\\Anne\\AppData\\Local\\Packages\\PythonSoftwareFoundation.Python.3.11_qbz5n2kfra8p0\\LocalCache\\local-packages\\Python311\\site-packages\\sklearn\\svm\\_base.py:1237: ConvergenceWarning: Liblinear failed to converge, increase the number of iterations.\n",
      "  warnings.warn(\n",
      "C:\\Users\\Anne\\AppData\\Local\\Packages\\PythonSoftwareFoundation.Python.3.11_qbz5n2kfra8p0\\LocalCache\\local-packages\\Python311\\site-packages\\sklearn\\svm\\_base.py:1237: ConvergenceWarning: Liblinear failed to converge, increase the number of iterations.\n",
      "  warnings.warn(\n",
      "C:\\Users\\Anne\\AppData\\Local\\Packages\\PythonSoftwareFoundation.Python.3.11_qbz5n2kfra8p0\\LocalCache\\local-packages\\Python311\\site-packages\\sklearn\\svm\\_base.py:1237: ConvergenceWarning: Liblinear failed to converge, increase the number of iterations.\n",
      "  warnings.warn(\n",
      "C:\\Users\\Anne\\AppData\\Local\\Packages\\PythonSoftwareFoundation.Python.3.11_qbz5n2kfra8p0\\LocalCache\\local-packages\\Python311\\site-packages\\sklearn\\svm\\_base.py:1237: ConvergenceWarning: Liblinear failed to converge, increase the number of iterations.\n",
      "  warnings.warn(\n",
      "C:\\Users\\Anne\\AppData\\Local\\Packages\\PythonSoftwareFoundation.Python.3.11_qbz5n2kfra8p0\\LocalCache\\local-packages\\Python311\\site-packages\\sklearn\\svm\\_base.py:1237: ConvergenceWarning: Liblinear failed to converge, increase the number of iterations.\n",
      "  warnings.warn(\n",
      "C:\\Users\\Anne\\AppData\\Local\\Packages\\PythonSoftwareFoundation.Python.3.11_qbz5n2kfra8p0\\LocalCache\\local-packages\\Python311\\site-packages\\sklearn\\svm\\_base.py:1237: ConvergenceWarning: Liblinear failed to converge, increase the number of iterations.\n",
      "  warnings.warn(\n",
      "C:\\Users\\Anne\\AppData\\Local\\Packages\\PythonSoftwareFoundation.Python.3.11_qbz5n2kfra8p0\\LocalCache\\local-packages\\Python311\\site-packages\\sklearn\\svm\\_base.py:1237: ConvergenceWarning: Liblinear failed to converge, increase the number of iterations.\n",
      "  warnings.warn(\n",
      "C:\\Users\\Anne\\AppData\\Local\\Packages\\PythonSoftwareFoundation.Python.3.11_qbz5n2kfra8p0\\LocalCache\\local-packages\\Python311\\site-packages\\sklearn\\svm\\_base.py:1237: ConvergenceWarning: Liblinear failed to converge, increase the number of iterations.\n",
      "  warnings.warn(\n",
      "C:\\Users\\Anne\\AppData\\Local\\Packages\\PythonSoftwareFoundation.Python.3.11_qbz5n2kfra8p0\\LocalCache\\local-packages\\Python311\\site-packages\\sklearn\\svm\\_base.py:1237: ConvergenceWarning: Liblinear failed to converge, increase the number of iterations.\n",
      "  warnings.warn(\n",
      "C:\\Users\\Anne\\AppData\\Local\\Packages\\PythonSoftwareFoundation.Python.3.11_qbz5n2kfra8p0\\LocalCache\\local-packages\\Python311\\site-packages\\sklearn\\svm\\_base.py:1237: ConvergenceWarning: Liblinear failed to converge, increase the number of iterations.\n",
      "  warnings.warn(\n",
      "C:\\Users\\Anne\\AppData\\Local\\Packages\\PythonSoftwareFoundation.Python.3.11_qbz5n2kfra8p0\\LocalCache\\local-packages\\Python311\\site-packages\\sklearn\\svm\\_base.py:1237: ConvergenceWarning: Liblinear failed to converge, increase the number of iterations.\n",
      "  warnings.warn(\n",
      "C:\\Users\\Anne\\AppData\\Local\\Packages\\PythonSoftwareFoundation.Python.3.11_qbz5n2kfra8p0\\LocalCache\\local-packages\\Python311\\site-packages\\sklearn\\svm\\_base.py:1237: ConvergenceWarning: Liblinear failed to converge, increase the number of iterations.\n",
      "  warnings.warn(\n",
      "C:\\Users\\Anne\\AppData\\Local\\Packages\\PythonSoftwareFoundation.Python.3.11_qbz5n2kfra8p0\\LocalCache\\local-packages\\Python311\\site-packages\\sklearn\\svm\\_base.py:1237: ConvergenceWarning: Liblinear failed to converge, increase the number of iterations.\n",
      "  warnings.warn(\n",
      "C:\\Users\\Anne\\AppData\\Local\\Packages\\PythonSoftwareFoundation.Python.3.11_qbz5n2kfra8p0\\LocalCache\\local-packages\\Python311\\site-packages\\sklearn\\svm\\_base.py:1237: ConvergenceWarning: Liblinear failed to converge, increase the number of iterations.\n",
      "  warnings.warn(\n",
      "C:\\Users\\Anne\\AppData\\Local\\Packages\\PythonSoftwareFoundation.Python.3.11_qbz5n2kfra8p0\\LocalCache\\local-packages\\Python311\\site-packages\\sklearn\\svm\\_base.py:1237: ConvergenceWarning: Liblinear failed to converge, increase the number of iterations.\n",
      "  warnings.warn(\n",
      "C:\\Users\\Anne\\AppData\\Local\\Packages\\PythonSoftwareFoundation.Python.3.11_qbz5n2kfra8p0\\LocalCache\\local-packages\\Python311\\site-packages\\sklearn\\svm\\_base.py:1237: ConvergenceWarning: Liblinear failed to converge, increase the number of iterations.\n",
      "  warnings.warn(\n",
      "C:\\Users\\Anne\\AppData\\Local\\Packages\\PythonSoftwareFoundation.Python.3.11_qbz5n2kfra8p0\\LocalCache\\local-packages\\Python311\\site-packages\\sklearn\\svm\\_base.py:1237: ConvergenceWarning: Liblinear failed to converge, increase the number of iterations.\n",
      "  warnings.warn(\n",
      "C:\\Users\\Anne\\AppData\\Local\\Packages\\PythonSoftwareFoundation.Python.3.11_qbz5n2kfra8p0\\LocalCache\\local-packages\\Python311\\site-packages\\sklearn\\svm\\_base.py:1237: ConvergenceWarning: Liblinear failed to converge, increase the number of iterations.\n",
      "  warnings.warn(\n",
      "C:\\Users\\Anne\\AppData\\Local\\Packages\\PythonSoftwareFoundation.Python.3.11_qbz5n2kfra8p0\\LocalCache\\local-packages\\Python311\\site-packages\\sklearn\\svm\\_base.py:1237: ConvergenceWarning: Liblinear failed to converge, increase the number of iterations.\n",
      "  warnings.warn(\n",
      "C:\\Users\\Anne\\AppData\\Local\\Packages\\PythonSoftwareFoundation.Python.3.11_qbz5n2kfra8p0\\LocalCache\\local-packages\\Python311\\site-packages\\sklearn\\svm\\_base.py:1237: ConvergenceWarning: Liblinear failed to converge, increase the number of iterations.\n",
      "  warnings.warn(\n",
      "C:\\Users\\Anne\\AppData\\Local\\Packages\\PythonSoftwareFoundation.Python.3.11_qbz5n2kfra8p0\\LocalCache\\local-packages\\Python311\\site-packages\\sklearn\\svm\\_base.py:1237: ConvergenceWarning: Liblinear failed to converge, increase the number of iterations.\n",
      "  warnings.warn(\n",
      "C:\\Users\\Anne\\AppData\\Local\\Packages\\PythonSoftwareFoundation.Python.3.11_qbz5n2kfra8p0\\LocalCache\\local-packages\\Python311\\site-packages\\sklearn\\svm\\_base.py:1237: ConvergenceWarning: Liblinear failed to converge, increase the number of iterations.\n",
      "  warnings.warn(\n",
      "C:\\Users\\Anne\\AppData\\Local\\Packages\\PythonSoftwareFoundation.Python.3.11_qbz5n2kfra8p0\\LocalCache\\local-packages\\Python311\\site-packages\\sklearn\\svm\\_base.py:1237: ConvergenceWarning: Liblinear failed to converge, increase the number of iterations.\n",
      "  warnings.warn(\n",
      "C:\\Users\\Anne\\AppData\\Local\\Packages\\PythonSoftwareFoundation.Python.3.11_qbz5n2kfra8p0\\LocalCache\\local-packages\\Python311\\site-packages\\sklearn\\svm\\_base.py:1237: ConvergenceWarning: Liblinear failed to converge, increase the number of iterations.\n",
      "  warnings.warn(\n",
      "C:\\Users\\Anne\\AppData\\Local\\Packages\\PythonSoftwareFoundation.Python.3.11_qbz5n2kfra8p0\\LocalCache\\local-packages\\Python311\\site-packages\\sklearn\\svm\\_base.py:1237: ConvergenceWarning: Liblinear failed to converge, increase the number of iterations.\n",
      "  warnings.warn(\n",
      "C:\\Users\\Anne\\AppData\\Local\\Packages\\PythonSoftwareFoundation.Python.3.11_qbz5n2kfra8p0\\LocalCache\\local-packages\\Python311\\site-packages\\sklearn\\svm\\_base.py:1237: ConvergenceWarning: Liblinear failed to converge, increase the number of iterations.\n",
      "  warnings.warn(\n",
      "C:\\Users\\Anne\\AppData\\Local\\Packages\\PythonSoftwareFoundation.Python.3.11_qbz5n2kfra8p0\\LocalCache\\local-packages\\Python311\\site-packages\\sklearn\\svm\\_base.py:1237: ConvergenceWarning: Liblinear failed to converge, increase the number of iterations.\n",
      "  warnings.warn(\n",
      "C:\\Users\\Anne\\AppData\\Local\\Packages\\PythonSoftwareFoundation.Python.3.11_qbz5n2kfra8p0\\LocalCache\\local-packages\\Python311\\site-packages\\sklearn\\svm\\_base.py:1237: ConvergenceWarning: Liblinear failed to converge, increase the number of iterations.\n",
      "  warnings.warn(\n",
      "C:\\Users\\Anne\\AppData\\Local\\Packages\\PythonSoftwareFoundation.Python.3.11_qbz5n2kfra8p0\\LocalCache\\local-packages\\Python311\\site-packages\\sklearn\\svm\\_base.py:1237: ConvergenceWarning: Liblinear failed to converge, increase the number of iterations.\n",
      "  warnings.warn(\n",
      "C:\\Users\\Anne\\AppData\\Local\\Packages\\PythonSoftwareFoundation.Python.3.11_qbz5n2kfra8p0\\LocalCache\\local-packages\\Python311\\site-packages\\sklearn\\svm\\_base.py:1237: ConvergenceWarning: Liblinear failed to converge, increase the number of iterations.\n",
      "  warnings.warn(\n",
      "C:\\Users\\Anne\\AppData\\Local\\Packages\\PythonSoftwareFoundation.Python.3.11_qbz5n2kfra8p0\\LocalCache\\local-packages\\Python311\\site-packages\\sklearn\\svm\\_base.py:1237: ConvergenceWarning: Liblinear failed to converge, increase the number of iterations.\n",
      "  warnings.warn(\n",
      "C:\\Users\\Anne\\AppData\\Local\\Packages\\PythonSoftwareFoundation.Python.3.11_qbz5n2kfra8p0\\LocalCache\\local-packages\\Python311\\site-packages\\sklearn\\svm\\_base.py:1237: ConvergenceWarning: Liblinear failed to converge, increase the number of iterations.\n",
      "  warnings.warn(\n",
      "C:\\Users\\Anne\\AppData\\Local\\Packages\\PythonSoftwareFoundation.Python.3.11_qbz5n2kfra8p0\\LocalCache\\local-packages\\Python311\\site-packages\\sklearn\\svm\\_base.py:1237: ConvergenceWarning: Liblinear failed to converge, increase the number of iterations.\n",
      "  warnings.warn(\n",
      "C:\\Users\\Anne\\AppData\\Local\\Packages\\PythonSoftwareFoundation.Python.3.11_qbz5n2kfra8p0\\LocalCache\\local-packages\\Python311\\site-packages\\sklearn\\svm\\_base.py:1237: ConvergenceWarning: Liblinear failed to converge, increase the number of iterations.\n",
      "  warnings.warn(\n"
     ]
    },
    {
     "data": {
      "text/plain": [
       "0.8113846777187396"
      ]
     },
     "execution_count": 13,
     "metadata": {},
     "output_type": "execute_result"
    }
   ],
   "source": [
    "from sklearn.ensemble import StackingRegressor\n",
    "from sklearn.linear_model import RidgeCV\n",
    "from sklearn.svm import LinearSVR\n",
    "from sklearn.ensemble import AdaBoostRegressor\n",
    "\n",
    "\n",
    "# Define base estimators\n",
    "ridge = RidgeCV()\n",
    "svr = LinearSVR(dual=\"auto\", random_state=21)\n",
    "dtr = DecisionTreeRegressor(random_state=21, max_depth=15)\n",
    "\n",
    "# Apply AdaBoost to each base estimator\n",
    "ridge_boosted = AdaBoostRegressor(estimator=ridge, random_state=0, n_estimators=100)\n",
    "svr_boosted = AdaBoostRegressor(estimator=svr, random_state=0, n_estimators=100)\n",
    "dtr_boosted = AdaBoostRegressor(estimator=dtr, random_state=0, n_estimators=100)\n",
    "\n",
    "# Now you can use these boosted estimators in your ensemble\n",
    "estimators = [ \n",
    "    ('ridge_boosted', ridge_boosted),  \n",
    "    ('svr_boosted', svr_boosted), \n",
    "    ('dtr_boosted', dtr_boosted)\n",
    "]\n",
    "\n",
    "reg = StackingRegressor( estimators=estimators, final_estimator=RandomForestRegressor(n_estimators=10, random_state=21, max_depth=12) )\n",
    "\n",
    "reg.fit(X_train, y_train).score(X_test, y_test)"
   ]
  },
  {
   "cell_type": "code",
   "execution_count": 14,
   "metadata": {},
   "outputs": [
    {
     "data": {
      "text/html": [
       "<div>\n",
       "<style scoped>\n",
       "    .dataframe tbody tr th:only-of-type {\n",
       "        vertical-align: middle;\n",
       "    }\n",
       "\n",
       "    .dataframe tbody tr th {\n",
       "        vertical-align: top;\n",
       "    }\n",
       "\n",
       "    .dataframe thead th {\n",
       "        text-align: right;\n",
       "    }\n",
       "</style>\n",
       "<table border=\"1\" class=\"dataframe\">\n",
       "  <thead>\n",
       "    <tr style=\"text-align: right;\">\n",
       "      <th></th>\n",
       "      <th>mean_fit_time</th>\n",
       "      <th>std_fit_time</th>\n",
       "      <th>mean_score_time</th>\n",
       "      <th>std_score_time</th>\n",
       "      <th>param_max_depth</th>\n",
       "      <th>param_random_state</th>\n",
       "      <th>params</th>\n",
       "      <th>split0_test_score</th>\n",
       "      <th>split1_test_score</th>\n",
       "      <th>split2_test_score</th>\n",
       "      <th>split3_test_score</th>\n",
       "      <th>split4_test_score</th>\n",
       "      <th>mean_test_score</th>\n",
       "      <th>std_test_score</th>\n",
       "      <th>rank_test_score</th>\n",
       "    </tr>\n",
       "  </thead>\n",
       "  <tbody>\n",
       "    <tr>\n",
       "      <th>239</th>\n",
       "      <td>0.143508</td>\n",
       "      <td>0.011802</td>\n",
       "      <td>0.001084</td>\n",
       "      <td>0.001467</td>\n",
       "      <td>10</td>\n",
       "      <td>8</td>\n",
       "      <td>{'max_depth': 10, 'random_state': 8}</td>\n",
       "      <td>0.655621</td>\n",
       "      <td>0.691029</td>\n",
       "      <td>0.685845</td>\n",
       "      <td>0.673280</td>\n",
       "      <td>0.700821</td>\n",
       "      <td>0.681319</td>\n",
       "      <td>0.015621</td>\n",
       "      <td>1</td>\n",
       "    </tr>\n",
       "    <tr>\n",
       "      <th>251</th>\n",
       "      <td>0.157496</td>\n",
       "      <td>0.017068</td>\n",
       "      <td>0.001498</td>\n",
       "      <td>0.002751</td>\n",
       "      <td>10</td>\n",
       "      <td>20</td>\n",
       "      <td>{'max_depth': 10, 'random_state': 20}</td>\n",
       "      <td>0.654652</td>\n",
       "      <td>0.680625</td>\n",
       "      <td>0.683388</td>\n",
       "      <td>0.676777</td>\n",
       "      <td>0.702934</td>\n",
       "      <td>0.679675</td>\n",
       "      <td>0.015429</td>\n",
       "      <td>2</td>\n",
       "    </tr>\n",
       "    <tr>\n",
       "      <th>164</th>\n",
       "      <td>0.117253</td>\n",
       "      <td>0.004696</td>\n",
       "      <td>0.001952</td>\n",
       "      <td>0.001858</td>\n",
       "      <td>8</td>\n",
       "      <td>27</td>\n",
       "      <td>{'max_depth': 8, 'random_state': 27}</td>\n",
       "      <td>0.681218</td>\n",
       "      <td>0.693028</td>\n",
       "      <td>0.663992</td>\n",
       "      <td>0.671748</td>\n",
       "      <td>0.688248</td>\n",
       "      <td>0.679647</td>\n",
       "      <td>0.010611</td>\n",
       "      <td>3</td>\n",
       "    </tr>\n",
       "    <tr>\n",
       "      <th>184</th>\n",
       "      <td>0.118346</td>\n",
       "      <td>0.004283</td>\n",
       "      <td>0.001450</td>\n",
       "      <td>0.001776</td>\n",
       "      <td>8</td>\n",
       "      <td>47</td>\n",
       "      <td>{'max_depth': 8, 'random_state': 47}</td>\n",
       "      <td>0.680727</td>\n",
       "      <td>0.694025</td>\n",
       "      <td>0.664318</td>\n",
       "      <td>0.667236</td>\n",
       "      <td>0.690217</td>\n",
       "      <td>0.679305</td>\n",
       "      <td>0.011900</td>\n",
       "      <td>4</td>\n",
       "    </tr>\n",
       "    <tr>\n",
       "      <th>245</th>\n",
       "      <td>0.137959</td>\n",
       "      <td>0.003827</td>\n",
       "      <td>0.002007</td>\n",
       "      <td>0.004014</td>\n",
       "      <td>10</td>\n",
       "      <td>14</td>\n",
       "      <td>{'max_depth': 10, 'random_state': 14}</td>\n",
       "      <td>0.655579</td>\n",
       "      <td>0.685318</td>\n",
       "      <td>0.681351</td>\n",
       "      <td>0.677908</td>\n",
       "      <td>0.695495</td>\n",
       "      <td>0.679130</td>\n",
       "      <td>0.013170</td>\n",
       "      <td>5</td>\n",
       "    </tr>\n",
       "    <tr>\n",
       "      <th>...</th>\n",
       "      <td>...</td>\n",
       "      <td>...</td>\n",
       "      <td>...</td>\n",
       "      <td>...</td>\n",
       "      <td>...</td>\n",
       "      <td>...</td>\n",
       "      <td>...</td>\n",
       "      <td>...</td>\n",
       "      <td>...</td>\n",
       "      <td>...</td>\n",
       "      <td>...</td>\n",
       "      <td>...</td>\n",
       "      <td>...</td>\n",
       "      <td>...</td>\n",
       "      <td>...</td>\n",
       "    </tr>\n",
       "    <tr>\n",
       "      <th>1029</th>\n",
       "      <td>0.252296</td>\n",
       "      <td>0.021998</td>\n",
       "      <td>0.002924</td>\n",
       "      <td>0.003036</td>\n",
       "      <td>26</td>\n",
       "      <td>46</td>\n",
       "      <td>{'max_depth': 26, 'random_state': 46}</td>\n",
       "      <td>0.560923</td>\n",
       "      <td>0.572897</td>\n",
       "      <td>0.590023</td>\n",
       "      <td>0.594332</td>\n",
       "      <td>0.596673</td>\n",
       "      <td>0.582970</td>\n",
       "      <td>0.013814</td>\n",
       "      <td>2158</td>\n",
       "    </tr>\n",
       "    <tr>\n",
       "      <th>1183</th>\n",
       "      <td>0.252808</td>\n",
       "      <td>0.018893</td>\n",
       "      <td>0.001971</td>\n",
       "      <td>0.001040</td>\n",
       "      <td>30</td>\n",
       "      <td>12</td>\n",
       "      <td>{'max_depth': 30, 'random_state': 12}</td>\n",
       "      <td>0.556692</td>\n",
       "      <td>0.566323</td>\n",
       "      <td>0.585792</td>\n",
       "      <td>0.589961</td>\n",
       "      <td>0.614473</td>\n",
       "      <td>0.582648</td>\n",
       "      <td>0.020082</td>\n",
       "      <td>2159</td>\n",
       "    </tr>\n",
       "    <tr>\n",
       "      <th>1072</th>\n",
       "      <td>0.262373</td>\n",
       "      <td>0.016475</td>\n",
       "      <td>0.004110</td>\n",
       "      <td>0.003016</td>\n",
       "      <td>27</td>\n",
       "      <td>42</td>\n",
       "      <td>{'max_depth': 27, 'random_state': 42}</td>\n",
       "      <td>0.548495</td>\n",
       "      <td>0.581016</td>\n",
       "      <td>0.584821</td>\n",
       "      <td>0.585439</td>\n",
       "      <td>0.611149</td>\n",
       "      <td>0.582184</td>\n",
       "      <td>0.019964</td>\n",
       "      <td>2160</td>\n",
       "    </tr>\n",
       "    <tr>\n",
       "      <th>1020</th>\n",
       "      <td>0.240246</td>\n",
       "      <td>0.004891</td>\n",
       "      <td>0.001621</td>\n",
       "      <td>0.001006</td>\n",
       "      <td>26</td>\n",
       "      <td>37</td>\n",
       "      <td>{'max_depth': 26, 'random_state': 37}</td>\n",
       "      <td>0.559927</td>\n",
       "      <td>0.564383</td>\n",
       "      <td>0.591397</td>\n",
       "      <td>0.585016</td>\n",
       "      <td>0.609216</td>\n",
       "      <td>0.581988</td>\n",
       "      <td>0.018087</td>\n",
       "      <td>2161</td>\n",
       "    </tr>\n",
       "    <tr>\n",
       "      <th>852</th>\n",
       "      <td>0.236245</td>\n",
       "      <td>0.010448</td>\n",
       "      <td>0.001654</td>\n",
       "      <td>0.000838</td>\n",
       "      <td>23</td>\n",
       "      <td>10</td>\n",
       "      <td>{'max_depth': 23, 'random_state': 10}</td>\n",
       "      <td>0.549420</td>\n",
       "      <td>0.559565</td>\n",
       "      <td>0.593497</td>\n",
       "      <td>0.587115</td>\n",
       "      <td>0.605828</td>\n",
       "      <td>0.579085</td>\n",
       "      <td>0.021206</td>\n",
       "      <td>2162</td>\n",
       "    </tr>\n",
       "  </tbody>\n",
       "</table>\n",
       "<p>2162 rows × 15 columns</p>\n",
       "</div>"
      ],
      "text/plain": [
       "      mean_fit_time  std_fit_time  mean_score_time  std_score_time  \\\n",
       "239        0.143508      0.011802         0.001084        0.001467   \n",
       "251        0.157496      0.017068         0.001498        0.002751   \n",
       "164        0.117253      0.004696         0.001952        0.001858   \n",
       "184        0.118346      0.004283         0.001450        0.001776   \n",
       "245        0.137959      0.003827         0.002007        0.004014   \n",
       "...             ...           ...              ...             ...   \n",
       "1029       0.252296      0.021998         0.002924        0.003036   \n",
       "1183       0.252808      0.018893         0.001971        0.001040   \n",
       "1072       0.262373      0.016475         0.004110        0.003016   \n",
       "1020       0.240246      0.004891         0.001621        0.001006   \n",
       "852        0.236245      0.010448         0.001654        0.000838   \n",
       "\n",
       "     param_max_depth param_random_state  \\\n",
       "239               10                  8   \n",
       "251               10                 20   \n",
       "164                8                 27   \n",
       "184                8                 47   \n",
       "245               10                 14   \n",
       "...              ...                ...   \n",
       "1029              26                 46   \n",
       "1183              30                 12   \n",
       "1072              27                 42   \n",
       "1020              26                 37   \n",
       "852               23                 10   \n",
       "\n",
       "                                     params  split0_test_score  \\\n",
       "239    {'max_depth': 10, 'random_state': 8}           0.655621   \n",
       "251   {'max_depth': 10, 'random_state': 20}           0.654652   \n",
       "164    {'max_depth': 8, 'random_state': 27}           0.681218   \n",
       "184    {'max_depth': 8, 'random_state': 47}           0.680727   \n",
       "245   {'max_depth': 10, 'random_state': 14}           0.655579   \n",
       "...                                     ...                ...   \n",
       "1029  {'max_depth': 26, 'random_state': 46}           0.560923   \n",
       "1183  {'max_depth': 30, 'random_state': 12}           0.556692   \n",
       "1072  {'max_depth': 27, 'random_state': 42}           0.548495   \n",
       "1020  {'max_depth': 26, 'random_state': 37}           0.559927   \n",
       "852   {'max_depth': 23, 'random_state': 10}           0.549420   \n",
       "\n",
       "      split1_test_score  split2_test_score  split3_test_score  \\\n",
       "239            0.691029           0.685845           0.673280   \n",
       "251            0.680625           0.683388           0.676777   \n",
       "164            0.693028           0.663992           0.671748   \n",
       "184            0.694025           0.664318           0.667236   \n",
       "245            0.685318           0.681351           0.677908   \n",
       "...                 ...                ...                ...   \n",
       "1029           0.572897           0.590023           0.594332   \n",
       "1183           0.566323           0.585792           0.589961   \n",
       "1072           0.581016           0.584821           0.585439   \n",
       "1020           0.564383           0.591397           0.585016   \n",
       "852            0.559565           0.593497           0.587115   \n",
       "\n",
       "      split4_test_score  mean_test_score  std_test_score  rank_test_score  \n",
       "239            0.700821         0.681319        0.015621                1  \n",
       "251            0.702934         0.679675        0.015429                2  \n",
       "164            0.688248         0.679647        0.010611                3  \n",
       "184            0.690217         0.679305        0.011900                4  \n",
       "245            0.695495         0.679130        0.013170                5  \n",
       "...                 ...              ...             ...              ...  \n",
       "1029           0.596673         0.582970        0.013814             2158  \n",
       "1183           0.614473         0.582648        0.020082             2159  \n",
       "1072           0.611149         0.582184        0.019964             2160  \n",
       "1020           0.609216         0.581988        0.018087             2161  \n",
       "852            0.605828         0.579085        0.021206             2162  \n",
       "\n",
       "[2162 rows x 15 columns]"
      ]
     },
     "execution_count": 14,
     "metadata": {},
     "output_type": "execute_result"
    }
   ],
   "source": [
    "from sklearn.model_selection import GridSearchCV\n",
    "import pandas as pd\n",
    "\n",
    "parameters = {'random_state':list(range(4, 51)), 'max_depth':list(range(5, 51))}\n",
    "\n",
    "dtr = DecisionTreeRegressor()\n",
    "clf = GridSearchCV(dtr, parameters, n_jobs=-1)\n",
    "clf.fit(X_train, y_train)\n",
    "\n",
    "df = pd.DataFrame(clf.cv_results_)\n",
    "df.sort_values(by='rank_test_score')"
   ]
  },
  {
   "cell_type": "code",
   "execution_count": 16,
   "metadata": {},
   "outputs": [
    {
     "data": {
      "text/html": [
       "<div>\n",
       "<style scoped>\n",
       "    .dataframe tbody tr th:only-of-type {\n",
       "        vertical-align: middle;\n",
       "    }\n",
       "\n",
       "    .dataframe tbody tr th {\n",
       "        vertical-align: top;\n",
       "    }\n",
       "\n",
       "    .dataframe thead th {\n",
       "        text-align: right;\n",
       "    }\n",
       "</style>\n",
       "<table border=\"1\" class=\"dataframe\">\n",
       "  <thead>\n",
       "    <tr style=\"text-align: right;\">\n",
       "      <th></th>\n",
       "      <th>mean_fit_time</th>\n",
       "      <th>std_fit_time</th>\n",
       "      <th>mean_score_time</th>\n",
       "      <th>std_score_time</th>\n",
       "      <th>param_bootstrap</th>\n",
       "      <th>param_n_jobs</th>\n",
       "      <th>param_random_state</th>\n",
       "      <th>params</th>\n",
       "      <th>split0_test_score</th>\n",
       "      <th>split1_test_score</th>\n",
       "      <th>split2_test_score</th>\n",
       "      <th>split3_test_score</th>\n",
       "      <th>split4_test_score</th>\n",
       "      <th>mean_test_score</th>\n",
       "      <th>std_test_score</th>\n",
       "      <th>rank_test_score</th>\n",
       "    </tr>\n",
       "  </thead>\n",
       "  <tbody>\n",
       "    <tr>\n",
       "      <th>14</th>\n",
       "      <td>0.168148</td>\n",
       "      <td>0.019381</td>\n",
       "      <td>0.026524</td>\n",
       "      <td>0.004920</td>\n",
       "      <td>True</td>\n",
       "      <td>-1</td>\n",
       "      <td>34</td>\n",
       "      <td>{'bootstrap': True, 'n_jobs': -1, 'random_stat...</td>\n",
       "      <td>0.788279</td>\n",
       "      <td>0.782279</td>\n",
       "      <td>0.766094</td>\n",
       "      <td>0.775729</td>\n",
       "      <td>0.794858</td>\n",
       "      <td>0.781448</td>\n",
       "      <td>0.009956</td>\n",
       "      <td>1</td>\n",
       "    </tr>\n",
       "    <tr>\n",
       "      <th>17</th>\n",
       "      <td>0.167585</td>\n",
       "      <td>0.003541</td>\n",
       "      <td>0.028639</td>\n",
       "      <td>0.005333</td>\n",
       "      <td>True</td>\n",
       "      <td>-1</td>\n",
       "      <td>37</td>\n",
       "      <td>{'bootstrap': True, 'n_jobs': -1, 'random_stat...</td>\n",
       "      <td>0.783456</td>\n",
       "      <td>0.772154</td>\n",
       "      <td>0.782001</td>\n",
       "      <td>0.775796</td>\n",
       "      <td>0.792305</td>\n",
       "      <td>0.781142</td>\n",
       "      <td>0.006929</td>\n",
       "      <td>2</td>\n",
       "    </tr>\n",
       "    <tr>\n",
       "      <th>19</th>\n",
       "      <td>0.165366</td>\n",
       "      <td>0.006486</td>\n",
       "      <td>0.024383</td>\n",
       "      <td>0.004326</td>\n",
       "      <td>True</td>\n",
       "      <td>-1</td>\n",
       "      <td>39</td>\n",
       "      <td>{'bootstrap': True, 'n_jobs': -1, 'random_stat...</td>\n",
       "      <td>0.785870</td>\n",
       "      <td>0.780831</td>\n",
       "      <td>0.772264</td>\n",
       "      <td>0.777190</td>\n",
       "      <td>0.785631</td>\n",
       "      <td>0.780357</td>\n",
       "      <td>0.005176</td>\n",
       "      <td>3</td>\n",
       "    </tr>\n",
       "    <tr>\n",
       "      <th>30</th>\n",
       "      <td>0.158126</td>\n",
       "      <td>0.006887</td>\n",
       "      <td>0.024138</td>\n",
       "      <td>0.004255</td>\n",
       "      <td>True</td>\n",
       "      <td>-1</td>\n",
       "      <td>50</td>\n",
       "      <td>{'bootstrap': True, 'n_jobs': -1, 'random_stat...</td>\n",
       "      <td>0.789085</td>\n",
       "      <td>0.775420</td>\n",
       "      <td>0.773077</td>\n",
       "      <td>0.772015</td>\n",
       "      <td>0.791815</td>\n",
       "      <td>0.780283</td>\n",
       "      <td>0.008419</td>\n",
       "      <td>4</td>\n",
       "    </tr>\n",
       "    <tr>\n",
       "      <th>22</th>\n",
       "      <td>0.158998</td>\n",
       "      <td>0.009240</td>\n",
       "      <td>0.023603</td>\n",
       "      <td>0.004197</td>\n",
       "      <td>True</td>\n",
       "      <td>-1</td>\n",
       "      <td>42</td>\n",
       "      <td>{'bootstrap': True, 'n_jobs': -1, 'random_stat...</td>\n",
       "      <td>0.785337</td>\n",
       "      <td>0.776581</td>\n",
       "      <td>0.772954</td>\n",
       "      <td>0.768331</td>\n",
       "      <td>0.796241</td>\n",
       "      <td>0.779889</td>\n",
       "      <td>0.009897</td>\n",
       "      <td>5</td>\n",
       "    </tr>\n",
       "    <tr>\n",
       "      <th>...</th>\n",
       "      <td>...</td>\n",
       "      <td>...</td>\n",
       "      <td>...</td>\n",
       "      <td>...</td>\n",
       "      <td>...</td>\n",
       "      <td>...</td>\n",
       "      <td>...</td>\n",
       "      <td>...</td>\n",
       "      <td>...</td>\n",
       "      <td>...</td>\n",
       "      <td>...</td>\n",
       "      <td>...</td>\n",
       "      <td>...</td>\n",
       "      <td>...</td>\n",
       "      <td>...</td>\n",
       "      <td>...</td>\n",
       "    </tr>\n",
       "    <tr>\n",
       "      <th>60</th>\n",
       "      <td>0.242168</td>\n",
       "      <td>0.011619</td>\n",
       "      <td>0.145684</td>\n",
       "      <td>0.001267</td>\n",
       "      <td>False</td>\n",
       "      <td>-1</td>\n",
       "      <td>49</td>\n",
       "      <td>{'bootstrap': False, 'n_jobs': -1, 'random_sta...</td>\n",
       "      <td>0.590925</td>\n",
       "      <td>0.600492</td>\n",
       "      <td>0.616969</td>\n",
       "      <td>0.624127</td>\n",
       "      <td>0.637991</td>\n",
       "      <td>0.614101</td>\n",
       "      <td>0.016744</td>\n",
       "      <td>58</td>\n",
       "    </tr>\n",
       "    <tr>\n",
       "      <th>48</th>\n",
       "      <td>0.248534</td>\n",
       "      <td>0.013308</td>\n",
       "      <td>0.144690</td>\n",
       "      <td>0.001020</td>\n",
       "      <td>False</td>\n",
       "      <td>-1</td>\n",
       "      <td>37</td>\n",
       "      <td>{'bootstrap': False, 'n_jobs': -1, 'random_sta...</td>\n",
       "      <td>0.590028</td>\n",
       "      <td>0.599280</td>\n",
       "      <td>0.619804</td>\n",
       "      <td>0.621742</td>\n",
       "      <td>0.638388</td>\n",
       "      <td>0.613848</td>\n",
       "      <td>0.017203</td>\n",
       "      <td>59</td>\n",
       "    </tr>\n",
       "    <tr>\n",
       "      <th>53</th>\n",
       "      <td>0.254132</td>\n",
       "      <td>0.009830</td>\n",
       "      <td>0.148759</td>\n",
       "      <td>0.004636</td>\n",
       "      <td>False</td>\n",
       "      <td>-1</td>\n",
       "      <td>42</td>\n",
       "      <td>{'bootstrap': False, 'n_jobs': -1, 'random_sta...</td>\n",
       "      <td>0.589390</td>\n",
       "      <td>0.598321</td>\n",
       "      <td>0.622245</td>\n",
       "      <td>0.623778</td>\n",
       "      <td>0.634931</td>\n",
       "      <td>0.613733</td>\n",
       "      <td>0.017046</td>\n",
       "      <td>60</td>\n",
       "    </tr>\n",
       "    <tr>\n",
       "      <th>34</th>\n",
       "      <td>0.252508</td>\n",
       "      <td>0.004007</td>\n",
       "      <td>0.149753</td>\n",
       "      <td>0.005934</td>\n",
       "      <td>False</td>\n",
       "      <td>-1</td>\n",
       "      <td>23</td>\n",
       "      <td>{'bootstrap': False, 'n_jobs': -1, 'random_sta...</td>\n",
       "      <td>0.592059</td>\n",
       "      <td>0.598467</td>\n",
       "      <td>0.615734</td>\n",
       "      <td>0.619774</td>\n",
       "      <td>0.641040</td>\n",
       "      <td>0.613415</td>\n",
       "      <td>0.017254</td>\n",
       "      <td>61</td>\n",
       "    </tr>\n",
       "    <tr>\n",
       "      <th>52</th>\n",
       "      <td>0.256599</td>\n",
       "      <td>0.005931</td>\n",
       "      <td>0.147919</td>\n",
       "      <td>0.006381</td>\n",
       "      <td>False</td>\n",
       "      <td>-1</td>\n",
       "      <td>41</td>\n",
       "      <td>{'bootstrap': False, 'n_jobs': -1, 'random_sta...</td>\n",
       "      <td>0.590042</td>\n",
       "      <td>0.597911</td>\n",
       "      <td>0.615343</td>\n",
       "      <td>0.625260</td>\n",
       "      <td>0.631711</td>\n",
       "      <td>0.612053</td>\n",
       "      <td>0.015850</td>\n",
       "      <td>62</td>\n",
       "    </tr>\n",
       "  </tbody>\n",
       "</table>\n",
       "<p>62 rows × 16 columns</p>\n",
       "</div>"
      ],
      "text/plain": [
       "    mean_fit_time  std_fit_time  mean_score_time  std_score_time  \\\n",
       "14       0.168148      0.019381         0.026524        0.004920   \n",
       "17       0.167585      0.003541         0.028639        0.005333   \n",
       "19       0.165366      0.006486         0.024383        0.004326   \n",
       "30       0.158126      0.006887         0.024138        0.004255   \n",
       "22       0.158998      0.009240         0.023603        0.004197   \n",
       "..            ...           ...              ...             ...   \n",
       "60       0.242168      0.011619         0.145684        0.001267   \n",
       "48       0.248534      0.013308         0.144690        0.001020   \n",
       "53       0.254132      0.009830         0.148759        0.004636   \n",
       "34       0.252508      0.004007         0.149753        0.005934   \n",
       "52       0.256599      0.005931         0.147919        0.006381   \n",
       "\n",
       "   param_bootstrap param_n_jobs param_random_state  \\\n",
       "14            True           -1                 34   \n",
       "17            True           -1                 37   \n",
       "19            True           -1                 39   \n",
       "30            True           -1                 50   \n",
       "22            True           -1                 42   \n",
       "..             ...          ...                ...   \n",
       "60           False           -1                 49   \n",
       "48           False           -1                 37   \n",
       "53           False           -1                 42   \n",
       "34           False           -1                 23   \n",
       "52           False           -1                 41   \n",
       "\n",
       "                                               params  split0_test_score  \\\n",
       "14  {'bootstrap': True, 'n_jobs': -1, 'random_stat...           0.788279   \n",
       "17  {'bootstrap': True, 'n_jobs': -1, 'random_stat...           0.783456   \n",
       "19  {'bootstrap': True, 'n_jobs': -1, 'random_stat...           0.785870   \n",
       "30  {'bootstrap': True, 'n_jobs': -1, 'random_stat...           0.789085   \n",
       "22  {'bootstrap': True, 'n_jobs': -1, 'random_stat...           0.785337   \n",
       "..                                                ...                ...   \n",
       "60  {'bootstrap': False, 'n_jobs': -1, 'random_sta...           0.590925   \n",
       "48  {'bootstrap': False, 'n_jobs': -1, 'random_sta...           0.590028   \n",
       "53  {'bootstrap': False, 'n_jobs': -1, 'random_sta...           0.589390   \n",
       "34  {'bootstrap': False, 'n_jobs': -1, 'random_sta...           0.592059   \n",
       "52  {'bootstrap': False, 'n_jobs': -1, 'random_sta...           0.590042   \n",
       "\n",
       "    split1_test_score  split2_test_score  split3_test_score  \\\n",
       "14           0.782279           0.766094           0.775729   \n",
       "17           0.772154           0.782001           0.775796   \n",
       "19           0.780831           0.772264           0.777190   \n",
       "30           0.775420           0.773077           0.772015   \n",
       "22           0.776581           0.772954           0.768331   \n",
       "..                ...                ...                ...   \n",
       "60           0.600492           0.616969           0.624127   \n",
       "48           0.599280           0.619804           0.621742   \n",
       "53           0.598321           0.622245           0.623778   \n",
       "34           0.598467           0.615734           0.619774   \n",
       "52           0.597911           0.615343           0.625260   \n",
       "\n",
       "    split4_test_score  mean_test_score  std_test_score  rank_test_score  \n",
       "14           0.794858         0.781448        0.009956                1  \n",
       "17           0.792305         0.781142        0.006929                2  \n",
       "19           0.785631         0.780357        0.005176                3  \n",
       "30           0.791815         0.780283        0.008419                4  \n",
       "22           0.796241         0.779889        0.009897                5  \n",
       "..                ...              ...             ...              ...  \n",
       "60           0.637991         0.614101        0.016744               58  \n",
       "48           0.638388         0.613848        0.017203               59  \n",
       "53           0.634931         0.613733        0.017046               60  \n",
       "34           0.641040         0.613415        0.017254               61  \n",
       "52           0.631711         0.612053        0.015850               62  \n",
       "\n",
       "[62 rows x 16 columns]"
      ]
     },
     "execution_count": 16,
     "metadata": {},
     "output_type": "execute_result"
    }
   ],
   "source": [
    "parameters = {'bootstrap':[True, False], 'random_state':list(range(20, 51)), 'n_jobs':[-1]}\n",
    "\n",
    "dtr = BaggingRegressor()\n",
    "clf = GridSearchCV(dtr, parameters)\n",
    "clf.fit(X_train, y_train)\n",
    "\n",
    "df = pd.DataFrame(clf.cv_results_)\n",
    "df.sort_values(by='rank_test_score')"
   ]
  },
  {
   "cell_type": "markdown",
   "metadata": {},
   "source": [
    "and here i use baggingregression to see what that does. and it isn't better or worse than the rest so. don't know how it will work in other datasets though"
   ]
  },
  {
   "cell_type": "code",
   "execution_count": 17,
   "metadata": {},
   "outputs": [
    {
     "data": {
      "text/plain": [
       "0.7953496000281135"
      ]
     },
     "execution_count": 17,
     "metadata": {},
     "output_type": "execute_result"
    }
   ],
   "source": [
    "model = BaggingRegressor()\n",
    "\n",
    "model.fit(X_train, y_train).score(X_test, y_test)"
   ]
  }
 ],
 "metadata": {
  "kernelspec": {
   "display_name": "ai4",
   "language": "python",
   "name": "python3"
  },
  "language_info": {
   "codemirror_mode": {
    "name": "ipython",
    "version": 3
   },
   "file_extension": ".py",
   "mimetype": "text/x-python",
   "name": "python",
   "nbconvert_exporter": "python",
   "pygments_lexer": "ipython3",
   "version": "3.11.9"
  },
  "vscode": {
   "interpreter": {
    "hash": "8d90f0983be1ef93a393dd26ac4b5f2b3e279b7688d93e5762afc622c8c2430b"
   }
  }
 },
 "nbformat": 4,
 "nbformat_minor": 1
}
